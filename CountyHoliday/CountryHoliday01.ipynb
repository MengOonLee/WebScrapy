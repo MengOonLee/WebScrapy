{
  "cells": [
    {
      "cell_type": "markdown",
      "metadata": {
        "id": "view-in-github",
        "colab_type": "text"
      },
      "source": [
        "<a href=\"https://colab.research.google.com/github/MengOonLee/WebScrapy/blob/master/CountyHoliday/CountryHoliday01.ipynb\" target=\"_parent\"><img src=\"https://colab.research.google.com/assets/colab-badge.svg\" alt=\"Open In Colab\"/></a>"
      ]
    },
    {
      "cell_type": "code",
      "execution_count": null,
      "id": "7a964949-00a5-474f-8c45-b19f3057ed67",
      "metadata": {
        "id": "7a964949-00a5-474f-8c45-b19f3057ed67"
      },
      "outputs": [],
      "source": [
        "%%bash\n",
        "pip install --no-cache-dir -qU scrapy"
      ]
    },
    {
      "cell_type": "code",
      "execution_count": null,
      "id": "tOuuSrO2-fQY",
      "metadata": {
        "id": "tOuuSrO2-fQY"
      },
      "outputs": [],
      "source": [
        "%%bash\n",
        "rm -rf Data"
      ]
    },
    {
      "cell_type": "code",
      "source": [
        "import os\n",
        "import pathlib\n",
        "import scrapy\n",
        "from scrapy.crawler import CrawlerProcess\n",
        "from scrapy.loader import ItemLoader\n",
        "from itemloaders.processors import MapCompose, TakeFirst\n",
        "from w3lib.html import remove_tags\n",
        "import time\n",
        "\n",
        "input_dir = os.path.join(\".\", \"Data/Input\")\n",
        "os.makedirs(input_dir, exist_ok=True)\n",
        "\n",
        "output_dir = os.path.join(\".\", \"Data/Output\")\n",
        "os.makedirs(output_dir, exist_ok=True)\n",
        "\n",
        "class HolidayItem(scrapy.Item):\n",
        "    country = scrapy.Field(\n",
        "        input_processor=MapCompose(remove_tags),\n",
        "        output_processor=TakeFirst()\n",
        "    )\n",
        "\n",
        "class HolidaySpider(scrapy.Spider):\n",
        "    name = \"Holiday\"\n",
        "\n",
        "    def start_requests(self):\n",
        "        urls = [\n",
        "            \"https://www.timeanddate.com/holidays/\"\n",
        "            # f\"file://{os.getcwd()}/{input_dir}/main.html\"\n",
        "        ]\n",
        "        for url in urls:\n",
        "            yield scrapy.Request(url=url, callback=self.parse_main)\n",
        "\n",
        "    def parse_main(self, response):\n",
        "        for s in response.css(\"ul.category-list__list > li\"):\n",
        "            time.sleep(5)\n",
        "            self.country = s.css(\"::text\").get()\n",
        "            url = s.xpath(\"./a/@href\").get()\n",
        "            if url is not None:\n",
        "                yield response.follow(url=url, callback=self.parse_country)\n",
        "\n",
        "    def parse_country(self, response):\n",
        "        print(self.country)\n",
        "        # l = ItemLoader(item=HolidayItem(), selector=response)\n",
        "        # l.add_value(\"country\", self.country)\n",
        "        # yield l.load_item()\n",
        "        # country_dir = os.path.join(input_dir, self.country)\n",
        "        # filename = os.path.join(country_dir, \"main.html\")\n",
        "        # filename = os.path.join(input_dir, \"main.html\")\n",
        "        # pathlib.Path(filename).write_bytes(response.body)\n",
        "        # self.log(f\"Saved file: {filename}\")\n",
        "\n",
        "process = CrawlerProcess()\n",
        "process.crawl(HolidaySpider)\n",
        "process.start()"
      ],
      "metadata": {
        "id": "oXxouvpyxTaM"
      },
      "id": "oXxouvpyxTaM",
      "execution_count": null,
      "outputs": []
    },
    {
      "cell_type": "code",
      "execution_count": null,
      "id": "26bf8e3c-7a06-4a4c-9e93-7bbe0636b57a",
      "metadata": {
        "id": "26bf8e3c-7a06-4a4c-9e93-7bbe0636b57a",
        "scrolled": true
      },
      "outputs": [],
      "source": [
        "import os\n",
        "import time\n",
        "import pathlib\n",
        "import scrapy\n",
        "from scrapy.crawler import CrawlerProcess\n",
        "\n",
        "class HtmlSpider(scrapy.Spider):\n",
        "    name = \"html\"\n",
        "\n",
        "    def start_requests(self):\n",
        "        urls = [\"https://www.timeanddate.com/holidays\"]\n",
        "        for url in urls:\n",
        "            yield scrapy.Request(url=url, callback=self.parse_front)\n",
        "\n",
        "    def parse_front(self, response):\n",
        "        self.input_dir = os.path.join(os.getcwd(), 'Data/Input')\n",
        "        os.makedirs(self.input_dir, exist_ok=True)\n",
        "\n",
        "        page = response.url.split(\"/\")[-2]\n",
        "        filename = f\"{self.input_dir}/{page}.html\"\n",
        "        pathlib.Path(filename).write_bytes(response.body)\n",
        "        self.log(f\"Saved file {filename}\")\n",
        "\n",
        "        for country in response.css('ul.category-list__list > li'):\n",
        "            time.sleep(3)\n",
        "            country_name = country.xpath(\".//text()\").get()\n",
        "            self.country_dir = os.path.join(self.input_dir, country_name)\n",
        "            os.makedirs(self.country_dir, exist_ok=True)\n",
        "\n",
        "            url = country.xpath(\"./a/@href\").get()\n",
        "            url = url + \"2023?hol=1\"\n",
        "            print(country_name, url)\n",
        "            if url is not None:\n",
        "                yield response.follow(url=url, callback=self.parse_page)\n",
        "\n",
        "    def parse_page(self, response):\n",
        "        filename = f\"{self.country_dir}/2023.html\"\n",
        "        pathlib.Path(filename).write_bytes(response.body)\n",
        "        self.log(f\"Saved file {filename}\")\n",
        "\n",
        "process = CrawlerProcess()\n",
        "process.crawl(HtmlSpider)\n",
        "process.start()"
      ]
    },
    {
      "cell_type": "code",
      "execution_count": null,
      "id": "pD09tUU04W_S",
      "metadata": {
        "id": "pD09tUU04W_S",
        "scrolled": true
      },
      "outputs": [],
      "source": [
        "import os\n",
        "import scrapy\n",
        "\n",
        "input_dir = \"./Data/Input\"\n",
        "with open(os.path.join(input_dir, 'front.html'), 'r') as file:\n",
        "  html = file.read()\n",
        "\n",
        "sel = scrapy.Selector(text=html)\n",
        "blocks = sel.css(\"ul.category-list__list > li\")\n",
        "countries = blocks.xpath(\".//text()\").getall()\n",
        "links = blocks.xpath(\"./a/@href\").getall()\n",
        "links"
      ]
    },
    {
      "cell_type": "code",
      "execution_count": null,
      "id": "b58292cf-328b-4ac5-98b8-a6b78fa3cbfc",
      "metadata": {
        "id": "b58292cf-328b-4ac5-98b8-a6b78fa3cbfc",
        "scrolled": true
      },
      "outputs": [],
      "source": [
        "import os\n",
        "import scrapy\n",
        "from scrapy.crawler import CrawlerProcess\n",
        "from scrapy.loader import ItemLoader\n",
        "from itemloaders.processors import MapCompose, TakeFirst\n",
        "from w3lib.html import remove_tags\n",
        "\n",
        "base_dir = os.getcwd()\n",
        "input_dir = \"Data/Input\"\n",
        "output_dir = \"Data/Output\"\n",
        "\n",
        "class HolidayItem(scrapy.Item):\n",
        "    country = scrapy.Field(\n",
        "        input_processor=MapCompose(remove_tags),\n",
        "        output_processor=TakeFirst()\n",
        "    )\n",
        "\n",
        "\n",
        "class HolidaysSpider(scrapy.Spider):\n",
        "    name = 'Holidays'\n",
        "\n",
        "    def start_requests(self):\n",
        "        urls = [\n",
        "            f\"file://{base_dir}/{input_dir}/front.html\"\n",
        "        ]\n",
        "        for url in urls:\n",
        "            yield scrapy.Request(url=url, callback=self.parse_front)\n",
        "\n",
        "    def parse_front(self, response):\n",
        "        for country in response.css('ul.category-list__list > li'):\n",
        "            l = ItemLoader(item=HolidayItem(), selector=country)\n",
        "            l.add_xpath(\"country\", \".//text()\")\n",
        "            link = country.xpath(\"./a/@href\").get()\n",
        "            link = link + \"/2023?hol=1\"\n",
        "            print(link)\n",
        "            yield l.load_item()\n",
        "\n",
        "    # def parse_pages(self, response):\n",
        "    #     tables = response.css('table#holidays-table')\n",
        "    #     dates = tables.xpath('.//th[@class=\"nw\"]/text()').getall()\n",
        "    #     print(dates)\n",
        "\n",
        "process = CrawlerProcess(\n",
        "    settings={\n",
        "        \"FEEDS\":{f\"{base_dir}/{output_dir}/holiday.jl\":{\"format\":\"jsonlines\"}}\n",
        "    }\n",
        ")\n",
        "process.crawl(HolidaysSpider)\n",
        "process.start()"
      ]
    },
    {
      "cell_type": "code",
      "execution_count": null,
      "id": "5969b5da-302f-4bcb-a4dd-60185141968d",
      "metadata": {
        "id": "5969b5da-302f-4bcb-a4dd-60185141968d"
      },
      "outputs": [],
      "source": [
        "import scrapy\n",
        "import requests\n",
        "\n",
        "url = 'https://www.timeanddate.com/holidays/afghanistan/2023?hol=1'\n",
        "html = requests.get(url).content\n",
        "\n",
        "sel = scrapy.Selector(text=html)\n",
        "tables = sel.css('table#holidays-table')\n",
        "tables\n",
        "# dates = sel.css('th.nw::text').extract()\n",
        "# holidays = sel.css('td > a::text').extract()\n"
      ]
    },
    {
      "cell_type": "code",
      "execution_count": null,
      "id": "ee57bab2-8cba-47b7-8c17-c39f9ce5c356",
      "metadata": {
        "id": "ee57bab2-8cba-47b7-8c17-c39f9ce5c356"
      },
      "outputs": [],
      "source": []
    }
  ],
  "metadata": {
    "colab": {
      "name": "CountryHoliday.ipynb",
      "provenance": [],
      "include_colab_link": true
    },
    "kernelspec": {
      "display_name": "Python 3 (ipykernel)",
      "language": "python",
      "name": "python3"
    },
    "language_info": {
      "codemirror_mode": {
        "name": "ipython",
        "version": 3
      },
      "file_extension": ".py",
      "mimetype": "text/x-python",
      "name": "python",
      "nbconvert_exporter": "python",
      "pygments_lexer": "ipython3",
      "version": "3.8.10"
    }
  },
  "nbformat": 4,
  "nbformat_minor": 5
}