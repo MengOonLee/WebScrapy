{
  "cells": [
    {
      "cell_type": "markdown",
      "metadata": {
        "id": "view-in-github",
        "colab_type": "text"
      },
      "source": [
        "<a href=\"https://colab.research.google.com/github/MengOonLee/WebScrapy/blob/master/CountryHoliday/CountryHoliday.ipynb\" target=\"_parent\"><img src=\"https://colab.research.google.com/assets/colab-badge.svg\" alt=\"Open In Colab\"/></a>"
      ]
    },
    {
      "cell_type": "code",
      "execution_count": null,
      "id": "7a964949-00a5-474f-8c45-b19f3057ed67",
      "metadata": {
        "id": "7a964949-00a5-474f-8c45-b19f3057ed67"
      },
      "outputs": [],
      "source": [
        "%%bash\n",
        "pip install --no-cache-dir -qU scrapy selenium"
      ]
    },
    {
      "cell_type": "code",
      "execution_count": null,
      "id": "ee57bab2-8cba-47b7-8c17-c39f9ce5c356",
      "metadata": {
        "id": "ee57bab2-8cba-47b7-8c17-c39f9ce5c356"
      },
      "outputs": [],
      "source": [
        "%%writefile CountryHoliday.py\n",
        "from selenium import webdriver\n",
        "import scrapy\n",
        "\n",
        "class CountryHolidaySpider(scrapy.Spider):\n",
        "    name = \"CountryHoliday\"\n",
        "    def __init__(self, **kwargs):\n",
        "        super().__init__(**kwargs)\n",
        "        options = webdriver.chrome.options.Options()\n",
        "        options.add_argument(\"--headless\")\n",
        "        options.add_argument(\"--no-sandbox\")\n",
        "        options.add_argument(\"--enable-javascript\")\n",
        "        options.add_argument(\"--disable-cookies\")\n",
        "        options.add_argument(\"--disable-notifications\")\n",
        "        options.add_argument(\"--disable-web-security\")\n",
        "        options.add_argument(\"--incognito\")\n",
        "        self.driver = webdriver.Chrome(options=options)\n",
        "\n",
        "    def start_request(self):\n",
        "        urls = [\"https://www.timeanddate.com/holidays/?allcountries\"]\n",
        "        for url in urls:\n",
        "            request = scrapy.Request(url=url, callback=self.parse_country)\n",
        "            yield request\n",
        "\n",
        "    def parse_country(self, response):\n",
        "        self.driver.get(response.url)"
      ]
    },
    {
      "cell_type": "code",
      "source": [
        "from selenium import webdriver\n",
        "from selenium.webdriver.support import wait, expected_conditions\n",
        "from selenium.webdriver.common.by import By\n",
        "import scrapy\n",
        "\n",
        "options = webdriver.chrome.options.Options()\n",
        "options.add_argument(\"--headless\")\n",
        "options.add_argument(\"--no-sandbox\")\n",
        "options.add_argument(\"--enable-javascript\")\n",
        "options.add_argument(\"--disable-cookies\")\n",
        "options.add_argument(\"--disable-notifications\")\n",
        "options.add_argument(\"--disable-web-security\")\n",
        "options.add_argument(\"--incognito\")\n",
        "driver = webdriver.Chrome(options=options)\n",
        "\n",
        "url = \"https://www.timeanddate.com/holidays/?allcountries\"\n",
        "driver.get(url)\n",
        "\n",
        "# wait.WebDriverWait(driver, timeout=10).until(\n",
        "#     expected_conditions.presence_of_element_located(\n",
        "#     (By.XPATH, \"div[@class='collapsible__content']\")))\n",
        "\n",
        "selector = scrapy.Selector(text=driver.page_source)\n",
        "countries = selector.css(\"ul.categorylist__list ::text\").getall()\n",
        "print(countries)\n",
        "driver.close()"
      ],
      "metadata": {
        "id": "3sAD3CNA3_qs",
        "outputId": "03472c93-50c3-478c-84a4-a3eb430b84dd",
        "colab": {
          "base_uri": "https://localhost:8080/"
        }
      },
      "id": "3sAD3CNA3_qs",
      "execution_count": 4,
      "outputs": [
        {
          "output_type": "stream",
          "name": "stdout",
          "text": [
            "[]\n"
          ]
        }
      ]
    }
  ],
  "metadata": {
    "colab": {
      "name": "CountryHoliday.ipynb",
      "provenance": [],
      "include_colab_link": true
    },
    "kernelspec": {
      "display_name": "Python 3 (ipykernel)",
      "language": "python",
      "name": "python3"
    },
    "language_info": {
      "codemirror_mode": {
        "name": "ipython",
        "version": 3
      },
      "file_extension": ".py",
      "mimetype": "text/x-python",
      "name": "python",
      "nbconvert_exporter": "python",
      "pygments_lexer": "ipython3",
      "version": "3.8.10"
    }
  },
  "nbformat": 4,
  "nbformat_minor": 5
}