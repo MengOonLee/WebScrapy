{
  "cells": [
    {
      "cell_type": "markdown",
      "metadata": {
        "id": "view-in-github",
        "colab_type": "text"
      },
      "source": [
        "<a href=\"https://colab.research.google.com/github/MengOonLee/WebScrapy/blob/master/CountryHoliday/CountryHoliday.ipynb\" target=\"_parent\"><img src=\"https://colab.research.google.com/assets/colab-badge.svg\" alt=\"Open In Colab\"/></a>"
      ]
    },
    {
      "cell_type": "code",
      "execution_count": null,
      "id": "7a964949-00a5-474f-8c45-b19f3057ed67",
      "metadata": {
        "id": "7a964949-00a5-474f-8c45-b19f3057ed67"
      },
      "outputs": [],
      "source": [
        "%%bash\n",
        "pip install --no-cache-dir -qU scrapy selenium"
      ]
    },
    {
      "cell_type": "code",
      "execution_count": null,
      "id": "ee57bab2-8cba-47b7-8c17-c39f9ce5c356",
      "metadata": {
        "id": "ee57bab2-8cba-47b7-8c17-c39f9ce5c356",
        "colab": {
          "base_uri": "https://localhost:8080/"
        },
        "outputId": "e49d497a-525a-46f9-e55e-029a42013aa3"
      },
      "outputs": [
        {
          "output_type": "stream",
          "name": "stdout",
          "text": [
            "Overwriting CountryHoliday.py\n"
          ]
        }
      ],
      "source": [
        "%%writefile CountryHoliday.py\n",
        "import time\n",
        "import logging\n",
        "logging.getLogger().setLevel(logging.ERROR)\n",
        "from selenium import webdriver\n",
        "from selenium.webdriver.common.by import By\n",
        "from selenium.webdriver.support import wait, expected_conditions\n",
        "import scrapy\n",
        "from scrapy import crawler\n",
        "\n",
        "class CountryHolidaySpider(scrapy.Spider):\n",
        "    name = \"CountryHoliday\"\n",
        "    def __init__(self, year, **kwargs):\n",
        "        super().__init__(**kwargs)\n",
        "        options = webdriver.chrome.options.Options()\n",
        "        options.add_argument(\"--headless\")\n",
        "        options.add_argument(\"--no-sandbox\")\n",
        "        options.add_argument(\"--enable-javascript\")\n",
        "        options.add_argument(\"--disable-cookies\")\n",
        "        options.add_argument(\"--disable-notifications\")\n",
        "        options.add_argument(\"--disable-web-security\")\n",
        "        options.add_argument(\"--incognito\")\n",
        "        self.driver = webdriver.Chrome(options=options)\n",
        "        self.year = year\n",
        "\n",
        "    def start_requests(self):\n",
        "        urls = [\n",
        "            \"https://www.timeanddate.com/holidays/?allcountries\"\n",
        "        ]\n",
        "        for url in urls:\n",
        "            request = scrapy.Request(url=url, callback=self.parse_country)\n",
        "            yield request\n",
        "\n",
        "    def parse_country(self, response):\n",
        "        self.driver.get(response.url)\n",
        "\n",
        "        wait.WebDriverWait(self.driver, timeout=10)\\\n",
        "        .until(expected_conditions.presence_of_element_located(\n",
        "            (By.XPATH, \"//article[@class='category-list']\")))\n",
        "\n",
        "        selector = scrapy.Selector(text=self.driver.page_source)\n",
        "        for row in selector.css(\"ul.category-list__list > li\"):\n",
        "            time.sleep(10)\n",
        "            country = row.css(\"::text\").get()\n",
        "            link = row.css(\"a::attr(href)\").get()\n",
        "\n",
        "            if link is not None:\n",
        "                link = \"https://www.timeanddate.com\" + link \\\n",
        "                    + f\"{self.year}?hol=1\"\n",
        "                yield scrapy.Request(link, callback=self.parse_holiday,\n",
        "                    meta={\"country\":country})\n",
        "\n",
        "    def parse_holiday(self, response):\n",
        "        self.driver.get(response.url)\n",
        "\n",
        "        wait.WebDriverWait(self.driver, timeout=10)\\\n",
        "        .until(expected_conditions.presence_of_element_located(\n",
        "            (By.XPATH, \"//table[@id='holidays-table']\")))\n",
        "\n",
        "        selector = scrapy.Selector(text=self.driver.page_source)\n",
        "        for row in selector.css(\"tr.showrow\"):\n",
        "            info = row.css(\"::text\").getall()\n",
        "            daily_period = info[0] + f\" {self.year}\"\n",
        "            holiday = info[2]\n",
        "            yield {\n",
        "                \"CountryName\":response.meta[\"country\"],\n",
        "                \"Daily_Period\":daily_period,\n",
        "                \"Holiday\":holiday\n",
        "            }\n",
        "\n",
        "process = crawler.CrawlerProcess(\n",
        "    settings={\"FEEDS\":{\"items.jl\":{\"format\":\"jsonlines\"}}}\n",
        ")\n",
        "process.crawl(CountryHolidaySpider, year=\"2025\")\n",
        "process.start()"
      ]
    },
    {
      "cell_type": "code",
      "source": [
        "%%bash\n",
        "python CountryHoliday.py"
      ],
      "metadata": {
        "id": "69Jo98GmhwdO",
        "collapsed": true
      },
      "id": "69Jo98GmhwdO",
      "execution_count": null,
      "outputs": []
    },
    {
      "cell_type": "code",
      "source": [
        "from selenium import webdriver\n",
        "from selenium.webdriver.support import wait, expected_conditions\n",
        "from selenium.webdriver.common.by import By\n",
        "import scrapy\n",
        "import datetime\n",
        "\n",
        "options = webdriver.chrome.options.Options()\n",
        "options.add_argument(\"--headless\")\n",
        "options.add_argument(\"--no-sandbox\")\n",
        "options.add_argument(\"--enable-javascript\")\n",
        "options.add_argument(\"--disable-cookies\")\n",
        "options.add_argument(\"--disable-notifications\")\n",
        "options.add_argument(\"--disable-web-security\")\n",
        "options.add_argument(\"--incognito\")\n",
        "driver = webdriver.Chrome(options=options)\n",
        "\n",
        "url = \"https://www.timeanddate.com/holidays/afghanistan/2024?hol=1\"\n",
        "driver.get(url)\n",
        "\n",
        "wait.WebDriverWait(driver, timeout=10).until(\n",
        "    expected_conditions.presence_of_element_located(\n",
        "    (By.XPATH, \"//table[@id='holidays-table']\")))\n",
        "\n",
        "selector = scrapy.Selector(text=driver.page_source)\n",
        "# holiday = selector.css(\"tr.showrow ::text\").getall()\n",
        "for row in selector.css(\"tr.showrow\"):\n",
        "    info = row.css(\"::text\").getall()\n",
        "    Daily_Period = datetime.datetime.strptime(\n",
        "        info[0] + \" 2024\", \"%d %b %Y\").date()\n",
        "    Holiday = info[2]\n",
        "    print({\n",
        "        \"Daily_Period\":Daily_Period,\n",
        "        \"Holiday\":Holiday\n",
        "    })\n",
        "\n",
        "driver.close()"
      ],
      "metadata": {
        "id": "3sAD3CNA3_qs",
        "outputId": "36dcc31d-eb56-4974-8328-844e9563bffc",
        "colab": {
          "base_uri": "https://localhost:8080/"
        }
      },
      "id": "3sAD3CNA3_qs",
      "execution_count": null,
      "outputs": [
        {
          "output_type": "stream",
          "name": "stdout",
          "text": [
            "{'Daily_Period': datetime.date(2024, 2, 15), 'Holiday': 'Liberation Day'}\n",
            "{'Daily_Period': datetime.date(2024, 3, 11), 'Holiday': 'First Day of Ramadan'}\n",
            "{'Daily_Period': datetime.date(2024, 4, 10), 'Holiday': 'Eid al-Fitr'}\n",
            "{'Daily_Period': datetime.date(2024, 4, 11), 'Holiday': 'Eid al-Fitr Holiday'}\n",
            "{'Daily_Period': datetime.date(2024, 4, 12), 'Holiday': 'Eid al-Fitr Holiday'}\n",
            "{'Daily_Period': datetime.date(2024, 4, 13), 'Holiday': 'Eid al-Fitr Holiday'}\n",
            "{'Daily_Period': datetime.date(2024, 4, 28), 'Holiday': 'Afghan Victory Day'}\n",
            "{'Daily_Period': datetime.date(2024, 5, 1), 'Holiday': 'Labor Day'}\n",
            "{'Daily_Period': datetime.date(2024, 6, 16), 'Holiday': 'Day of Arafat'}\n",
            "{'Daily_Period': datetime.date(2024, 6, 17), 'Holiday': 'Eid al-Qurban'}\n",
            "{'Daily_Period': datetime.date(2024, 6, 18), 'Holiday': 'Eid al-Qurban Holiday'}\n",
            "{'Daily_Period': datetime.date(2024, 6, 19), 'Holiday': 'Eid al-Qurban Holiday'}\n",
            "{'Daily_Period': datetime.date(2024, 6, 20), 'Holiday': 'Eid al-Qurban Holiday'}\n",
            "{'Daily_Period': datetime.date(2024, 7, 16), 'Holiday': 'Ashura'}\n",
            "{'Daily_Period': datetime.date(2024, 8, 14), 'Holiday': 'Anniversary of Taliban Rule'}\n",
            "{'Daily_Period': datetime.date(2024, 8, 18), 'Holiday': 'Independence Day (National Day)'}\n",
            "{'Daily_Period': datetime.date(2024, 8, 31), 'Holiday': 'Anniversary of the Withdrawal of Foreign Troops'}\n",
            "{'Daily_Period': datetime.date(2024, 9, 9), 'Holiday': 'Martyrs and Ahmad Shah Masoud Day'}\n",
            "{'Daily_Period': datetime.date(2024, 9, 16), 'Holiday': \"The Prophet's Birthday (Tentative Date)\"}\n"
          ]
        }
      ]
    },
    {
      "cell_type": "code",
      "source": [],
      "metadata": {
        "id": "USUnfxDWUc0Y"
      },
      "id": "USUnfxDWUc0Y",
      "execution_count": null,
      "outputs": []
    }
  ],
  "metadata": {
    "colab": {
      "name": "CountryHoliday.ipynb",
      "provenance": [],
      "include_colab_link": true
    },
    "kernelspec": {
      "display_name": "Python 3 (ipykernel)",
      "language": "python",
      "name": "python3"
    },
    "language_info": {
      "codemirror_mode": {
        "name": "ipython",
        "version": 3
      },
      "file_extension": ".py",
      "mimetype": "text/x-python",
      "name": "python",
      "nbconvert_exporter": "python",
      "pygments_lexer": "ipython3",
      "version": "3.8.10"
    }
  },
  "nbformat": 4,
  "nbformat_minor": 5
}