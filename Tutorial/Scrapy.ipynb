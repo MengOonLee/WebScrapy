{
  "cells": [
    {
      "cell_type": "markdown",
      "metadata": {
        "id": "view-in-github",
        "colab_type": "text"
      },
      "source": [
        "<a href=\"https://colab.research.google.com/github/MengOonLee/WebScrapy/blob/master/Tutorial/Scrapy.ipynb\" target=\"_parent\"><img src=\"https://colab.research.google.com/assets/colab-badge.svg\" alt=\"Open In Colab\"/></a>"
      ]
    },
    {
      "cell_type": "markdown",
      "metadata": {
        "id": "XvXGXei0CJFI"
      },
      "source": [
        "# Scrapy"
      ]
    },
    {
      "cell_type": "code",
      "execution_count": null,
      "metadata": {
        "id": "Vi9PaP1PCJFN"
      },
      "outputs": [],
      "source": [
        "%%bash\n",
        "pip install --no-cache-dir -qU scrapy selenium"
      ]
    },
    {
      "cell_type": "code",
      "source": [
        "from selenium import webdriver\n",
        "import scrapy\n",
        "\n",
        "options = webdriver.chrome.options.Options()\n",
        "options.add_argument(\"--headless\")\n",
        "options.add_argument(\"--no-sandbox\")\n",
        "driver = webdriver.Chrome(options=options)\n",
        "\n",
        "url = \"https://quotes.toscrape.com\"\n",
        "driver.get(url)\n",
        "response = scrapy.Selector(text=driver.page_source)\n",
        "driver.close()\n",
        "\n",
        "for quote in response.css('div.quote'):\n",
        "    print({\n",
        "        'author': quote.css('small.author::text').get(),\n",
        "        'text': quote.xpath('span[@class=\"text\"]/text()').get(),\n",
        "        'tags': quote.css('div.tags a.tag::text').getall()\n",
        "    })\n",
        "next_page = response.css('li.next a::attr(href)').get()\n",
        "if next_page is not None:\n",
        "    print(next_page)"
      ],
      "metadata": {
        "collapsed": true,
        "id": "eSMhQdwZSEaE",
        "outputId": "5f9515c2-8224-4fa8-8393-50d53769465e",
        "colab": {
          "base_uri": "https://localhost:8080/"
        }
      },
      "execution_count": 22,
      "outputs": [
        {
          "output_type": "stream",
          "name": "stdout",
          "text": [
            "{'author': 'Albert Einstein', 'text': '“The world as we have created it is a process of our thinking. It cannot be changed without changing our thinking.”', 'tags': ['change', 'deep-thoughts', 'thinking', 'world']}\n",
            "{'author': 'J.K. Rowling', 'text': '“It is our choices, Harry, that show what we truly are, far more than our abilities.”', 'tags': ['abilities', 'choices']}\n",
            "{'author': 'Albert Einstein', 'text': '“There are only two ways to live your life. One is as though nothing is a miracle. The other is as though everything is a miracle.”', 'tags': ['inspirational', 'life', 'live', 'miracle', 'miracles']}\n",
            "{'author': 'Jane Austen', 'text': '“The person, be it gentleman or lady, who has not pleasure in a good novel, must be intolerably stupid.”', 'tags': ['aliteracy', 'books', 'classic', 'humor']}\n",
            "{'author': 'Marilyn Monroe', 'text': \"“Imperfection is beauty, madness is genius and it's better to be absolutely ridiculous than absolutely boring.”\", 'tags': ['be-yourself', 'inspirational']}\n",
            "{'author': 'Albert Einstein', 'text': '“Try not to become a man of success. Rather become a man of value.”', 'tags': ['adulthood', 'success', 'value']}\n",
            "{'author': 'André Gide', 'text': '“It is better to be hated for what you are than to be loved for what you are not.”', 'tags': ['life', 'love']}\n",
            "{'author': 'Thomas A. Edison', 'text': \"“I have not failed. I've just found 10,000 ways that won't work.”\", 'tags': ['edison', 'failure', 'inspirational', 'paraphrased']}\n",
            "{'author': 'Eleanor Roosevelt', 'text': \"“A woman is like a tea bag; you never know how strong it is until it's in hot water.”\", 'tags': ['misattributed-eleanor-roosevelt']}\n",
            "{'author': 'Steve Martin', 'text': '“A day without sunshine is like, you know, night.”', 'tags': ['humor', 'obvious', 'simile']}\n",
            "/page/2/\n"
          ]
        }
      ]
    },
    {
      "cell_type": "code",
      "execution_count": 27,
      "metadata": {
        "id": "p4asrZTivACW",
        "outputId": "00537d9a-32ff-4384-9361-15d913abed00",
        "colab": {
          "base_uri": "https://localhost:8080/"
        }
      },
      "outputs": [
        {
          "output_type": "stream",
          "name": "stdout",
          "text": [
            "Overwriting Quotes.py\n"
          ]
        }
      ],
      "source": [
        "%%writefile Quotes.py\n",
        "from selenium import webdriver\n",
        "import scrapy\n",
        "from scrapy.crawler import CrawlerProcess\n",
        "\n",
        "class QuotesSpider(scrapy.Spider):\n",
        "    name = \"quotes\"\n",
        "\n",
        "    def __init__(self, **kwargs):\n",
        "        super().__init__(**kwargs)\n",
        "        options = webdriver.chrome.options.Options()\n",
        "        options.add_argument(\"--headless\")\n",
        "        options.add_argument(\"--no-sandbox\")\n",
        "        self.driver = webdriver.Chrome(options=options)\n",
        "\n",
        "    def start_requests(self):\n",
        "        urls = [\n",
        "            \"https://quotes.toscrape.com\"\n",
        "        ]\n",
        "        for url in urls:\n",
        "            yield scrapy.Request(url=url, callback=self.parse)\n",
        "\n",
        "    def parse(self, response):\n",
        "        self.driver.get(response.url)\n",
        "        content = scrapy.Selector(text=self.driver.page_source)\n",
        "\n",
        "        for quote in content.css(\"div.quote\"):\n",
        "            print({\n",
        "                'author': quote.css(\"small.author::text\").get(),\n",
        "                \"text\": quote.xpath(\"span[@class='text']/text()\").get(),\n",
        "                \"tags\": quote.css(\"div.tags a.tag::text\").getall()\n",
        "            })\n",
        "\n",
        "        next_page = content.css(\"li.next a::attr(href)\").get()\n",
        "        if next_page is not None:\n",
        "            print(next_page)\n",
        "            yield response.follow(next_page, callback=self.parse)\n",
        "\n",
        "        self.driver.close()\n",
        "\n",
        "process = CrawlerProcess()\n",
        "process.crawl(QuotesSpider)\n",
        "process.start()"
      ]
    },
    {
      "cell_type": "code",
      "source": [
        "%%bash\n",
        "python Quotes.py"
      ],
      "metadata": {
        "id": "3npBEKba-K7t"
      },
      "execution_count": null,
      "outputs": []
    },
    {
      "cell_type": "markdown",
      "metadata": {
        "id": "U05aipLVvACR"
      },
      "source": [
        "## Spider"
      ]
    },
    {
      "cell_type": "code",
      "execution_count": null,
      "metadata": {
        "scrolled": true,
        "id": "WF_fn17uvACR"
      },
      "outputs": [],
      "source": [
        "import scrapy\n",
        "from scrapy.crawler import CrawlerProcess\n",
        "from scrapy.loader import ItemLoader\n",
        "from itemloaders.processors import MapCompose, TakeFirst\n",
        "from w3lib.html import remove_tags\n",
        "import re\n",
        "\n",
        "def remove_unicode(text):\n",
        "    return text.encode('ascii', errors='ignore')\\\n",
        "        .decode().strip()\n",
        "\n",
        "class QuotesItem(scrapy.Item):\n",
        "    author = scrapy.Field(\n",
        "        input_processor=MapCompose(remove_tags),\n",
        "        output_processor=TakeFirst()\n",
        "    )\n",
        "    text = scrapy.Field(\n",
        "        input_processor=MapCompose(remove_tags, remove_unicode),\n",
        "        output_processor=TakeFirst()\n",
        "    )\n",
        "\n",
        "class QuotesSpider(scrapy.Spider):\n",
        "    name = \"quotes\"\n",
        "    start_urls = [\n",
        "        \"https://quotes.toscrape.com/tag/humor/\"\n",
        "    ]\n",
        "\n",
        "    def parse(self, response):\n",
        "        for quote in response.css(\"div.quote\"):\n",
        "            l = ItemLoader(item=QuotesItem(), selector=quote)\n",
        "            l.add_xpath(\"author\", \"span/small/text()\")\n",
        "            l.add_css(\"text\", \"span.text::text\")\n",
        "            yield l.load_item()\n",
        "\n",
        "        next_page = response.css(\"li.next a::attr(href)\").get()\n",
        "        if next_page is not None:\n",
        "            yield response.follow(next_page, self.parse)\n",
        "\n",
        "process = CrawlerProcess(\n",
        "    settings={\n",
        "        \"FEEDS\":{\"items.jl\":{\"format\":\"jsonlines\"}}\n",
        "    }\n",
        ")\n",
        "process.crawl(QuotesSpider)\n",
        "process.start()"
      ]
    },
    {
      "cell_type": "code",
      "execution_count": null,
      "metadata": {
        "id": "NIeH3gbpFNwQ",
        "scrolled": true
      },
      "outputs": [],
      "source": [
        "import scrapy\n",
        "from scrapy.crawler import CrawlerProcess\n",
        "import pathlib\n",
        "\n",
        "class QuotesSpider(scrapy.Spider):\n",
        "    name = \"quotes\"\n",
        "\n",
        "    def start_requests(self):\n",
        "        urls = [\n",
        "            \"https://quotes.toscrape.com/page/1/\",\n",
        "            \"https://quotes.toscrape.com/page/2/\"\n",
        "        ]\n",
        "        for url in urls:\n",
        "            yield scrapy.Request(url=url, callback=self.parse)\n",
        "\n",
        "    def parse(self, response):\n",
        "        page = response.url.split(\"/\")[-2]\n",
        "        filename = f\"quotes-{page}.html\"\n",
        "        pathlib.Path(filename).write_bytes(response.body)\n",
        "        self.log(f\"Saved file {filename}\")\n",
        "\n",
        "process = CrawlerProcess()\n",
        "process.crawl(QuotesSpider)\n",
        "process.start()"
      ]
    },
    {
      "cell_type": "code",
      "execution_count": null,
      "metadata": {
        "id": "VoX2ukIVvACS"
      },
      "outputs": [],
      "source": [
        "import scrapy\n",
        "from scrapy.crawler import CrawlerProcess\n",
        "import pathlib\n",
        "\n",
        "class QuotesSpider(scrapy.Spider):\n",
        "    name = \"quotes\"\n",
        "    start_urls = [\n",
        "        \"https://quotes.toscrape.com/page/1/\",\n",
        "        \"https://quotes.toscrape.com/page/2/\"\n",
        "    ]\n",
        "\n",
        "    def parse(self, response):\n",
        "        page = response.url.split(\"/\")[-2]\n",
        "        filename = f\"quotes-{page}.html\"\n",
        "        pathlib.Path(filename).write_bytes(response.body)\n",
        "        self.log(f\"Saved file {filename}\")\n",
        "\n",
        "process = CrawlerProcess()\n",
        "process.crawl(QuotesSpider)\n",
        "process.start()"
      ]
    },
    {
      "cell_type": "markdown",
      "metadata": {
        "id": "h5uLbWSFvACT"
      },
      "source": [
        "## Extracting data"
      ]
    },
    {
      "cell_type": "code",
      "execution_count": null,
      "metadata": {
        "scrolled": true,
        "id": "WsIciWr1vACU"
      },
      "outputs": [],
      "source": [
        "import scrapy\n",
        "from scrapy.crawler import CrawlerProcess\n",
        "from scrapy.loader import ItemLoader\n",
        "from itemloaders.processors import MapCompose, TakeFirst, Identity\n",
        "from w3lib.html import remove_tags\n",
        "import re\n",
        "\n",
        "def remove_unicode(text):\n",
        "    return text.encode(\"ascii\", errors=\"ignore\").decode().strip()\n",
        "\n",
        "class QuotesItem(scrapy.Item):\n",
        "    author = scrapy.Field(\n",
        "        input_processor=MapCompose(remove_tags, remove_unicode),\n",
        "        output_processor=TakeFirst()\n",
        "    )\n",
        "    text = scrapy.Field(\n",
        "        input_processor=MapCompose(remove_tags, remove_unicode),\n",
        "        output_processor=TakeFirst()\n",
        "    )\n",
        "    tags = scrapy.Field(\n",
        "        input_processor=MapCompose(remove_tags),\n",
        "        output_processor=Identity()\n",
        "    )\n",
        "\n",
        "class QuotesSpider(scrapy.Spider):\n",
        "    name = \"quotes\"\n",
        "    start_urls = [\n",
        "        \"https://quotes.toscrape.com/page/1/\",\n",
        "        \"https://quotes.toscrape.com/page/2/\"\n",
        "    ]\n",
        "\n",
        "    def parse(self, response):\n",
        "        for quote in response.css(\"div.quote\"):\n",
        "            l = ItemLoader(item=QuotesItem(), selector=quote)\n",
        "            l.add_css(\"author\", \"small.author::text\")\n",
        "            l.add_css(\"text\", \"span.text::text\")\n",
        "            l.add_css(\"tags\", \"div.tags a.tag::text\")\n",
        "            yield l.load_item()\n",
        "\n",
        "process = CrawlerProcess(\n",
        "    settings={\n",
        "        \"FEEDS\":{\"items.jl\":{\"format\":\"jsonlines\"}}\n",
        "    }\n",
        ")\n",
        "process.crawl(QuotesSpider)\n",
        "process.start()"
      ]
    },
    {
      "cell_type": "markdown",
      "metadata": {
        "id": "3gAGF2qkvACV"
      },
      "source": [
        "## Following links"
      ]
    },
    {
      "cell_type": "code",
      "execution_count": null,
      "metadata": {
        "scrolled": true,
        "id": "rVKJCwhVvACV"
      },
      "outputs": [],
      "source": [
        "import scrapy\n",
        "from scrapy.crawler import CrawlerProcess\n",
        "from scrapy.loader import ItemLoader\n",
        "from itemloaders.processors import MapCompose, TakeFirst, Identity\n",
        "from w3lib.html import remove_tags\n",
        "import re\n",
        "\n",
        "def remove_unicode(text):\n",
        "    return text.encode(\"ascii\", errors=\"ignore\").decode().strip()\n",
        "\n",
        "class QuotesItem(scrapy.Item):\n",
        "    author = scrapy.Field(\n",
        "        input_processor=MapCompose(remove_tags, remove_unicode),\n",
        "        output_processor=TakeFirst()\n",
        "    )\n",
        "    text = scrapy.Field(\n",
        "        input_processor=MapCompose(remove_tags, remove_unicode),\n",
        "        output_processor=TakeFirst()\n",
        "    )\n",
        "    tags = scrapy.Field(\n",
        "        input_processor=MapCompose(remove_tags),\n",
        "        output_processor=Identity()\n",
        "    )\n",
        "\n",
        "class QuotesSpider(scrapy.Spider):\n",
        "    name = \"quotes\"\n",
        "    start_urls = [\n",
        "        \"https://quotes.toscrape.com/page/1\"\n",
        "    ]\n",
        "\n",
        "    def parse(self, response):\n",
        "        for quote in response.css(\"div.quote\"):\n",
        "            l = ItemLoader(item=QuotesItem(), selector=quote)\n",
        "            l.add_css(\"author\", \"small.author::text\")\n",
        "            l.add_css(\"text\", \"span.text::text\")\n",
        "            l.add_css(\"tags\", \"div.tags a.tag::text\")\n",
        "            yield l.load_item()\n",
        "\n",
        "        next_page = response.css(\"li.next a::attr(href)\").get()\n",
        "        if next_page is not None:\n",
        "            next_page = response.urljoin(next_page)\n",
        "            yield scrapy.Request(next_page, callback=self.parse)\n",
        "\n",
        "process = CrawlerProcess(\n",
        "    settings={\n",
        "        \"FEEDS\":{\"items.jl\":{\"format\":\"jsonlines\"}}\n",
        "    }\n",
        ")\n",
        "process.crawl(QuotesSpider)\n",
        "process.start()"
      ]
    },
    {
      "cell_type": "code",
      "execution_count": null,
      "metadata": {
        "id": "flLzQC-EvACW"
      },
      "outputs": [],
      "source": [
        "import scrapy\n",
        "from scrapy.crawler import CrawlerProcess\n",
        "\n",
        "class QuotesSpider(scrapy.Spider):\n",
        "    name = \"quotes\"\n",
        "    start_urls = [\n",
        "        \"https://quotes.toscrape.com/page/1/\"\n",
        "    ]\n",
        "\n",
        "    def parse(self, response):\n",
        "        for quote in response.css(\"div.quote\"):\n",
        "            yield {\n",
        "                \"text\": quote.css(\"span.text::text\").get(),\n",
        "                \"author\": quote.css(\"span small::text\").get(),\n",
        "                \"tags\": quote.css(\"div.tags a.tag::text\").getall()\n",
        "            }\n",
        "\n",
        "        for href in response.css(\"ul.pager a::attr(href)\"):\n",
        "            yield response.follow(href, callback=self.parse)\n",
        "\n",
        "process = CrawlerProcess()\n",
        "process.crawl(QuotesSpider)\n",
        "process.start()"
      ]
    },
    {
      "cell_type": "code",
      "execution_count": null,
      "metadata": {
        "id": "QhGAGo1OvACW"
      },
      "outputs": [],
      "source": [
        "import scrapy\n",
        "from scrapy.crawler import CrawlerProcess\n",
        "\n",
        "class QuotesSpider(scrapy.Spider):\n",
        "    name = \"quotes\"\n",
        "    start_urls = [\n",
        "        \"https://quotes.toscrape.com/page/1/\"\n",
        "    ]\n",
        "\n",
        "    def parse(self, response):\n",
        "        for quote in response.css(\"div.quote\"):\n",
        "            yield {\n",
        "                \"text\": quote.css(\"span.text::text\").get(),\n",
        "                \"author\": quote.css(\"span small::text\").get(),\n",
        "                \"tags\": quote.css(\"div.tags a.tag::text\").getall()\n",
        "            }\n",
        "\n",
        "        for a in response.css(\"ul.pager a\"):\n",
        "            yield response.follow(a, callback=self.parse)\n",
        "\n",
        "process = CrawlerProcess()\n",
        "process.crawl(QuotesSpider)\n",
        "process.start()"
      ]
    },
    {
      "cell_type": "code",
      "execution_count": null,
      "metadata": {
        "id": "AMjbz4sEvACW"
      },
      "outputs": [],
      "source": [
        "import scrapy\n",
        "from scrapy.crawler import CrawlerProcess\n",
        "\n",
        "class QuotesSpider(scrapy.Spider):\n",
        "    name = \"quotes\"\n",
        "    start_urls = [\n",
        "        \"https://quotes.toscrape.com/page/1/\"\n",
        "    ]\n",
        "\n",
        "    def parse(self, response):\n",
        "        for quote in response.css(\"div.quote\"):\n",
        "            yield {\n",
        "                \"text\": quote.css(\"span.text::text\").get(),\n",
        "                \"author\": quote.css(\"span small::text\").get(),\n",
        "                \"tags\": quote.css(\"div.tags a.tag::text\").getall()\n",
        "            }\n",
        "\n",
        "        yield from response.follow_all(css=\"ul.pager a\", callback=self.parse)\n",
        "\n",
        "process = CrawlerProcess()\n",
        "process.crawl(QuotesSpider)\n",
        "process.start()"
      ]
    },
    {
      "cell_type": "code",
      "execution_count": null,
      "metadata": {
        "id": "RIY4lBtVvACX"
      },
      "outputs": [],
      "source": [
        "import scrapy\n",
        "from scrapy.crawler import CrawlerProcess\n",
        "\n",
        "class AuthorSpider(scrapy.Spider):\n",
        "    name = \"author\"\n",
        "    start_urls = [\n",
        "        \"https://quotes.toscrape.com/\"\n",
        "    ]\n",
        "\n",
        "    def parse(self, response):\n",
        "        author_page_links = response.css(\".author + a\")\n",
        "        yield from response.follow_all(author_page_links, callback=self.parse_author)\n",
        "\n",
        "        pagination_links = response.css(\"li.next a\")\n",
        "        yield from response.follow_all(pagination_links, callback=self.parse)\n",
        "\n",
        "    def parse_author(self, response):\n",
        "        def extract_with_css(query):\n",
        "            return response.css(query).get(default=\"\").strip()\n",
        "\n",
        "        yield {\n",
        "            \"name\": extract_with_css(\"h3.author-title::text\"),\n",
        "            \"birthdate\": extract_with_css(\".author-born-date::text\"),\n",
        "            \"bio\": extract_with_css(\".author-description::text\")\n",
        "        }\n",
        "\n",
        "process = CrawlerProcess()\n",
        "process.crawl(AuthorSpider)\n",
        "process.start()"
      ]
    },
    {
      "cell_type": "code",
      "execution_count": null,
      "metadata": {
        "scrolled": true,
        "id": "sL8iwe1kvACX"
      },
      "outputs": [],
      "source": [
        "import scrapy\n",
        "from scrapy.crawler import CrawlerProcess\n",
        "\n",
        "class QuotesSpider(scrapy.Spider):\n",
        "    name = \"quotes\"\n",
        "\n",
        "    def start_requests(self):\n",
        "        url = \"https://quotes.toscrape.com/\"\n",
        "        tag = getattr(self, \"tag\", None)\n",
        "        if tag is not None:\n",
        "            url = url + \"tag/\" + tag\n",
        "        yield scrapy.Request(url, self.parse)\n",
        "\n",
        "    def parse(self, response):\n",
        "        for quote in response.css(\"div.quote\"):\n",
        "            yield {\n",
        "                \"text\": quote.css(\"span.text::text\").get(),\n",
        "                \"author\": quote.css(\"small.author::text\").get()\n",
        "            }\n",
        "\n",
        "        next_page = response.css(\"li.next a::attr(href)\").get()\n",
        "        if next_page is not None:\n",
        "            yield response.follow(next_page, self.parse)\n",
        "\n",
        "process = CrawlerProcess()\n",
        "process.crawl(QuotesSpider, tag='humor')\n",
        "process.start()"
      ]
    }
  ],
  "metadata": {
    "colab": {
      "name": "Scrapy",
      "provenance": [],
      "include_colab_link": true
    },
    "kernelspec": {
      "display_name": "Python 3 (ipykernel)",
      "language": "python",
      "name": "python3"
    },
    "language_info": {
      "codemirror_mode": {
        "name": "ipython",
        "version": 3
      },
      "file_extension": ".py",
      "mimetype": "text/x-python",
      "name": "python",
      "nbconvert_exporter": "python",
      "pygments_lexer": "ipython3",
      "version": "3.8.10"
    }
  },
  "nbformat": 4,
  "nbformat_minor": 0
}