{
 "cells": [
  {
   "cell_type": "markdown",
   "metadata": {
    "colab_type": "text",
    "id": "view-in-github"
   },
   "source": [
    "<a href=\"https://colab.research.google.com/github/MengOonLee/WebScrapy/blob/master/Groceries/Lotus.ipynb\" target=\"_parent\"><img src=\"https://colab.research.google.com/assets/colab-badge.svg\" alt=\"Open In Colab\"/></a>"
   ]
  },
  {
   "cell_type": "code",
   "execution_count": null,
   "metadata": {
    "colab": {
     "base_uri": "https://localhost:8080/"
    },
    "id": "I3g1lntAeoPo",
    "outputId": "ad5ce676-c7a3-4e5c-c6c0-0594a07a607c"
   },
   "outputs": [],
   "source": [
    "%%bash\n",
    "pip install --no-cache-dir -qU scrapy selenium"
   ]
  },
  {
   "cell_type": "code",
   "execution_count": 1,
   "metadata": {
    "colab": {
     "base_uri": "https://localhost:8080/"
    },
    "id": "LpckwD6FYG2Y",
    "outputId": "84d04916-99c5-4d3b-d7c2-6fb5ed48284f"
   },
   "outputs": [
    {
     "name": "stdout",
     "output_type": "stream",
     "text": [
      "Writing Lotus.py\n"
     ]
    }
   ],
   "source": [
    "%%writefile Lotus.py\n",
    "import time\n",
    "from selenium import webdriver\n",
    "from selenium.webdriver.common.by import By\n",
    "import scrapy\n",
    "from scrapy.crawler import CrawlerProcess\n",
    "\n",
    "class LotusSpider(scrapy.Spider):\n",
    "    name = 'Lotus'\n",
    "\n",
    "    def __init__(self, **kwargs):\n",
    "        super().__init__(**kwargs)\n",
    "        options = webdriver.chrome.options.Options()\n",
    "        options.add_argument(\"--headless\")\n",
    "        options.add_argument(\"--no-sandbox\")\n",
    "        options.add_argument(\"--enable-javascript\")\n",
    "        options.add_argument(\"--enable-cookies\")\n",
    "        options.add_argument(\"--disable-notifications\")\n",
    "        options.add_argument(\"--disable-web-security\")\n",
    "        options.add_argument(\"--incognito\")\n",
    "        self.driver = webdriver.Chrome(options=options)\n",
    "\n",
    "    def start_requests(self):\n",
    "        urls = [\n",
    "            \"https://www.lotuss.com.my/en/product/aus-mutton-loin-slice-5318-74539337\"\n",
    "        ]\n",
    "        for url in urls:\n",
    "            yield scrapy.Request(url=url, callback=self.parse_categories)\n",
    "\n",
    "    def parse_categories(self, response):\n",
    "        self.driver.get(response.url)\n",
    "\n",
    "        elem_present = \"\"\n",
    "        while not elem_present:\n",
    "            try:\n",
    "                elem_present = self.driver.find_element(By.XPATH,\n",
    "                    \"//div[@class='product-grid-item']\"\n",
    "                )\n",
    "            except:\n",
    "                continue\n",
    "\n",
    "        selector = scrapy.Selector(text=self.driver.page_source)\n",
    "        category = selector.css(\"h1#category-title::text\").get()\n",
    "        print(category)\n",
    "        category_links = selector.css(\"div.carousel a\")\n",
    "        if len(category_links)!=0:\n",
    "            yield from response.follow_all(category_links,\n",
    "                callback=self.parse_categories)\n",
    "        else:\n",
    "            last_height = self.driver.execute_script(\n",
    "                \"return document.body.scrollHeight\"\n",
    "            )\n",
    "\n",
    "            while True:\n",
    "                self.driver.execute_script(\n",
    "                    \"window.scrollTo(0, document.body.scrollHeight)\"\n",
    "                )\n",
    "                time.sleep(3)\n",
    "                new_height = self.driver.execute_script(\n",
    "                    \"return document.body.scrollHeight\"\n",
    "                )\n",
    "                if new_height==last_height:\n",
    "                    break\n",
    "                last_height = new_height\n",
    "\n",
    "            selector = scrapy.Selector(text=self.driver.page_source)\n",
    "            item_links = selector.css(\"div#product-list a\")\n",
    "\n",
    "            yield from response.follow_all(item_links,\n",
    "                callback=self.parse_items)\n",
    "\n",
    "    def parse_items(self, response):\n",
    "        self.driver.get(response.url)\n",
    "\n",
    "        elem_present = \"\"\n",
    "        while not elem_present:\n",
    "            try:\n",
    "                elem_present = self.driver.find_element(By.XPATH, \"\"\"\n",
    "                    //img[@id='current-product-image']\n",
    "                \"\"\")\n",
    "            except:\n",
    "                continue\n",
    "\n",
    "        selector = scrapy.Selector(text=self.driver.page_source)\n",
    "        item = selector.css(\"div.MuiBox-root\")\n",
    "        name = item.css(\"h1::text\").get()\n",
    "        price = item.css(\"::text\")[3:6].getall()\n",
    "        price = \"\".join(price)\n",
    "        print(name, price)\n",
    "\n",
    "process = CrawlerProcess()\n",
    "process.crawl(LotusSpider)\n",
    "process.start()"
   ]
  },
  {
   "cell_type": "code",
   "execution_count": null,
   "metadata": {
    "id": "J_TorfYlmX5Y"
   },
   "outputs": [],
   "source": [
    "%%bash\n",
    "python Lotus.py"
   ]
  }
 ],
 "metadata": {
  "colab": {
   "authorship_tag": "ABX9TyN9Lxif53SaqekZHJza6QbR",
   "include_colab_link": true,
   "provenance": []
  },
  "kernelspec": {
   "display_name": "Python 3 (ipykernel)",
   "language": "python",
   "name": "python3"
  },
  "language_info": {
   "codemirror_mode": {
    "name": "ipython",
    "version": 3
   },
   "file_extension": ".py",
   "mimetype": "text/x-python",
   "name": "python",
   "nbconvert_exporter": "python",
   "pygments_lexer": "ipython3",
   "version": "3.11.0rc1"
  }
 },
 "nbformat": 4,
 "nbformat_minor": 4
}
