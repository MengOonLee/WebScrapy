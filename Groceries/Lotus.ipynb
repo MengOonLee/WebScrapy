{
  "nbformat": 4,
  "nbformat_minor": 0,
  "metadata": {
    "colab": {
      "provenance": [],
      "authorship_tag": "ABX9TyOZLuMGi4b6Kmm7sZ7dcyNo",
      "include_colab_link": true
    },
    "kernelspec": {
      "name": "python3",
      "display_name": "Python 3"
    },
    "language_info": {
      "name": "python"
    }
  },
  "cells": [
    {
      "cell_type": "markdown",
      "metadata": {
        "id": "view-in-github",
        "colab_type": "text"
      },
      "source": [
        "<a href=\"https://colab.research.google.com/github/MengOonLee/WebScrapy/blob/master/Groceries/Lotus.ipynb\" target=\"_parent\"><img src=\"https://colab.research.google.com/assets/colab-badge.svg\" alt=\"Open In Colab\"/></a>"
      ]
    },
    {
      "cell_type": "code",
      "source": [
        "%%bash\n",
        "pip install --no-cache-dir -qU scrapy selenium"
      ],
      "metadata": {
        "id": "I3g1lntAeoPo"
      },
      "execution_count": null,
      "outputs": []
    },
    {
      "cell_type": "code",
      "source": [
        "from selenium import webdriver\n",
        "import scrapy\n",
        "import time\n",
        "\n",
        "options = webdriver.chrome.options.Options()\n",
        "options.add_argument(\"--headless\")\n",
        "options.add_argument(\"--no-sandbox\")\n",
        "options.add_argument(\"--enable-javascript\")\n",
        "options.add_argument(\"--enable-cookies\")\n",
        "options.add_argument(\"--disable-notifications\")\n",
        "options.add_argument(\"--disable-web-security\")\n",
        "options.add_argument(\"--incognito\")\n",
        "driver = webdriver.Chrome(options=options)\n",
        "\n",
        "url = \"https://www.lotuss.com.my/en/category/grocery\"\n",
        "driver.get(url)\n",
        "time.sleep(10)\n",
        "# selector = scrapy.Selector(text=driver.page_source.encode(\"utf-8\"))\n",
        "selector = scrapy.Selector(text=driver.page_source)\n",
        "products = selector.css(\"div.product-grid-item a::attr(href)\").getall()\n",
        "driver.close()\n",
        "\n",
        "products"
      ],
      "metadata": {
        "id": "ayrRFc2gcd9d",
        "outputId": "20a4f3e8-b166-48d9-e184-e3b5467951f7",
        "colab": {
          "base_uri": "https://localhost:8080/"
        },
        "collapsed": true
      },
      "execution_count": 4,
      "outputs": [
        {
          "output_type": "execute_result",
          "data": {
            "text/plain": [
              "['/en/product/mamee-premium-mi-tarik-vegetarian-5x80g-1188429',\n",
              " '/en/product/jati-100-beras-wangi-aaa-10kg-4109589',\n",
              " '/en/product/mamee-premium-mi-tarik-chicken-5x79g-3641368',\n",
              " '/en/product/mamee-premium-mi-tarik-curry-5x80g-1188372',\n",
              " '/en/product/mamee-premium-mi-tarik-vege-curry-5x78g-74744348',\n",
              " '/en/product/mamee-premium-mi-tarik-duck-5x81g-376221',\n",
              " '/en/product/74913077',\n",
              " '/en/product/74889192',\n",
              " '/en/product/74889206',\n",
              " '/en/product/kelloggs-coco-pops-400g-199125',\n",
              " '/en/product/nestle-honey-stars-econopack-500g-125946',\n",
              " '/en/product/rasaku-coconut-milk-200mlx6-72240474',\n",
              " '/en/product/skippy-p-b-chocolate-stripes-530g-71495916',\n",
              " '/en/product/cadbury-dairy-milk-hazelnut-160g-71667245',\n",
              " '/en/product/naxnax-choco-marie-biscuit-300g-74704664']"
            ]
          },
          "metadata": {},
          "execution_count": 4
        }
      ]
    },
    {
      "cell_type": "code",
      "source": [
        "%%writefile Lotus.py\n",
        "from selenium import webdriver\n",
        "from selenium.webdriver.common.by import By\n",
        "from selenium.webdriver.support.wait import WebDriverWait\n",
        "from selenium.webdriver.support import expected_conditions\n",
        "import scrapy\n",
        "from scrapy.crawler import CrawlerProcess\n",
        "\n",
        "class LotusSpider(scrapy.Spider):\n",
        "    name = 'Lotus'\n",
        "\n",
        "    def __init__(self, **kwargs):\n",
        "        super().__init__(**kwargs)\n",
        "        options = webdriver.chrome.options.Options()\n",
        "        options.add_argument(\"--headless\")\n",
        "        options.add_argument(\"--no-sandbox\")\n",
        "        options.add_argument(\"--enable-javascript\")\n",
        "        options.add_argument(\"--enable-cookies\")\n",
        "        options.add_argument(\"--disable-notifications\")\n",
        "        options.add_argument(\"--disable-web-security\")\n",
        "        options.add_argument(\"--incognito\")\n",
        "        self.driver = webdriver.Chrome(options=options)\n",
        "\n",
        "    def start_requests(self):\n",
        "        urls = [\n",
        "            \"https://www.lotuss.com.my/en/category/grocery\"\n",
        "        ]\n",
        "        for url in urls:\n",
        "            yield scrapy.Request(url=url, callback=self.parse)\n",
        "\n",
        "    def parse(self, response):\n",
        "        self.driver.get(response.url)\n",
        "\n",
        "        try:\n",
        "            WebDriverWait(self.driver, 10).until(\n",
        "                expected_conditions.presence_of_element_located(\n",
        "                    (By.CLASS_NAME, \"product-grid-item\"))\n",
        "            )\n",
        "\n",
        "            selector = scrapy.Selector(text=self.driver.page_source)\n",
        "\n",
        "            product_pages = selector.css(\n",
        "                \"div.product-grid-item a::attr(href)\"\n",
        "            ).getall()\n",
        "\n",
        "            print(product_pages)\n",
        "        finally:\n",
        "            self.driver.quit()\n",
        "\n",
        "process = CrawlerProcess()\n",
        "process.crawl(LotusSpider)\n",
        "process.start()"
      ],
      "metadata": {
        "id": "LpckwD6FYG2Y",
        "colab": {
          "base_uri": "https://localhost:8080/"
        },
        "outputId": "8ee67e04-fe1a-4ae5-e350-25731705dc7c"
      },
      "execution_count": 11,
      "outputs": [
        {
          "output_type": "stream",
          "name": "stdout",
          "text": [
            "Overwriting Lotus.py\n"
          ]
        }
      ]
    },
    {
      "cell_type": "code",
      "source": [
        "%%bash\n",
        "python Lotus.py"
      ],
      "metadata": {
        "id": "J_TorfYlmX5Y"
      },
      "execution_count": null,
      "outputs": []
    }
  ]
}