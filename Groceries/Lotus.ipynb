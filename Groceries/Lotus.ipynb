{
  "cells": [
    {
      "cell_type": "markdown",
      "metadata": {
        "id": "view-in-github",
        "colab_type": "text"
      },
      "source": [
        "<a href=\"https://colab.research.google.com/github/MengOonLee/WebScrapy/blob/master/Groceries/Lotus.ipynb\" target=\"_parent\"><img src=\"https://colab.research.google.com/assets/colab-badge.svg\" alt=\"Open In Colab\"/></a>"
      ]
    },
    {
      "cell_type": "code",
      "execution_count": null,
      "metadata": {
        "id": "I3g1lntAeoPo"
      },
      "outputs": [],
      "source": [
        "%%bash\n",
        "pip install --no-cache-dir -qU scrapy selenium"
      ]
    },
    {
      "cell_type": "code",
      "execution_count": 30,
      "metadata": {
        "colab": {
          "base_uri": "https://localhost:8080/"
        },
        "id": "LpckwD6FYG2Y",
        "outputId": "b456c669-f695-42fd-ccbc-89a77bd2cfda"
      },
      "outputs": [
        {
          "output_type": "stream",
          "name": "stdout",
          "text": [
            "Overwriting Lotus.py\n"
          ]
        }
      ],
      "source": [
        "%%writefile Lotus.py\n",
        "import time\n",
        "from selenium import webdriver\n",
        "from selenium.webdriver.common.by import By\n",
        "import scrapy\n",
        "from scrapy.crawler import CrawlerProcess\n",
        "import logging\n",
        "logging.disable(\"WARNING\")\n",
        "\n",
        "class LotusSpider(scrapy.Spider):\n",
        "    name = 'Lotus'\n",
        "\n",
        "    def __init__(self, **kwargs):\n",
        "        super().__init__(**kwargs)\n",
        "        options = webdriver.chrome.options.Options()\n",
        "        options.add_argument(\"--headless\")\n",
        "        options.add_argument(\"--no-sandbox\")\n",
        "        options.add_argument(\"--enable-javascript\")\n",
        "        options.add_argument(\"--enable-cookies\")\n",
        "        options.add_argument(\"--disable-notifications\")\n",
        "        options.add_argument(\"--disable-web-security\")\n",
        "        options.add_argument(\"--incognito\")\n",
        "        self.driver = webdriver.Chrome(options=options)\n",
        "\n",
        "    def start_requests(self):\n",
        "        urls = [\n",
        "            \"https://www.lotuss.com.my/en/category/meat-poultry/meat/parts-weighted\"\n",
        "        ]\n",
        "        for url in urls:\n",
        "            yield scrapy.Request(url=url, callback=self.parse_categories)\n",
        "\n",
        "    def parse_categories(self, response):\n",
        "        self.driver.get(response.url)\n",
        "\n",
        "        elem_present = \"\"\n",
        "        while not elem_present:\n",
        "            try:\n",
        "                elem_present = self.driver.find_element(By.XPATH,\n",
        "                    \"//div[@class='product-grid-item']\"\n",
        "                )\n",
        "            except:\n",
        "                continue\n",
        "\n",
        "        selector = scrapy.Selector(text=self.driver.page_source)\n",
        "        category = selector.css(\"h1#category-title::text\").get()\n",
        "        print(category)\n",
        "        category_links = selector.css(\"div.carousel a\")\n",
        "        if len(category_links)!=0:\n",
        "            yield from response.follow_all(category_links,\n",
        "                callback=self.parse_categories)\n",
        "        else:\n",
        "            last_height = self.driver.execute_script(\n",
        "                \"return document.body.scrollHeight\"\n",
        "            )\n",
        "\n",
        "            while True:\n",
        "                self.driver.execute_script(\n",
        "                    \"window.scrollTo(0, document.body.scrollHeight)\"\n",
        "                )\n",
        "                time.sleep(3)\n",
        "                new_height = self.driver.execute_script(\n",
        "                    \"return document.body.scrollHeight\"\n",
        "                )\n",
        "                if new_height==last_height:\n",
        "                    break\n",
        "                last_height = new_height\n",
        "\n",
        "            selector = scrapy.Selector(text=self.driver.page_source)\n",
        "            item_links = selector.css(\"div#product-list a\")\n",
        "\n",
        "            yield from response.follow_all(item_links,\n",
        "                callback=self.parse_items)\n",
        "\n",
        "    def parse_items(self, response):\n",
        "        self.driver.get(response.url)\n",
        "\n",
        "        elem_present = \"\"\n",
        "        while not elem_present:\n",
        "            try:\n",
        "                elem_present = self.driver.find_element(By.XPATH, \"\"\"\n",
        "                    //img[@id='current-product-image']\n",
        "                \"\"\")\n",
        "            except:\n",
        "                continue\n",
        "\n",
        "        selector = scrapy.Selector(text=self.driver.page_source)\n",
        "        item = selector.css(\"div.MuiBox-root\")\n",
        "        name = item.css(\"h1::text\").get()\n",
        "        price = item.css(\"::text\")[3:6].getall()\n",
        "        price = \"\".join(price)\n",
        "        print(name, price)\n",
        "\n",
        "process = CrawlerProcess()\n",
        "process.crawl(LotusSpider)\n",
        "process.start()"
      ]
    },
    {
      "cell_type": "code",
      "execution_count": 31,
      "metadata": {
        "id": "J_TorfYlmX5Y",
        "outputId": "49832f3a-1552-4adb-e8b2-7849127a0832",
        "colab": {
          "base_uri": "https://localhost:8080/"
        }
      },
      "outputs": [
        {
          "output_type": "stream",
          "name": "stdout",
          "text": [
            "Parts & Weighted\n",
            "LOTUS'S FRESH AUS LAMB SHOULDER SLICE (5319) RM28.97/Kg\n",
            "LOTUS'S FRESH SLICE BEEF 300G RM16.99/Each\n",
            "LOTUSS AUSTRALIA LAMB SHABU-SHABU 180G RM16.49/Each\n",
            "AUSTRALIAN NEW ZEALAND MUTTON SHOULDER (5479) RM27.93/Kg\n",
            "GOURMESSA BEEF BREAKFAST STREAKY 100G RM11.59/Each\n",
            "AUSTRALIA MUTTON LOIN SLICE (5318) RM39.97/Kg\n",
            "AUSTRALIA MUTTON CUBES (5317) RM26.87/Kg\n",
            "BUFFALO MINCE KG (5818) RM19.89/Kg\n",
            "LOTUSS AUSTRALIA BEEF BRISKET SHABU-SHABU 180G RM14.49/Each\n",
            "INDIA BUFFALO BLOCK KG (5574) RM21.87/Kg\n"
          ]
        },
        {
          "output_type": "stream",
          "name": "stderr",
          "text": [
            "/usr/local/lib/python3.10/dist-packages/scrapy/utils/request.py:254: ScrapyDeprecationWarning: '2.6' is a deprecated value for the 'REQUEST_FINGERPRINTER_IMPLEMENTATION' setting.\n",
            "\n",
            "It is also the default value. In other words, it is normal to get this warning if you have not defined a value for the 'REQUEST_FINGERPRINTER_IMPLEMENTATION' setting. This is so for backward compatibility reasons, but it will change in a future version of Scrapy.\n",
            "\n",
            "See the documentation of the 'REQUEST_FINGERPRINTER_IMPLEMENTATION' setting for information on how to handle this deprecation.\n",
            "  return cls(crawler)\n"
          ]
        }
      ],
      "source": [
        "%%bash\n",
        "python Lotus.py"
      ]
    }
  ],
  "metadata": {
    "colab": {
      "provenance": [],
      "authorship_tag": "ABX9TyOazz0Kv1i0UmoMxyvQZrog",
      "include_colab_link": true
    },
    "kernelspec": {
      "display_name": "Python 3 (ipykernel)",
      "language": "python",
      "name": "python3"
    },
    "language_info": {
      "codemirror_mode": {
        "name": "ipython",
        "version": 3
      },
      "file_extension": ".py",
      "mimetype": "text/x-python",
      "name": "python",
      "nbconvert_exporter": "python",
      "pygments_lexer": "ipython3",
      "version": "3.11.0rc1"
    }
  },
  "nbformat": 4,
  "nbformat_minor": 0
}