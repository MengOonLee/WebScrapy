{
  "nbformat": 4,
  "nbformat_minor": 0,
  "metadata": {
    "colab": {
      "provenance": [],
      "authorship_tag": "ABX9TyNpd083YcOT2DZ6pcZV0PLe",
      "include_colab_link": true
    },
    "kernelspec": {
      "name": "python3",
      "display_name": "Python 3"
    },
    "language_info": {
      "name": "python"
    }
  },
  "cells": [
    {
      "cell_type": "markdown",
      "metadata": {
        "id": "view-in-github",
        "colab_type": "text"
      },
      "source": [
        "<a href=\"https://colab.research.google.com/github/MengOonLee/WebScrapy/blob/master/Groceries/Lotus.ipynb\" target=\"_parent\"><img src=\"https://colab.research.google.com/assets/colab-badge.svg\" alt=\"Open In Colab\"/></a>"
      ]
    },
    {
      "cell_type": "code",
      "source": [
        "%%bash\n",
        "pip install --no-cache-dir -qU scrapy selenium"
      ],
      "metadata": {
        "id": "I3g1lntAeoPo"
      },
      "execution_count": null,
      "outputs": []
    },
    {
      "cell_type": "code",
      "source": [
        "from selenium import webdriver\n",
        "import scrapy\n",
        "import time\n",
        "\n",
        "options = webdriver.chrome.options.Options()\n",
        "options.add_argument(\"--headless\")\n",
        "options.add_argument(\"--no-sandbox\")\n",
        "options.add_argument(\"--enable-javascript\")\n",
        "driver = webdriver.Chrome(options=options)\n",
        "\n",
        "url = \"https://www.lotuss.com.my/en/category/grocery\"\n",
        "driver.get(url)\n",
        "time.sleep(10)\n",
        "selector = scrapy.Selector(text=driver.page_source.encode(\"utf-8\"))\n",
        "products = selector.css(\"div.product-grid-item a#product-title::text\")\\\n",
        "    .getall()\n",
        "driver.close()\n",
        "\n",
        "products"
      ],
      "metadata": {
        "id": "ayrRFc2gcd9d",
        "outputId": "1b40c1a8-42cd-419f-ac7c-40f4358ab7d0",
        "colab": {
          "base_uri": "https://localhost:8080/"
        }
      },
      "execution_count": 17,
      "outputs": [
        {
          "output_type": "execute_result",
          "data": {
            "text/plain": [
              "['GARDENS CHILLI SAUCE 710G',\n",
              " 'MAMEE PREMIUM MI TARIK VEGETARIAN 5X80G',\n",
              " 'JATI 100 BERAS WANGI AAA 10KG',\n",
              " 'MAMEE PREMIUM MI TARIK CHICKEN 5X79G',\n",
              " 'MAMEE PREMIUM MI TARIK CURRY 5X80G',\n",
              " 'MAMEE PREMIUM MI TARIK VEGE CURRY 5X78G',\n",
              " 'MAMEE PREMIUM MI TARIK DUCK 5X81G',\n",
              " 'JACOBS CREAM CRACKER MP 504G',\n",
              " 'JACOBS WEETAMEAL MULTIPACK 502G',\n",
              " 'KELLOGGS COCO POPS 350G',\n",
              " 'NESTLE HONEY STARS ECONOPACK 450G',\n",
              " 'RASAKU COCONUT MILK 200MLX6',\n",
              " 'SKIPPY P.B. CHOCOLATE STRIPES 530G',\n",
              " 'CADBURY HAZEL NUTS 160G',\n",
              " 'NAXNAX CHOCOLATE MARIE BISCUITS 300G']"
            ]
          },
          "metadata": {},
          "execution_count": 17
        }
      ]
    },
    {
      "cell_type": "code",
      "source": [
        "%%writefile Lotus.py\n",
        "from selenium import webdriver\n",
        "from selenium.webdriver.chrome.options import Options\n",
        "from selenium.webdriver.common.by import By\n",
        "import scrapy\n",
        "from scrapy.crawler import CrawlerProcess\n",
        "\n",
        "options = Options()\n",
        "options.add_argument('--headless')\n",
        "options.add_argument('--no-sandbox')\n",
        "options.add_argument('--disable-dev-shm-usage')\n",
        "driver = webdriver.Chrome(options=options)\n",
        "\n",
        "class LotusSpider(scrapy.Spider):\n",
        "    name = 'Lotus'\n",
        "\n",
        "    def start_requests(self):\n",
        "        urls = [\n",
        "            'https://quotes.toscrape.com'\n",
        "        ]\n",
        "        for url in urls:\n",
        "            yield scrapy.Request(url=url, callback=self.parse,\n",
        "                meta={'url': url})\n",
        "\n",
        "    def parse(self, response):\n",
        "        url = response.meta['url']\n",
        "\n",
        "        driver.get(url)\n",
        "\n",
        "        element = driver.find_element(By.CSS_SELECTOR, 'div.quote')\n",
        "        print(element.text)\n",
        "\n",
        "        driver.close()\n",
        "\n",
        "process = CrawlerProcess()\n",
        "process.crawl(LotusSpider)\n",
        "process.start()"
      ],
      "metadata": {
        "id": "LpckwD6FYG2Y",
        "colab": {
          "base_uri": "https://localhost:8080/"
        },
        "outputId": "e3d9f4b2-ec10-47e7-9cf9-969c7e7c5e97"
      },
      "execution_count": null,
      "outputs": [
        {
          "output_type": "stream",
          "name": "stdout",
          "text": [
            "Overwriting Lotus.py\n"
          ]
        }
      ]
    },
    {
      "cell_type": "code",
      "source": [
        "%%bash\n",
        "python Lotus.py"
      ],
      "metadata": {
        "id": "J_TorfYlmX5Y"
      },
      "execution_count": null,
      "outputs": []
    }
  ]
}