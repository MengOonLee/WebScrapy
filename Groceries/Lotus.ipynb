{
  "cells": [
    {
      "cell_type": "markdown",
      "metadata": {
        "id": "view-in-github",
        "colab_type": "text"
      },
      "source": [
        "<a href=\"https://colab.research.google.com/github/MengOonLee/WebScrapy/blob/master/Groceries/Lotus.ipynb\" target=\"_parent\"><img src=\"https://colab.research.google.com/assets/colab-badge.svg\" alt=\"Open In Colab\"/></a>"
      ]
    },
    {
      "cell_type": "code",
      "execution_count": null,
      "metadata": {
        "id": "pn3wEMOnJXnS"
      },
      "outputs": [],
      "source": [
        "%%bash\n",
        "pip install --no-cache-dir -U scrapy selenium"
      ]
    },
    {
      "cell_type": "code",
      "execution_count": 4,
      "metadata": {
        "colab": {
          "base_uri": "https://localhost:8080/"
        },
        "id": "GvHkdbKIJV9r",
        "outputId": "69178289-ea54-433b-9fb1-87efd889d446"
      },
      "outputs": [
        {
          "output_type": "stream",
          "name": "stdout",
          "text": [
            "Overwriting Lotus.py\n"
          ]
        }
      ],
      "source": [
        "%%writefile Lotus.py\n",
        "import time\n",
        "from selenium import webdriver\n",
        "from selenium.webdriver.common.by import By\n",
        "from selenium.webdriver.common.keys import Keys\n",
        "from selenium.webdriver.support import wait, expected_conditions\n",
        "import scrapy\n",
        "from scrapy import crawler\n",
        "import logging\n",
        "logging.getLogger().setLevel(logging.ERROR)\n",
        "\n",
        "class LotusSpider(scrapy.Spider):\n",
        "    name = 'Lotus'\n",
        "\n",
        "    def __init__(self, **kwargs):\n",
        "        super().__init__(**kwargs)\n",
        "        options = webdriver.chrome.options.Options()\n",
        "        options.add_argument(\"--headless\")\n",
        "        options.add_argument(\"--no-sandbox\")\n",
        "        options.add_argument(\"--enable-javascript\")\n",
        "        options.add_argument(\"--enable-cookies\")\n",
        "        options.add_argument(\"--disable-notifications\")\n",
        "        options.add_argument(\"--disable-web-security\")\n",
        "        options.add_argument(\"--incognito\")\n",
        "        self.driver = webdriver.Chrome(options=options)\n",
        "\n",
        "    def start_requests(self):\n",
        "        urls = [\n",
        "            \"https://www.lotuss.com.my/en/category/meat-poultry/meat/parts-weighted\"\n",
        "        ]\n",
        "\n",
        "        for url in urls:\n",
        "            request = scrapy.Request(url=url, callback=self.parse_products)\n",
        "            yield request\n",
        "\n",
        "    def parse_products(self, response):\n",
        "        self.driver.get(response.url)\n",
        "\n",
        "        try:\n",
        "            wait.WebDriverWait(self.driver, timeout=10)\\\n",
        "            .until(expected_conditions.presence_of_element_located(\n",
        "                (By.XPATH, \"//div[@class='carousel']\")))\n",
        "            selector = scrapy.Selector(text=self.driver.page_source)\n",
        "            category_urls = selector.css(\"div.carousel a\")\n",
        "            yield from response.follow_all(category_urls,\n",
        "                callback=self.parse_products)\n",
        "        except Exception:\n",
        "            pass\n",
        "\n",
        "        try:\n",
        "            wait.WebDriverWait(self.driver, timeout=10)\\\n",
        "            .until(expected_conditions.presence_of_element_located(\n",
        "                (By.XPATH, \"//div[@id='product-list']\")))\n",
        "        except Exception:\n",
        "            raise\n",
        "\n",
        "        html = self.driver.find_element(By.TAG_NAME, \"html\")\n",
        "        last_height = self.driver.execute_script(\n",
        "            \"return document.body.scrollHeight\")\n",
        "        html.send_keys(Keys.END)\n",
        "        while True:\n",
        "            for _ in range(3):\n",
        "                html.send_keys(Keys.END)\n",
        "                time.sleep(10)\n",
        "            new_height = self.driver.execute_script(\n",
        "                \"return document.body.scrollHeight\")\n",
        "            if new_height==last_height:\n",
        "                break\n",
        "            last_height = new_height\n",
        "\n",
        "        selector = scrapy.Selector(text=self.driver.page_source)\n",
        "        category = selector.css(\"ol.MuiBreadcrumbs-ol ::text\").getall()\n",
        "        category = \"/\".join(category[1:])\n",
        "\n",
        "        for item in selector.css(\"div.product-grid-item\"):\n",
        "            name = item.css(\"a#product-title ::text\").get()\n",
        "            price = item.css(\"p ::text\").getall()\n",
        "            price = \"\".join(price[:3])\n",
        "            link = item.css(\"a::attr(href)\").get()\n",
        "\n",
        "            if link is not None:\n",
        "                yield response.follow(link, callback=self.parse_item,\n",
        "                    meta={\n",
        "                        \"category\":category,\n",
        "                        \"name\":name,\n",
        "                        \"price\":price\n",
        "                    })\n",
        "\n",
        "    def parse_item(self, response):\n",
        "        self.driver.get(response.url)\n",
        "\n",
        "        category = response.meta[\"category\"]\n",
        "        name = response.meta[\"name\"]\n",
        "        price = response.meta[\"price\"]\n",
        "\n",
        "        wait.WebDriverWait(self.driver, timeout=10)\\\n",
        "        .until(expected_conditions.presence_of_element_located(\n",
        "            (By.XPATH, \"//div[@id='scrollable-force-tabpanel-0']\")))\n",
        "        selector = scrapy.Selector(text=self.driver.page_source)\n",
        "        information = selector.css(\n",
        "            \"div#scrollable-force-tabpanel-0 ::text\"\n",
        "        ).get()\n",
        "\n",
        "        yield {\n",
        "            \"category\":category,\n",
        "            \"name\":name,\n",
        "            \"price\":price,\n",
        "            \"information\":information\n",
        "        }\n",
        "\n",
        "process = crawler.CrawlerProcess(\n",
        "    settings={\"FEEDS\":{\"items.jl\":{\"format\":\"jsonlines\"}}}\n",
        ")\n",
        "process.crawl(LotusSpider)\n",
        "process.start()"
      ]
    },
    {
      "cell_type": "code",
      "execution_count": null,
      "metadata": {
        "id": "E_dK2apHKAPf"
      },
      "outputs": [],
      "source": [
        "%%bash\n",
        "python Lotus.py"
      ]
    }
  ],
  "metadata": {
    "colab": {
      "provenance": [],
      "include_colab_link": true
    },
    "kernelspec": {
      "display_name": "Python 3 (ipykernel)",
      "language": "python",
      "name": "python3"
    },
    "language_info": {
      "codemirror_mode": {
        "name": "ipython",
        "version": 3
      },
      "file_extension": ".py",
      "mimetype": "text/x-python",
      "name": "python",
      "nbconvert_exporter": "python",
      "pygments_lexer": "ipython3",
      "version": "3.12.3"
    }
  },
  "nbformat": 4,
  "nbformat_minor": 0
}