{
  "nbformat": 4,
  "nbformat_minor": 0,
  "metadata": {
    "colab": {
      "provenance": [],
      "authorship_tag": "ABX9TyP8Y/Jk6s4fFvZ9rnKMvjsC",
      "include_colab_link": true
    },
    "kernelspec": {
      "name": "python3",
      "display_name": "Python 3"
    },
    "language_info": {
      "name": "python"
    }
  },
  "cells": [
    {
      "cell_type": "markdown",
      "metadata": {
        "id": "view-in-github",
        "colab_type": "text"
      },
      "source": [
        "<a href=\"https://colab.research.google.com/github/MengOonLee/WebScrapy/blob/master/Groceries/Lotus.ipynb\" target=\"_parent\"><img src=\"https://colab.research.google.com/assets/colab-badge.svg\" alt=\"Open In Colab\"/></a>"
      ]
    },
    {
      "cell_type": "code",
      "execution_count": null,
      "metadata": {
        "id": "a_jwYKoMWqmU"
      },
      "outputs": [],
      "source": [
        "%%bash\n",
        "apt install chromium-chromedriver\n",
        "\n",
        "pip install --no-cache-dir -qU scrapy selenium"
      ]
    },
    {
      "cell_type": "code",
      "source": [
        "%%writefile Lotus.py\n",
        "from selenium import webdriver\n",
        "import scrapy\n",
        "from scrapy.crawler import CrawlerProcess\n",
        "\n",
        "class LotusSpider(scrapy.Spider):\n",
        "    name = 'Lotus'\n",
        "\n",
        "    def start_requests(self):\n",
        "        urls = [\n",
        "            'https://v17.angular.io/docs'\n",
        "        ]\n",
        "        for url in urls:\n",
        "            yield scrapy.Request(url=url, callback=self.parse,\n",
        "                meta={'url': url})\n",
        "\n",
        "    def parse(self, response):\n",
        "        url = response.meta['url']\n",
        "        options = webdriver.ChromeOptions()\n",
        "        options.add_argument('--headless')\n",
        "        options.add_argument('--no-sandbox')\n",
        "        options.add_argument('--disable-dev-shm-usage')\n",
        "        driver = webdriver.Chrome(options=options)\n",
        "        driver.get(url)\n",
        "\n",
        "        title = driver.title\n",
        "        print(title)\n",
        "\n",
        "process = CrawlerProcess()\n",
        "process.crawl(LotusSpider)\n",
        "process.start()"
      ],
      "metadata": {
        "id": "LpckwD6FYG2Y",
        "colab": {
          "base_uri": "https://localhost:8080/"
        },
        "outputId": "57c690ae-c92b-41a5-938b-8d2b530aaa8e"
      },
      "execution_count": 39,
      "outputs": [
        {
          "output_type": "stream",
          "name": "stdout",
          "text": [
            "Overwriting Lotus.py\n"
          ]
        }
      ]
    },
    {
      "cell_type": "code",
      "source": [
        "%%bash\n",
        "python Lotus.py"
      ],
      "metadata": {
        "id": "J_TorfYlmX5Y"
      },
      "execution_count": null,
      "outputs": []
    }
  ]
}