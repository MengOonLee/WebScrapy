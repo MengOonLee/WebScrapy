{
  "nbformat": 4,
  "nbformat_minor": 0,
  "metadata": {
    "colab": {
      "provenance": [],
      "authorship_tag": "ABX9TyM7dBIH9NkhwztiOjDSC+EX",
      "include_colab_link": true
    },
    "kernelspec": {
      "name": "python3",
      "display_name": "Python 3"
    },
    "language_info": {
      "name": "python"
    }
  },
  "cells": [
    {
      "cell_type": "markdown",
      "metadata": {
        "id": "view-in-github",
        "colab_type": "text"
      },
      "source": [
        "<a href=\"https://colab.research.google.com/github/MengOonLee/WebScrapy/blob/master/Groceries/Lotus.ipynb\" target=\"_parent\"><img src=\"https://colab.research.google.com/assets/colab-badge.svg\" alt=\"Open In Colab\"/></a>"
      ]
    },
    {
      "cell_type": "code",
      "source": [
        "%%bash\n",
        "pip install --no-cache-dir -qU scrapy selenium"
      ],
      "metadata": {
        "id": "I3g1lntAeoPo"
      },
      "execution_count": null,
      "outputs": []
    },
    {
      "cell_type": "code",
      "source": [
        "%%writefile Lotus.py\n",
        "from selenium import webdriver\n",
        "from selenium.webdriver.firefox.options import Options\n",
        "from selenium.webdriver.common.by import By\n",
        "import scrapy\n",
        "from scrapy.crawler import CrawlerProcess\n",
        "\n",
        "options = Options()\n",
        "options.add_argument('--headless')\n",
        "options.add_argument('--no-sandbox')\n",
        "options.add_argument('--disable-dev-shm-usage')\n",
        "driver = webdriver.Firefox(options=options)\n",
        "\n",
        "class LotusSpider(scrapy.Spider):\n",
        "    name = 'Lotus'\n",
        "\n",
        "    def start_requests(self):\n",
        "        urls = [\n",
        "            'https://quotes.toscrape.com'\n",
        "        ]\n",
        "        for url in urls:\n",
        "            yield scrapy.Request(url=url, callback=self.parse,\n",
        "                meta={'url': url})\n",
        "\n",
        "    def parse(self, response):\n",
        "        url = response.meta['url']\n",
        "\n",
        "        driver.get(url)\n",
        "\n",
        "        title_element = driver.find_element(By.CSS_SELECTOR, 'div.quote')\n",
        "        print(title_element.text)\n",
        "\n",
        "        driver.quit()\n",
        "        # yield {'product': product}\n",
        "\n",
        "process = CrawlerProcess()\n",
        "process.crawl(LotusSpider)\n",
        "process.start()"
      ],
      "metadata": {
        "id": "LpckwD6FYG2Y",
        "colab": {
          "base_uri": "https://localhost:8080/"
        },
        "outputId": "aa565988-b629-48fa-d638-9b34404ec843"
      },
      "execution_count": 45,
      "outputs": [
        {
          "output_type": "stream",
          "name": "stdout",
          "text": [
            "Overwriting Lotus.py\n"
          ]
        }
      ]
    },
    {
      "cell_type": "code",
      "source": [
        "%%bash\n",
        "python Lotus.py"
      ],
      "metadata": {
        "id": "J_TorfYlmX5Y",
        "colab": {
          "base_uri": "https://localhost:8080/"
        },
        "outputId": "32d5e107-e7b8-4e5a-a8b6-a96d4c4191e5"
      },
      "execution_count": 46,
      "outputs": [
        {
          "output_type": "stream",
          "name": "stdout",
          "text": [
            "“The world as we have created it is a process of our thinking. It cannot be changed without changing our thinking.”\n",
            "by Albert Einstein (about)\n",
            "Tags: change deep-thoughts thinking world\n"
          ]
        },
        {
          "output_type": "stream",
          "name": "stderr",
          "text": [
            "2024-07-21 16:53:25 [scrapy.utils.log] INFO: Scrapy 2.11.2 started (bot: scrapybot)\n",
            "2024-07-21 16:53:25 [scrapy.utils.log] INFO: Versions: lxml 4.9.4.0, libxml2 2.10.3, cssselect 1.2.0, parsel 1.9.1, w3lib 2.2.1, Twisted 24.3.0, Python 3.10.12 (main, Mar 22 2024, 16:50:05) [GCC 11.4.0], pyOpenSSL 24.1.0 (OpenSSL 3.2.2 4 Jun 2024), cryptography 42.0.8, Platform Linux-6.1.85+-x86_64-with-glibc2.35\n",
            "2024-07-21 16:53:25 [scrapy.addons] INFO: Enabled addons:\n",
            "[]\n",
            "/usr/local/lib/python3.10/dist-packages/scrapy/utils/request.py:254: ScrapyDeprecationWarning: '2.6' is a deprecated value for the 'REQUEST_FINGERPRINTER_IMPLEMENTATION' setting.\n",
            "\n",
            "It is also the default value. In other words, it is normal to get this warning if you have not defined a value for the 'REQUEST_FINGERPRINTER_IMPLEMENTATION' setting. This is so for backward compatibility reasons, but it will change in a future version of Scrapy.\n",
            "\n",
            "See the documentation of the 'REQUEST_FINGERPRINTER_IMPLEMENTATION' setting for information on how to handle this deprecation.\n",
            "  return cls(crawler)\n",
            "2024-07-21 16:53:25 [scrapy.utils.log] DEBUG: Using reactor: twisted.internet.epollreactor.EPollReactor\n",
            "2024-07-21 16:53:26 [scrapy.extensions.telnet] INFO: Telnet Password: 74ed0d01ab8d22ed\n",
            "2024-07-21 16:53:28 [scrapy.middleware] INFO: Enabled extensions:\n",
            "['scrapy.extensions.corestats.CoreStats',\n",
            " 'scrapy.extensions.telnet.TelnetConsole',\n",
            " 'scrapy.extensions.memusage.MemoryUsage',\n",
            " 'scrapy.extensions.logstats.LogStats']\n",
            "2024-07-21 16:53:28 [scrapy.crawler] INFO: Overridden settings:\n",
            "{}\n",
            "2024-07-21 16:53:30 [scrapy.middleware] INFO: Enabled downloader middlewares:\n",
            "['scrapy.downloadermiddlewares.offsite.OffsiteMiddleware',\n",
            " 'scrapy.downloadermiddlewares.httpauth.HttpAuthMiddleware',\n",
            " 'scrapy.downloadermiddlewares.downloadtimeout.DownloadTimeoutMiddleware',\n",
            " 'scrapy.downloadermiddlewares.defaultheaders.DefaultHeadersMiddleware',\n",
            " 'scrapy.downloadermiddlewares.useragent.UserAgentMiddleware',\n",
            " 'scrapy.downloadermiddlewares.retry.RetryMiddleware',\n",
            " 'scrapy.downloadermiddlewares.redirect.MetaRefreshMiddleware',\n",
            " 'scrapy.downloadermiddlewares.httpcompression.HttpCompressionMiddleware',\n",
            " 'scrapy.downloadermiddlewares.redirect.RedirectMiddleware',\n",
            " 'scrapy.downloadermiddlewares.cookies.CookiesMiddleware',\n",
            " 'scrapy.downloadermiddlewares.httpproxy.HttpProxyMiddleware',\n",
            " 'scrapy.downloadermiddlewares.stats.DownloaderStats']\n",
            "2024-07-21 16:53:30 [scrapy.middleware] INFO: Enabled spider middlewares:\n",
            "['scrapy.spidermiddlewares.httperror.HttpErrorMiddleware',\n",
            " 'scrapy.spidermiddlewares.referer.RefererMiddleware',\n",
            " 'scrapy.spidermiddlewares.urllength.UrlLengthMiddleware',\n",
            " 'scrapy.spidermiddlewares.depth.DepthMiddleware']\n",
            "2024-07-21 16:53:30 [scrapy.middleware] INFO: Enabled item pipelines:\n",
            "[]\n",
            "2024-07-21 16:53:30 [scrapy.core.engine] INFO: Spider opened\n",
            "2024-07-21 16:53:31 [scrapy.extensions.logstats] INFO: Crawled 0 pages (at 0 pages/min), scraped 0 items (at 0 items/min)\n",
            "2024-07-21 16:53:31 [scrapy.extensions.telnet] INFO: Telnet console listening on 127.0.0.1:6023\n",
            "2024-07-21 16:53:32 [scrapy.core.engine] DEBUG: Crawled (200) <GET https://quotes.toscrape.com> (referer: None)\n",
            "2024-07-21 16:53:32 [selenium.webdriver.remote.remote_connection] DEBUG: POST http://localhost:51833/session/11385354-a129-4dd3-a96d-4c46ca6f690a/url {'url': 'https://quotes.toscrape.com'}\n",
            "2024-07-21 16:53:40 [urllib3.connectionpool] DEBUG: http://localhost:51833 \"POST /session/11385354-a129-4dd3-a96d-4c46ca6f690a/url HTTP/1.1\" 200 0\n",
            "2024-07-21 16:53:40 [selenium.webdriver.remote.remote_connection] DEBUG: Remote response: status=200 | data={\"value\":null} | headers=HTTPHeaderDict({'content-type': 'application/json; charset=utf-8', 'cache-control': 'no-cache', 'content-length': '14', 'date': 'Sun, 21 Jul 2024 16:53:32 GMT'})\n",
            "2024-07-21 16:53:40 [selenium.webdriver.remote.remote_connection] DEBUG: Finished Request\n",
            "2024-07-21 16:53:40 [selenium.webdriver.remote.remote_connection] DEBUG: POST http://localhost:51833/session/11385354-a129-4dd3-a96d-4c46ca6f690a/element {'using': 'css selector', 'value': 'div.quote'}\n",
            "2024-07-21 16:53:41 [urllib3.connectionpool] DEBUG: http://localhost:51833 \"POST /session/11385354-a129-4dd3-a96d-4c46ca6f690a/element HTTP/1.1\" 200 0\n",
            "2024-07-21 16:53:41 [selenium.webdriver.remote.remote_connection] DEBUG: Remote response: status=200 | data={\"value\":{\"element-6066-11e4-a52e-4f735466cecf\":\"87d818d7-aced-4f7b-a48c-47ab6701ed12\"}} | headers=HTTPHeaderDict({'content-type': 'application/json; charset=utf-8', 'cache-control': 'no-cache', 'content-length': '88', 'date': 'Sun, 21 Jul 2024 16:53:40 GMT'})\n",
            "2024-07-21 16:53:41 [selenium.webdriver.remote.remote_connection] DEBUG: Finished Request\n",
            "2024-07-21 16:53:41 [selenium.webdriver.remote.remote_connection] DEBUG: GET http://localhost:51833/session/11385354-a129-4dd3-a96d-4c46ca6f690a/element/87d818d7-aced-4f7b-a48c-47ab6701ed12/text {}\n",
            "2024-07-21 16:53:43 [urllib3.connectionpool] DEBUG: http://localhost:51833 \"GET /session/11385354-a129-4dd3-a96d-4c46ca6f690a/element/87d818d7-aced-4f7b-a48c-47ab6701ed12/text HTTP/1.1\" 200 0\n",
            "2024-07-21 16:53:43 [selenium.webdriver.remote.remote_connection] DEBUG: Remote response: status=200 | data={\"value\":\"“The world as we have created it is a process of our thinking. It cannot be changed without changing our thinking.”\\nby Albert Einstein (about)\\nTags: change deep-thoughts thinking world\"} | headers=HTTPHeaderDict({'content-type': 'application/json; charset=utf-8', 'cache-control': 'no-cache', 'content-length': '202', 'date': 'Sun, 21 Jul 2024 16:53:41 GMT'})\n",
            "2024-07-21 16:53:43 [selenium.webdriver.remote.remote_connection] DEBUG: Finished Request\n",
            "2024-07-21 16:53:43 [selenium.webdriver.remote.remote_connection] DEBUG: DELETE http://localhost:51833/session/11385354-a129-4dd3-a96d-4c46ca6f690a {}\n",
            "2024-07-21 16:53:48 [urllib3.connectionpool] DEBUG: http://localhost:51833 \"DELETE /session/11385354-a129-4dd3-a96d-4c46ca6f690a HTTP/1.1\" 200 0\n",
            "2024-07-21 16:53:48 [selenium.webdriver.remote.remote_connection] DEBUG: Remote response: status=200 | data={\"value\":null} | headers=HTTPHeaderDict({'content-type': 'application/json; charset=utf-8', 'cache-control': 'no-cache', 'content-length': '14', 'date': 'Sun, 21 Jul 2024 16:53:43 GMT'})\n",
            "2024-07-21 16:53:48 [selenium.webdriver.remote.remote_connection] DEBUG: Finished Request\n",
            "2024-07-21 16:53:48 [scrapy.core.engine] INFO: Closing spider (finished)\n",
            "2024-07-21 16:53:48 [scrapy.statscollectors] INFO: Dumping Scrapy stats:\n",
            "{'downloader/request_bytes': 220,\n",
            " 'downloader/request_count': 1,\n",
            " 'downloader/request_method_count/GET': 1,\n",
            " 'downloader/response_bytes': 11239,\n",
            " 'downloader/response_count': 1,\n",
            " 'downloader/response_status_count/200': 1,\n",
            " 'elapsed_time_seconds': 17.478068,\n",
            " 'finish_reason': 'finished',\n",
            " 'finish_time': datetime.datetime(2024, 7, 21, 16, 53, 48, 649499, tzinfo=datetime.timezone.utc),\n",
            " 'log_count/DEBUG': 18,\n",
            " 'log_count/INFO': 10,\n",
            " 'memusage/max': 65253376,\n",
            " 'memusage/startup': 65253376,\n",
            " 'response_received_count': 1,\n",
            " 'scheduler/dequeued': 1,\n",
            " 'scheduler/dequeued/memory': 1,\n",
            " 'scheduler/enqueued': 1,\n",
            " 'scheduler/enqueued/memory': 1,\n",
            " 'start_time': datetime.datetime(2024, 7, 21, 16, 53, 31, 171431, tzinfo=datetime.timezone.utc)}\n",
            "2024-07-21 16:53:48 [scrapy.core.engine] INFO: Spider closed (finished)\n"
          ]
        }
      ]
    },
    {
      "cell_type": "code",
      "source": [],
      "metadata": {
        "id": "9TldnJmirnrA"
      },
      "execution_count": null,
      "outputs": []
    }
  ]
}