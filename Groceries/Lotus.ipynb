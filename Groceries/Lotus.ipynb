{
 "cells": [
  {
   "cell_type": "markdown",
   "metadata": {
    "colab_type": "text",
    "id": "view-in-github"
   },
   "source": [
    "<a href=\"https://colab.research.google.com/github/MengOonLee/WebScrapy/blob/master/Groceries/Lotus.ipynb\" target=\"_parent\"><img src=\"https://colab.research.google.com/assets/colab-badge.svg\" alt=\"Open In Colab\"/></a>"
   ]
  },
  {
   "cell_type": "code",
   "execution_count": null,
   "metadata": {
    "id": "I3g1lntAeoPo"
   },
   "outputs": [],
   "source": [
    "%%bash\n",
    "pip install --no-cache-dir -qU scrapy selenium"
   ]
  },
  {
   "cell_type": "code",
   "execution_count": 105,
   "metadata": {
    "colab": {
     "base_uri": "https://localhost:8080/"
    },
    "id": "LpckwD6FYG2Y",
    "outputId": "e033c060-b845-49d1-a95b-201e8cd7c14a"
   },
   "outputs": [
    {
     "name": "stdout",
     "output_type": "stream",
     "text": [
      "Overwriting Lotus.py\n"
     ]
    }
   ],
   "source": [
    "%%writefile Lotus.py\n",
    "import time\n",
    "from selenium import webdriver\n",
    "from selenium.webdriver.common.by import By\n",
    "from selenium.webdriver.support import wait, expected_conditions\n",
    "from selenium.common.exceptions import TimeoutException\n",
    "import scrapy\n",
    "from scrapy import crawler, loader\n",
    "from itemloaders import processors\n",
    "import logging\n",
    "logging.getLogger().setLevel(logging.INFO)\n",
    "\n",
    "class LotusItem(scrapy.Item):\n",
    "    categories = scrapy.Field()\n",
    "    name = scrapy.Field(output_processor = processors.TakeFirst())\n",
    "    price = scrapy.Field(output_processor = processors.TakeFirst())\n",
    "    info = scrapy.Field()\n",
    "\n",
    "class LotusLoader(loader.ItemLoader):\n",
    "    item = LotusItem()\n",
    "    # default_output_processor = processors.TakeFirst()\n",
    "\n",
    "class LotusSpider(scrapy.Spider):\n",
    "    name = 'Lotus'\n",
    "\n",
    "    def __init__(self, **kwargs):\n",
    "        super().__init__(**kwargs)\n",
    "        options = webdriver.chrome.options.Options()\n",
    "        options.add_argument(\"--headless\")\n",
    "        options.add_argument(\"--no-sandbox\")\n",
    "        options.add_argument(\"--enable-javascript\")\n",
    "        options.add_argument(\"--enable-cookies\")\n",
    "        options.add_argument(\"--disable-notifications\")\n",
    "        options.add_argument(\"--disable-web-security\")\n",
    "        options.add_argument(\"--incognito\")\n",
    "        self.driver = webdriver.Chrome(options=options)\n",
    "\n",
    "    def start_requests(self):\n",
    "        urls = [\n",
    "            # \"https://www.lotuss.com.my/en/category/meat-poultry/meat/parts-weighted\"\n",
    "            \"https://www.lotuss.com.my/en/category/meat-poultry/meat\"\n",
    "        ]\n",
    "        \n",
    "        for url in urls:\n",
    "            request = scrapy.Request(url=url, callback=self.parse_items)\n",
    "            yield request\n",
    "\n",
    "    def parse_items(self, response):\n",
    "        self.driver.get(response.url)\n",
    "\n",
    "        elem_present = \"\"\n",
    "        while not elem_present:\n",
    "            try:\n",
    "                elem_present = self.driver.find_element(By.XPATH,\n",
    "                    \"//div[@id='product-list']\")\n",
    "            except:\n",
    "                continue\n",
    "\n",
    "        # element_present = \"\"\n",
    "        # while not element_present:\n",
    "        #     try:\n",
    "        #         element_present = wait.WebDriverWait(self.driver, 10).until(\n",
    "        #             expected_conditions.presence_of_element_located(\n",
    "        #                 (By.XPATH, \"//div[@id='product-list']\")))\n",
    "        #     except TimeoutException:\n",
    "        #         pass\n",
    "        \n",
    "        selector = scrapy.Selector(text=self.driver.page_source)\n",
    "        categories = selector.xpath(\n",
    "            \"//li[contains(@class, 'MuiBreadcrumbs-li')]//text()\"\n",
    "        ).getall()\n",
    "\n",
    "        categories_url = selector.css(\"div.carousel a\")\n",
    "        if len(categories_url)!=0:\n",
    "            yield from response.follow_all(categories_url,\n",
    "                callback=self.parse_items)\n",
    "\n",
    "        else:\n",
    "            last_height = self.driver.execute_script(\n",
    "                \"return document.body.scrollHeight\")\n",
    "            while True:\n",
    "                self.driver.execute_script(\n",
    "                    \"window.scrollTo(0, document.body.scrollHeight)\")\n",
    "                time.sleep(3)\n",
    "                new_height = self.driver.execute_script(\n",
    "                    \"return document.body.scrollHeight\")\n",
    "                if new_height==last_height:\n",
    "                    break\n",
    "                last_height = new_height\n",
    "            \n",
    "            items = selector.css(\"div.product-grid-item\")\n",
    "            for item in items:\n",
    "                loader = LotusLoader()\n",
    "\n",
    "                loader.add_value(\"categories\", categories)\n",
    "                \n",
    "                name = item.css(\"a#product-title::text\").get()\n",
    "                loader.add_value(\"name\", name)\n",
    "\n",
    "                price = item.css(\"p\")[0].css(\"::text\").getall()\n",
    "                loader.add_value(\"price\", \"\".join(price))\n",
    "\n",
    "                yield loader.load_item()\n",
    "\n",
    "                # img_url = item.css(\"img::attr(src)\").get()\n",
    "\n",
    "                # info_page = item.css(\"a::attr(href)\").get()\n",
    "                # if info_page is not None:\n",
    "                #     yield response.follow(info_page,\n",
    "                #         callback=self.parse_info)\n",
    "\n",
    "            # info_links = selector.css(\"div#product-list a\")\n",
    "            # yield from response.follow_all(info_links,\n",
    "            #     callback=self.parse_info)\n",
    "\n",
    "    # def parse_info(self, response):\n",
    "    #     self.driver.get(response.url)\n",
    "\n",
    "    #     selector = scrapy.Selector(text=self.driver.page_source)\n",
    "    #     info = selector.css(\"div.MuiBox-root::text\")[2].get()\n",
    "    #     print(info)\n",
    "    #     yield info\n",
    "\n",
    "\n",
    "process = crawler.CrawlerProcess(\n",
    "    # settings={\"FEEDS\":{\"items.jl\":{\"format\":\"jsonlines\"}}}\n",
    ")\n",
    "process.crawl(LotusSpider)\n",
    "process.start()"
   ]
  }
 ],
 "metadata": {
  "colab": {
   "authorship_tag": "ABX9TyOEy+ogCvkgS+3T6/mzrtkk",
   "include_colab_link": true,
   "provenance": []
  },
  "kernelspec": {
   "display_name": "Python 3 (ipykernel)",
   "language": "python",
   "name": "python3"
  },
  "language_info": {
   "codemirror_mode": {
    "name": "ipython",
    "version": 3
   },
   "file_extension": ".py",
   "mimetype": "text/x-python",
   "name": "python",
   "nbconvert_exporter": "python",
   "pygments_lexer": "ipython3",
   "version": "3.10.12"
  }
 },
 "nbformat": 4,
 "nbformat_minor": 4
}
