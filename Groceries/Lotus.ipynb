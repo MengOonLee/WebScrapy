{
  "nbformat": 4,
  "nbformat_minor": 0,
  "metadata": {
    "colab": {
      "provenance": [],
      "authorship_tag": "ABX9TyMApK4kdqJVLodsUO5ley9j",
      "include_colab_link": true
    },
    "kernelspec": {
      "name": "python3",
      "display_name": "Python 3"
    },
    "language_info": {
      "name": "python"
    }
  },
  "cells": [
    {
      "cell_type": "markdown",
      "metadata": {
        "id": "view-in-github",
        "colab_type": "text"
      },
      "source": [
        "<a href=\"https://colab.research.google.com/github/MengOonLee/WebScrapy/blob/master/Groceries/Lotus.ipynb\" target=\"_parent\"><img src=\"https://colab.research.google.com/assets/colab-badge.svg\" alt=\"Open In Colab\"/></a>"
      ]
    },
    {
      "cell_type": "code",
      "execution_count": null,
      "metadata": {
        "id": "a_jwYKoMWqmU"
      },
      "outputs": [],
      "source": [
        "%%bash\n",
        "pip install --no-cache-dir -qU scrapy selenium"
      ]
    },
    {
      "cell_type": "code",
      "source": [
        "from selenium import webdriver\n",
        "\n",
        "service = webdriver.chrome.service.Service(\n",
        "    './chromedriver'\n",
        ")\n",
        "# options = webdriver.chrome.options.Options()\n",
        "service.start()\n",
        "driver = webdriver.Remote(service.service_url)\n",
        "driver"
      ],
      "metadata": {
        "id": "wR2Jmro-dPHm"
      },
      "execution_count": null,
      "outputs": []
    },
    {
      "cell_type": "code",
      "source": [
        "%%writefile Lotus.py\n",
        "from selenium import webdriver\n",
        "import scrapy\n",
        "from scrapy.crawler import CrawlerProcess\n",
        "\n",
        "class LotusSpider(scrapy.Spider):\n",
        "    name = 'Lotus'\n",
        "\n",
        "    def start_requests(self):\n",
        "        urls = [\n",
        "            'https://v17.angular.io/docs'\n",
        "        ]\n",
        "        for url in urls:\n",
        "            yield scrapy.Request(url=url, callback=self.parse,\n",
        "                meta={'url': url})\n",
        "\n",
        "    def parse(self, response):\n",
        "        url = response.meta['url']\n",
        "        service = webdriver.chrome.service.Service()\n",
        "        options = webdriver.chrome.options.Options()\n",
        "        options.add_argument('--headless')\n",
        "        driver = webdriver.Chrome(service=service, options=options)\n",
        "        driver.get(url)\n",
        "\n",
        "        title = driver.title\n",
        "        print(title)\n",
        "\n",
        "process = CrawlerProcess()\n",
        "process.crawl(LotusSpider)\n",
        "process.start()"
      ],
      "metadata": {
        "id": "LpckwD6FYG2Y",
        "colab": {
          "base_uri": "https://localhost:8080/"
        },
        "outputId": "cc64d86e-001f-4411-9626-a59a8e3dab58"
      },
      "execution_count": 16,
      "outputs": [
        {
          "output_type": "stream",
          "name": "stdout",
          "text": [
            "Overwriting Lotus.py\n"
          ]
        }
      ]
    },
    {
      "cell_type": "code",
      "source": [
        "%%bash\n",
        "python Lotus.py"
      ],
      "metadata": {
        "id": "J_TorfYlmX5Y"
      },
      "execution_count": null,
      "outputs": []
    }
  ]
}