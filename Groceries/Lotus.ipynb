{
  "nbformat": 4,
  "nbformat_minor": 0,
  "metadata": {
    "colab": {
      "provenance": [],
      "authorship_tag": "ABX9TyO05sPknKs/CEoe8d8TVdjc",
      "include_colab_link": true
    },
    "kernelspec": {
      "name": "python3",
      "display_name": "Python 3"
    },
    "language_info": {
      "name": "python"
    }
  },
  "cells": [
    {
      "cell_type": "markdown",
      "metadata": {
        "id": "view-in-github",
        "colab_type": "text"
      },
      "source": [
        "<a href=\"https://colab.research.google.com/github/MengOonLee/WebScrapy/blob/master/Groceries/Lotus.ipynb\" target=\"_parent\"><img src=\"https://colab.research.google.com/assets/colab-badge.svg\" alt=\"Open In Colab\"/></a>"
      ]
    },
    {
      "cell_type": "code",
      "source": [
        "%%bash\n",
        "pip install --no-cache-dir -qU scrapy selenium"
      ],
      "metadata": {
        "id": "I3g1lntAeoPo"
      },
      "execution_count": null,
      "outputs": []
    },
    {
      "cell_type": "code",
      "source": [
        "%%writefile Lotus.py\n",
        "from selenium import webdriver\n",
        "from selenium.webdriver.chrome.options import Options\n",
        "from selenium.webdriver.common.by import By\n",
        "import scrapy\n",
        "from scrapy.crawler import CrawlerProcess\n",
        "\n",
        "options = Options()\n",
        "options.add_argument('--headless')\n",
        "options.add_argument('--no-sandbox')\n",
        "options.add_argument('--disable-dev-shm-usage')\n",
        "driver = webdriver.Chrome(options=options)\n",
        "\n",
        "class LotusSpider(scrapy.Spider):\n",
        "    name = 'Lotus'\n",
        "\n",
        "    def start_requests(self):\n",
        "        urls = [\n",
        "            'https://quotes.toscrape.com'\n",
        "        ]\n",
        "        for url in urls:\n",
        "            yield scrapy.Request(url=url, callback=self.parse,\n",
        "                meta={'url': url})\n",
        "\n",
        "    def parse(self, response):\n",
        "        url = response.meta['url']\n",
        "\n",
        "        driver.get(url)\n",
        "\n",
        "        element = driver.find_element(By.CSS_SELECTOR, 'div.quote')\n",
        "        print(element.text)\n",
        "\n",
        "        driver.close()\n",
        "\n",
        "process = CrawlerProcess()\n",
        "process.crawl(LotusSpider)\n",
        "process.start()"
      ],
      "metadata": {
        "id": "LpckwD6FYG2Y",
        "colab": {
          "base_uri": "https://localhost:8080/"
        },
        "outputId": "e3d9f4b2-ec10-47e7-9cf9-969c7e7c5e97"
      },
      "execution_count": 12,
      "outputs": [
        {
          "output_type": "stream",
          "name": "stdout",
          "text": [
            "Overwriting Lotus.py\n"
          ]
        }
      ]
    },
    {
      "cell_type": "code",
      "source": [
        "%%bash\n",
        "python Lotus.py"
      ],
      "metadata": {
        "id": "J_TorfYlmX5Y",
        "colab": {
          "base_uri": "https://localhost:8080/"
        },
        "outputId": "4a496aef-9c60-48f1-d142-f62c2e37bc38"
      },
      "execution_count": 13,
      "outputs": [
        {
          "output_type": "stream",
          "name": "stdout",
          "text": [
            "“The world as we have created it is a process of our thinking. It cannot be changed without changing our thinking.”\n",
            "by Albert Einstein (about)\n",
            "Tags: change deep-thoughts thinking world\n"
          ]
        },
        {
          "output_type": "stream",
          "name": "stderr",
          "text": [
            "2024-07-27 03:34:16 [scrapy.utils.log] INFO: Scrapy 2.11.2 started (bot: scrapybot)\n",
            "2024-07-27 03:34:16 [scrapy.utils.log] INFO: Versions: lxml 4.9.4.0, libxml2 2.10.3, cssselect 1.2.0, parsel 1.9.1, w3lib 2.2.1, Twisted 24.3.0, Python 3.10.12 (main, Mar 22 2024, 16:50:05) [GCC 11.4.0], pyOpenSSL 24.2.1 (OpenSSL 3.2.2 4 Jun 2024), cryptography 42.0.8, Platform Linux-6.1.85+-x86_64-with-glibc2.35\n",
            "2024-07-27 03:34:16 [scrapy.addons] INFO: Enabled addons:\n",
            "[]\n",
            "/usr/local/lib/python3.10/dist-packages/scrapy/utils/request.py:254: ScrapyDeprecationWarning: '2.6' is a deprecated value for the 'REQUEST_FINGERPRINTER_IMPLEMENTATION' setting.\n",
            "\n",
            "It is also the default value. In other words, it is normal to get this warning if you have not defined a value for the 'REQUEST_FINGERPRINTER_IMPLEMENTATION' setting. This is so for backward compatibility reasons, but it will change in a future version of Scrapy.\n",
            "\n",
            "See the documentation of the 'REQUEST_FINGERPRINTER_IMPLEMENTATION' setting for information on how to handle this deprecation.\n",
            "  return cls(crawler)\n",
            "2024-07-27 03:34:16 [scrapy.utils.log] DEBUG: Using reactor: twisted.internet.epollreactor.EPollReactor\n",
            "2024-07-27 03:34:16 [scrapy.extensions.telnet] INFO: Telnet Password: 52929cd209783caa\n",
            "2024-07-27 03:34:16 [scrapy.middleware] INFO: Enabled extensions:\n",
            "['scrapy.extensions.corestats.CoreStats',\n",
            " 'scrapy.extensions.telnet.TelnetConsole',\n",
            " 'scrapy.extensions.memusage.MemoryUsage',\n",
            " 'scrapy.extensions.logstats.LogStats']\n",
            "2024-07-27 03:34:16 [scrapy.crawler] INFO: Overridden settings:\n",
            "{}\n",
            "2024-07-27 03:34:16 [scrapy.middleware] INFO: Enabled downloader middlewares:\n",
            "['scrapy.downloadermiddlewares.offsite.OffsiteMiddleware',\n",
            " 'scrapy.downloadermiddlewares.httpauth.HttpAuthMiddleware',\n",
            " 'scrapy.downloadermiddlewares.downloadtimeout.DownloadTimeoutMiddleware',\n",
            " 'scrapy.downloadermiddlewares.defaultheaders.DefaultHeadersMiddleware',\n",
            " 'scrapy.downloadermiddlewares.useragent.UserAgentMiddleware',\n",
            " 'scrapy.downloadermiddlewares.retry.RetryMiddleware',\n",
            " 'scrapy.downloadermiddlewares.redirect.MetaRefreshMiddleware',\n",
            " 'scrapy.downloadermiddlewares.httpcompression.HttpCompressionMiddleware',\n",
            " 'scrapy.downloadermiddlewares.redirect.RedirectMiddleware',\n",
            " 'scrapy.downloadermiddlewares.cookies.CookiesMiddleware',\n",
            " 'scrapy.downloadermiddlewares.httpproxy.HttpProxyMiddleware',\n",
            " 'scrapy.downloadermiddlewares.stats.DownloaderStats']\n",
            "2024-07-27 03:34:16 [scrapy.middleware] INFO: Enabled spider middlewares:\n",
            "['scrapy.spidermiddlewares.httperror.HttpErrorMiddleware',\n",
            " 'scrapy.spidermiddlewares.referer.RefererMiddleware',\n",
            " 'scrapy.spidermiddlewares.urllength.UrlLengthMiddleware',\n",
            " 'scrapy.spidermiddlewares.depth.DepthMiddleware']\n",
            "2024-07-27 03:34:16 [scrapy.middleware] INFO: Enabled item pipelines:\n",
            "[]\n",
            "2024-07-27 03:34:16 [scrapy.core.engine] INFO: Spider opened\n",
            "2024-07-27 03:34:16 [scrapy.extensions.logstats] INFO: Crawled 0 pages (at 0 pages/min), scraped 0 items (at 0 items/min)\n",
            "2024-07-27 03:34:16 [scrapy.extensions.telnet] INFO: Telnet console listening on 127.0.0.1:6023\n",
            "2024-07-27 03:34:16 [scrapy.core.engine] DEBUG: Crawled (200) <GET https://quotes.toscrape.com> (referer: None)\n",
            "2024-07-27 03:34:16 [selenium.webdriver.remote.remote_connection] DEBUG: POST http://localhost:34793/session/d80ccc585fc71e0de683fca6f1669bd0/url {'url': 'https://quotes.toscrape.com'}\n",
            "2024-07-27 03:34:16 [urllib3.connectionpool] DEBUG: http://localhost:34793 \"POST /session/d80ccc585fc71e0de683fca6f1669bd0/url HTTP/1.1\" 200 0\n",
            "2024-07-27 03:34:16 [selenium.webdriver.remote.remote_connection] DEBUG: Remote response: status=200 | data={\"value\":null} | headers=HTTPHeaderDict({'Content-Length': '14', 'Content-Type': 'application/json; charset=utf-8', 'cache-control': 'no-cache'})\n",
            "2024-07-27 03:34:16 [selenium.webdriver.remote.remote_connection] DEBUG: Finished Request\n",
            "2024-07-27 03:34:16 [selenium.webdriver.remote.remote_connection] DEBUG: POST http://localhost:34793/session/d80ccc585fc71e0de683fca6f1669bd0/element {'using': 'css selector', 'value': 'div.quote'}\n",
            "2024-07-27 03:34:16 [urllib3.connectionpool] DEBUG: http://localhost:34793 \"POST /session/d80ccc585fc71e0de683fca6f1669bd0/element HTTP/1.1\" 200 0\n",
            "2024-07-27 03:34:16 [selenium.webdriver.remote.remote_connection] DEBUG: Remote response: status=200 | data={\"value\":{\"element-6066-11e4-a52e-4f735466cecf\":\"f.160AA0449F7E0C4F55972DF380245FBD.d.C2F7E4559EBEA2C9F2135588C64D9257.e.2\"}} | headers=HTTPHeaderDict({'Content-Length': '125', 'Content-Type': 'application/json; charset=utf-8', 'cache-control': 'no-cache'})\n",
            "2024-07-27 03:34:16 [selenium.webdriver.remote.remote_connection] DEBUG: Finished Request\n",
            "2024-07-27 03:34:16 [selenium.webdriver.remote.remote_connection] DEBUG: GET http://localhost:34793/session/d80ccc585fc71e0de683fca6f1669bd0/element/f.160AA0449F7E0C4F55972DF380245FBD.d.C2F7E4559EBEA2C9F2135588C64D9257.e.2/text {}\n",
            "2024-07-27 03:34:16 [urllib3.connectionpool] DEBUG: http://localhost:34793 \"GET /session/d80ccc585fc71e0de683fca6f1669bd0/element/f.160AA0449F7E0C4F55972DF380245FBD.d.C2F7E4559EBEA2C9F2135588C64D9257.e.2/text HTTP/1.1\" 200 0\n",
            "2024-07-27 03:34:16 [selenium.webdriver.remote.remote_connection] DEBUG: Remote response: status=200 | data={\"value\":\"“The world as we have created it is a process of our thinking. It cannot be changed without changing our thinking.”\\nby Albert Einstein (about)\\nTags: change deep-thoughts thinking world\"} | headers=HTTPHeaderDict({'Content-Length': '202', 'Content-Type': 'application/json; charset=utf-8', 'cache-control': 'no-cache'})\n",
            "2024-07-27 03:34:16 [selenium.webdriver.remote.remote_connection] DEBUG: Finished Request\n",
            "2024-07-27 03:34:16 [selenium.webdriver.remote.remote_connection] DEBUG: DELETE http://localhost:34793/session/d80ccc585fc71e0de683fca6f1669bd0/window {}\n",
            "2024-07-27 03:34:16 [urllib3.connectionpool] DEBUG: http://localhost:34793 \"DELETE /session/d80ccc585fc71e0de683fca6f1669bd0/window HTTP/1.1\" 200 0\n",
            "2024-07-27 03:34:16 [selenium.webdriver.remote.remote_connection] DEBUG: Remote response: status=200 | data={\"value\":[]} | headers=HTTPHeaderDict({'Content-Length': '12', 'Content-Type': 'application/json; charset=utf-8', 'cache-control': 'no-cache'})\n",
            "2024-07-27 03:34:16 [selenium.webdriver.remote.remote_connection] DEBUG: Finished Request\n",
            "2024-07-27 03:34:16 [scrapy.core.engine] INFO: Closing spider (finished)\n",
            "2024-07-27 03:34:16 [scrapy.statscollectors] INFO: Dumping Scrapy stats:\n",
            "{'downloader/request_bytes': 220,\n",
            " 'downloader/request_count': 1,\n",
            " 'downloader/request_method_count/GET': 1,\n",
            " 'downloader/response_bytes': 11239,\n",
            " 'downloader/response_count': 1,\n",
            " 'downloader/response_status_count/200': 1,\n",
            " 'elapsed_time_seconds': 0.570862,\n",
            " 'finish_reason': 'finished',\n",
            " 'finish_time': datetime.datetime(2024, 7, 27, 3, 34, 16, 949886, tzinfo=datetime.timezone.utc),\n",
            " 'log_count/DEBUG': 18,\n",
            " 'log_count/INFO': 10,\n",
            " 'memusage/max': 65957888,\n",
            " 'memusage/startup': 65957888,\n",
            " 'response_received_count': 1,\n",
            " 'scheduler/dequeued': 1,\n",
            " 'scheduler/dequeued/memory': 1,\n",
            " 'scheduler/enqueued': 1,\n",
            " 'scheduler/enqueued/memory': 1,\n",
            " 'start_time': datetime.datetime(2024, 7, 27, 3, 34, 16, 379024, tzinfo=datetime.timezone.utc)}\n",
            "2024-07-27 03:34:16 [scrapy.core.engine] INFO: Spider closed (finished)\n"
          ]
        }
      ]
    }
  ]
}