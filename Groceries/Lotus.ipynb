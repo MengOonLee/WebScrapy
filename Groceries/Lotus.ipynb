{
  "cells": [
    {
      "cell_type": "markdown",
      "metadata": {
        "id": "view-in-github",
        "colab_type": "text"
      },
      "source": [
        "<a href=\"https://colab.research.google.com/github/MengOonLee/WebScrapy/blob/master/Groceries/Lotus.ipynb\" target=\"_parent\"><img src=\"https://colab.research.google.com/assets/colab-badge.svg\" alt=\"Open In Colab\"/></a>"
      ]
    },
    {
      "cell_type": "code",
      "execution_count": null,
      "metadata": {
        "id": "pn3wEMOnJXnS"
      },
      "outputs": [],
      "source": [
        "%%bash\n",
        "pip install --no-cache-dir -U scrapy selenium"
      ]
    },
    {
      "cell_type": "code",
      "source": [
        "%%bash\n",
        "rm -rf Images/Lotus\n",
        "rm -rf Lotus.jl"
      ],
      "metadata": {
        "id": "r_PRV0X2-yrO"
      },
      "execution_count": 63,
      "outputs": []
    },
    {
      "cell_type": "code",
      "execution_count": 58,
      "metadata": {
        "colab": {
          "base_uri": "https://localhost:8080/"
        },
        "id": "GvHkdbKIJV9r",
        "outputId": "85cd79d2-19c0-4219-99fc-2bf5d4789539"
      },
      "outputs": [
        {
          "output_type": "stream",
          "name": "stdout",
          "text": [
            "Overwriting Lotus.py\n"
          ]
        }
      ],
      "source": [
        "%%writefile Lotus.py\n",
        "import os\n",
        "import logging\n",
        "logging.getLogger().setLevel(logging.ERROR)\n",
        "import time\n",
        "import re\n",
        "from selenium import webdriver\n",
        "from selenium.webdriver.common.by import By\n",
        "from selenium.webdriver.common.keys import Keys\n",
        "from selenium.webdriver.support import wait, expected_conditions\n",
        "import scrapy\n",
        "from scrapy import crawler\n",
        "from scrapy.pipelines.images import ImagesPipeline\n",
        "\n",
        "class LotusItem(scrapy.Item):\n",
        "    category = scrapy.Field()\n",
        "    name = scrapy.Field()\n",
        "    price = scrapy.Field()\n",
        "    information = scrapy.Field()\n",
        "    image_urls = scrapy.Field()\n",
        "    images = scrapy.Field()\n",
        "\n",
        "class LotusImagesPipeline(ImagesPipeline):\n",
        "\n",
        "    def get_media_requests(self, item, info):\n",
        "            yield scrapy.Request(item[\"image_urls\"], meta={\n",
        "                \"category\": item[\"category\"],\n",
        "                \"name\": item[\"name\"]\n",
        "            })\n",
        "\n",
        "    def file_path(self, request, response=None, info=None, *, item=None):\n",
        "        path = os.path.join(request.meta[\"category\"],\n",
        "            request.meta[\"name\"].replace(\"/\", \"_\").replace(\" \", \"_\"))\n",
        "        return path + \".jpg\"\n",
        "\n",
        "class LotusSpider(scrapy.Spider):\n",
        "    name = 'Lotus'\n",
        "    def __init__(self, **kwargs):\n",
        "        super().__init__(**kwargs)\n",
        "        options = webdriver.chrome.options.Options()\n",
        "        options.add_argument(\"--headless\")\n",
        "        options.add_argument(\"--no-sandbox\")\n",
        "        options.add_argument(\"--enable-javascript\")\n",
        "        options.add_argument(\"--enable-cookies\")\n",
        "        options.add_argument(\"--disable-notifications\")\n",
        "        options.add_argument(\"--disable-web-security\")\n",
        "        options.add_argument(\"--incognito\")\n",
        "        self.driver = webdriver.Chrome(options=options)\n",
        "\n",
        "    def start_requests(self):\n",
        "        urls = [\n",
        "            \"https://www.lotuss.com.my/en/category/grocery/commodities/rice\"\n",
        "            # \"https://www.lotuss.com.my/en/category/meat-poultry/pre-packed\"\n",
        "        ]\n",
        "\n",
        "        for url in urls:\n",
        "            request = scrapy.Request(url=url, callback=self.parse_products)\n",
        "            yield request\n",
        "\n",
        "    def parse_products(self, response):\n",
        "        self.driver.get(response.url)\n",
        "\n",
        "        try:\n",
        "            wait.WebDriverWait(self.driver, timeout=10)\\\n",
        "            .until(expected_conditions.presence_of_element_located(\n",
        "                (By.XPATH, \"//div[@class='carousel']\")))\n",
        "            selector = scrapy.Selector(text=self.driver.page_source)\n",
        "            category_urls = selector.css(\"div.carousel a\")\n",
        "            yield from response.follow_all(category_urls,\n",
        "                callback=self.parse_products)\n",
        "        except Exception:\n",
        "            pass\n",
        "\n",
        "        try:\n",
        "            wait.WebDriverWait(self.driver, timeout=10)\\\n",
        "            .until(expected_conditions.presence_of_element_located(\n",
        "                (By.XPATH, \"//div[@id='product-list']\")))\n",
        "        except Exception:\n",
        "            raise\n",
        "\n",
        "        html = self.driver.find_element(By.TAG_NAME, \"html\")\n",
        "        last_height = self.driver.execute_script(\n",
        "            \"return document.body.scrollHeight\")\n",
        "        while True:\n",
        "            for _ in range(10):\n",
        "                html.send_keys(Keys.END)\n",
        "                time.sleep(3)\n",
        "                html.send_keys(Keys.HOME)\n",
        "            new_height = self.driver.execute_script(\n",
        "                \"return document.body.scrollHeight\")\n",
        "            if new_height==last_height:\n",
        "                break\n",
        "            last_height = new_height\n",
        "\n",
        "        selector = scrapy.Selector(text=self.driver.page_source)\n",
        "        category = selector.css(\"ol.MuiBreadcrumbs-ol ::text\").getall()\n",
        "        category = \"/\".join(category[1:])\n",
        "\n",
        "        for item in selector.css(\"div.product-grid-item\"):\n",
        "\n",
        "            name = item.css(\"a#product-title ::text\").get()\n",
        "            price = item.css(\"p ::text\").getall()\n",
        "            price = [s for s in price if not re.search(\"^RM\\d\", s)]\n",
        "            price = \"\".join(price)\n",
        "            image_urls = item.css(\"img::attr(src)\").get()\n",
        "            link = item.css(\"a::attr(href)\").get()\n",
        "\n",
        "            if link is not None:\n",
        "                yield response.follow(link, callback=self.parse_item,\n",
        "                    meta={\n",
        "                        \"category\": category,\n",
        "                        \"name\": name,\n",
        "                        \"price\": price,\n",
        "                        \"image_urls\": image_urls\n",
        "                    })\n",
        "\n",
        "    def parse_item(self, response):\n",
        "        self.driver.get(response.url)\n",
        "\n",
        "        try:\n",
        "            wait.WebDriverWait(self.driver, timeout=10)\\\n",
        "            .until(expected_conditions.presence_of_element_located(\n",
        "                (By.XPATH, \"//div[@id='scrollable-force-tabpanel-0']\")))\n",
        "\n",
        "            selector = scrapy.Selector(text=self.driver.page_source)\n",
        "            information = selector.css(\n",
        "                \"div#scrollable-force-tabpanel-0 ::text\").get()\n",
        "        except Exception:\n",
        "            information = None\n",
        "\n",
        "        item = LotusItem()\n",
        "        item[\"category\"] = response.meta[\"category\"]\n",
        "        item[\"name\"] = response.meta[\"name\"]\n",
        "        item[\"price\"] = response.meta[\"price\"]\n",
        "        item[\"information\"] = information\n",
        "        item[\"image_urls\"] = response.meta[\"image_urls\"]\n",
        "\n",
        "        yield item\n",
        "\n",
        "os.makedirs(\"./Images/Lotus\", exist_ok=True)\n",
        "\n",
        "process = crawler.CrawlerProcess(settings={\n",
        "    \"FEEDS\": {\"Lotus.jl\": {\"format\":\"jsonlines\"}},\n",
        "    \"ITEM_PIPELINES\": {\"__main__.LotusImagesPipeline\": 1},\n",
        "    \"IMAGES_STORE\": \"./Images/Lotus\"\n",
        "})\n",
        "process.crawl(LotusSpider)\n",
        "process.start()"
      ]
    },
    {
      "cell_type": "code",
      "execution_count": null,
      "metadata": {
        "id": "E_dK2apHKAPf"
      },
      "outputs": [],
      "source": [
        "%%bash\n",
        "python Lotus.py"
      ]
    }
  ],
  "metadata": {
    "colab": {
      "provenance": [],
      "name": "Lotus.ipynb",
      "include_colab_link": true
    },
    "kernelspec": {
      "display_name": "Python 3 (ipykernel)",
      "language": "python",
      "name": "python3"
    },
    "language_info": {
      "codemirror_mode": {
        "name": "ipython",
        "version": 3
      },
      "file_extension": ".py",
      "mimetype": "text/x-python",
      "name": "python",
      "nbconvert_exporter": "python",
      "pygments_lexer": "ipython3",
      "version": "3.12.3"
    }
  },
  "nbformat": 4,
  "nbformat_minor": 0
}