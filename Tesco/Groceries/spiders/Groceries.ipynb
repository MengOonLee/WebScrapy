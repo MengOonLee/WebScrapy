{
 "cells": [
  {
   "cell_type": "code",
   "execution_count": null,
   "metadata": {},
   "outputs": [],
   "source": [
    "%%bash\n",
    "\n",
    "scrapy shell 'https://eshop.tesco.com.my/groceries/en-GB/shop/grocery/pasta-and-instant-noodles/packet-noodles/all'\n",
    "response.css('h3 a::attr(href)').getall()"
   ]
  },
  {
   "cell_type": "code",
   "execution_count": 1,
   "metadata": {},
   "outputs": [
    {
     "name": "stdout",
     "output_type": "stream",
     "text": [
      "Overwriting Groceries.py\n"
     ]
    }
   ],
   "source": [
    "%%file Groceries.py\n",
    "\n",
    "import scrapy\n",
    "from Groceries.items import GroceriesLoader, GroceriesItem\n",
    "\n",
    "from urllib.parse import urlparse\n",
    "\n",
    "class GroceriesSpider(scrapy.Spider):\n",
    "    name = 'Groceries'\n",
    "    \n",
    "    start_urls = [\n",
    "        'https://eshop.tesco.com.my/groceries/en-GB/shop/fresh-food/all',\n",
    "        'https://eshop.tesco.com.my/groceries/en-GB/shop/grocery/all',\n",
    "        'https://eshop.tesco.com.my/groceries/en-GB/shop/baby/all'\n",
    "        'https://eshop.tesco.com.my/groceries/en-GB/shop/chilled-and-frozen/all',\n",
    "        'https://eshop.tesco.com.my/groceries/en-GB/shop/drinks/all',\n",
    "        'https://eshop.tesco.com.my/groceries/en-GB/shop/health-and-beauty/all',\n",
    "        'https://eshop.tesco.com.my/groceries/en-GB/shop/household/all',\n",
    "        'https://eshop.tesco.com.my/groceries/en-GB/shop/pets/all',\n",
    "        'https://eshop.tesco.com.my/groceries/en-GB/shop/non-food-and-gifting/all']\n",
    "\n",
    "    def parse(self, response):\n",
    "        product_links = response.css('h3 a')\n",
    "        yield from response.follow_all(product_links, self.parse_product)\n",
    "        \n",
    "        pagination_links = response.css('li.pagination-btn-holder a')\n",
    "        yield from response.follow_all(pagination_links, self.parse)\n",
    "        \n",
    "    def parse_product(self, response):\n",
    "        l = GroceriesLoader(item=GroceriesItem(), response=response)\n",
    "        \n",
    "        l.add_value('store', 'Tesco')\n",
    "\n",
    "        categorys = response.xpath('//span[contains(@class,\"beans-link__text\")]/text()')\\\n",
    "            .getall()[3:]\n",
    "        l.add_value('group', categorys[0])\n",
    "        l.add_value('category', categorys[1])\n",
    "        l.add_value('subcategory', categorys[2])\n",
    "        \n",
    "        l.add_css('name', 'h1.product-details-tile__title::text')\n",
    "        l.add_xpath('price_unit', \"//div[contains(@class, 'price-per-sellable-unit')]//span/text()\")\n",
    "        l.add_xpath('price_weight', \"//div[contains(@class, 'price-per-quantity-weight')]//span/text()\")\n",
    "        l.add_xpath('legal_disclaim', '//div[h4=\"Legal Disclaimers\"]/p/text()')\n",
    "        l.add_xpath('feature', '//div[h4=\"Features\"]/p/text()')\n",
    "        l.add_xpath('ingredient', '//div[h3=\"Ingredients\"]/div/p/text()')\n",
    "        l.add_xpath('product_market', '//div[h4=\"Product Marketing\"]/p/text()')\n",
    "        l.add_xpath('brand_market', '//div[h4=\"Brand Marketing\"]/p/text()')\n",
    "        l.add_xpath('other_info', '//div[h4=\"Other Information\"]/p/text()')\n",
    "        l.add_xpath('third_party_logo', '//div[h4=\"Third Party Logos\"]/p/text()')\n",
    "        l.add_xpath('third_party_logo_other_text', '//div[h4=\"Third Party Logo Other Text\"]/p/text()')\n",
    "        l.add_xpath('origin', '//div[h4=\"Origin\"]/p/text()')\n",
    "        l.add_xpath('usage', '//div[h4=\"Preparation and Usage\"]/p/text()')\n",
    "        l.add_xpath('storage', '//div[h4=\"Storage\"]/p/text()')\n",
    "        l.add_xpath('manufacturer_address', '//div[h4=\"Manufacturers Address\"]/p/text()')\n",
    "        l.add_xpath('distributor_address', '//div[h4=\"Distributor Address\"]/p/text()')\n",
    "        l.add_xpath('return_to', '//div[h4=\"Return To\"]/p/text()')\n",
    "        l.add_xpath('numeric_size', '//div[h4=\"Numeric Size\"]/p/text()')\n",
    "        l.add_xpath('unit_specific', '//div[h4=\"Unit (specific)\"]/p/text()')\n",
    "        l.add_xpath('number_unit', '//div[h4=\"Number of Units\"]/p/text()')\n",
    "        l.add_xpath('unit_type', '//div[h4=\"Unit Type\"]/p/text()')\n",
    "        l.add_css('image_urls', 'img::attr(src)')\n",
    "        \n",
    "        url = urlparse(response.url).path.split('/')[-1]\n",
    "        l.add_value('product_id', url)\n",
    "        \n",
    "        l.add_value('available_quantity', '1')\n",
    "        return l.load_item()"
   ]
  },
  {
   "cell_type": "code",
   "execution_count": null,
   "metadata": {},
   "outputs": [],
   "source": [
    "%%bash\n",
    "\n",
    "cd ../../\n",
    "scrapy crawl Groceries"
   ]
  },
  {
   "cell_type": "code",
   "execution_count": 1,
   "metadata": {},
   "outputs": [],
   "source": [
    "import os\n",
    "\n",
    "json_dir = \"/home/user/Project/Web_scraping/Tesco/JSON\"\n",
    "jl_file = []\n",
    "\n",
    "for r, d, f in os.walk(json_dir):\n",
    "    for file in f:\n",
    "        if file.endswith(\".jl\"):\n",
    "            jl_file.append(os.path.join(r, file))\n",
    "\n",
    "import jsonlines\n",
    "import json\n",
    "\n",
    "for f in jl_file:\n",
    "    with jsonlines.open(f) as reader:\n",
    "        data = []\n",
    "        for obj in reader:\n",
    "            data.append(obj)\n",
    "            \n",
    "    base = os.path.splitext(f)[0]\n",
    "    nf = base + '.json'\n",
    "    with open(nf, 'w') as json_file:\n",
    "        json.dump(data, json_file)"
   ]
  },
  {
   "cell_type": "code",
   "execution_count": null,
   "metadata": {},
   "outputs": [],
   "source": []
  }
 ],
 "metadata": {
  "kernelspec": {
   "display_name": "Python 3",
   "language": "python",
   "name": "python3"
  },
  "language_info": {
   "codemirror_mode": {
    "name": "ipython",
    "version": 3
   },
   "file_extension": ".py",
   "mimetype": "text/x-python",
   "name": "python",
   "nbconvert_exporter": "python",
   "pygments_lexer": "ipython3",
   "version": "3.8.5"
  }
 },
 "nbformat": 4,
 "nbformat_minor": 4
}
