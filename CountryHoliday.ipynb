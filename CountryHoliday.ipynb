{
 "cells": [
  {
   "cell_type": "code",
   "execution_count": null,
   "id": "7a964949-00a5-474f-8c45-b19f3057ed67",
   "metadata": {},
   "outputs": [],
   "source": [
    "%%bash\n",
    "\n",
    "pip install --no-cache-dir -qU scrapy"
   ]
  },
  {
   "cell_type": "code",
   "execution_count": 1,
   "id": "66a9de1e-2c61-487f-8df5-c3e3205cb831",
   "metadata": {},
   "outputs": [
    {
     "name": "stdout",
     "output_type": "stream",
     "text": [
      "New Scrapy project 'CountriesHoliday', using template directory '/Work/venv/lib/python3.8/site-packages/scrapy/templates/project', created in:\n",
      "    /Work/Web_scraping/CountriesHoliday\n",
      "\n",
      "You can start your first spider with:\n",
      "    cd CountriesHoliday\n",
      "    scrapy genspider example example.com\n"
     ]
    }
   ],
   "source": [
    "%%bash\n",
    "\n",
    "rm -rf CountriesHoliday\n",
    "scrapy startproject CountriesHoliday"
   ]
  },
  {
   "cell_type": "code",
   "execution_count": 18,
   "id": "bde5984c-3a8e-4c04-839e-2d57d50d90c7",
   "metadata": {
    "scrolled": true,
    "tags": []
   },
   "outputs": [
    {
     "name": "stdout",
     "output_type": "stream",
     "text": [
      "Afghanistan\n",
      "/holidays/afghanistan/\n"
     ]
    }
   ],
   "source": [
    "import scrapy\n",
    "import requests\n",
    "\n",
    "url = \"https://www.timeanddate.com/holidays\"\n",
    "html = requests.get(url).content\n",
    "\n",
    "sel = scrapy.Selector(text=html)\n",
    "country = sel.xpath(\"//ul[@class='category-list__list']\")\n",
    "name = country.css(\"::text\").get()\n",
    "print(name)\n",
    "link = country.css(\"a::attr(href)\").get()\n",
    "print(link) "
   ]
  },
  {
   "cell_type": "code",
   "execution_count": null,
   "id": "5969b5da-302f-4bcb-a4dd-60185141968d",
   "metadata": {},
   "outputs": [],
   "source": [
    "import scrapy\n",
    "import requests\n",
    "\n",
    "url = 'https://www.timeanddate.com/holidays/antigua-and-barbuda/2012'\n",
    "html = requests.get(url).content\n",
    "\n",
    "sel = scrapy.Selector(text=html)\n",
    "dates = sel.css('th.nw::text').extract()\n",
    "holidays = sel.css('td > a::text').extract()\n",
    "holidays\n",
    "# sel.css('td.\"\"::text')"
   ]
  },
  {
   "cell_type": "code",
   "execution_count": null,
   "id": "ee57bab2-8cba-47b7-8c17-c39f9ce5c356",
   "metadata": {},
   "outputs": [],
   "source": []
  }
 ],
 "metadata": {
  "kernelspec": {
   "display_name": "venv",
   "language": "python",
   "name": "venv"
  },
  "language_info": {
   "codemirror_mode": {
    "name": "ipython",
    "version": 3
   },
   "file_extension": ".py",
   "mimetype": "text/x-python",
   "name": "python",
   "nbconvert_exporter": "python",
   "pygments_lexer": "ipython3",
   "version": "3.8.10"
  }
 },
 "nbformat": 4,
 "nbformat_minor": 5
}
