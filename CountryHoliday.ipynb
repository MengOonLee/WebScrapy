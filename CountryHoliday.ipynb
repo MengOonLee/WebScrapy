{
  "cells": [
    {
      "cell_type": "markdown",
      "metadata": {
        "id": "view-in-github",
        "colab_type": "text"
      },
      "source": [
        "<a href=\"https://colab.research.google.com/github/MengOonLee/Web_scraping/blob/master/CountryHoliday.ipynb\" target=\"_parent\"><img src=\"https://colab.research.google.com/assets/colab-badge.svg\" alt=\"Open In Colab\"/></a>"
      ]
    },
    {
      "cell_type": "code",
      "execution_count": null,
      "id": "7a964949-00a5-474f-8c45-b19f3057ed67",
      "metadata": {
        "id": "7a964949-00a5-474f-8c45-b19f3057ed67"
      },
      "outputs": [],
      "source": [
        "%%bash\n",
        "\n",
        "pip install --no-cache-dir -qU scrapy"
      ]
    },
    {
      "cell_type": "code",
      "execution_count": 4,
      "id": "0d01245b-b1d7-408d-8428-9b18102c19d3",
      "metadata": {
        "scrolled": true,
        "id": "0d01245b-b1d7-408d-8428-9b18102c19d3"
      },
      "outputs": [],
      "source": [
        "import requests\n",
        "\n",
        "url = \"https://www.timeanddate.com/holidays\"\n",
        "html = requests.get(url).content\n",
        "\n",
        "with open('front.html', 'wb') as file:\n",
        "    file.write(html)"
      ]
    },
    {
      "cell_type": "code",
      "source": [
        "import scrapy\n",
        "\n",
        "with open('front.html', 'r') as file:\n",
        "  html = file.read()\n",
        "\n",
        "sel = scrapy.Selector(text=html)\n",
        "blocks = sel.css(\"ul.category-list__list > li\")\n",
        "countries = blocks.xpath(\".//text()\").getall()\n",
        "countries"
      ],
      "metadata": {
        "id": "pD09tUU04W_S"
      },
      "id": "pD09tUU04W_S",
      "execution_count": null,
      "outputs": []
    },
    {
      "cell_type": "code",
      "execution_count": null,
      "id": "bde5984c-3a8e-4c04-839e-2d57d50d90c7",
      "metadata": {
        "scrolled": true,
        "tags": [],
        "id": "bde5984c-3a8e-4c04-839e-2d57d50d90c7"
      },
      "outputs": [],
      "source": [
        "import scrapy\n",
        "import requests\n",
        "\n",
        "url = \"https://www.timeanddate.com/holidays\"\n",
        "html = requests.get(url).content\n",
        "\n",
        "sel = scrapy.Selector(text=html)\n",
        "blocks = sel.css(\"ul.category-list__list > li\")\n",
        "countries = blocks.xpath(\".//text()\").getall()\n",
        "links = blocks.xpath(\"./a/@href\").getall()\n",
        "links\n",
        "# for b in blocks:\n",
        "#     country = b.xpath(\"./text()\").get()\n",
        "#     print(country)\n",
        "# country = country_blocks.xpath(\".//text()\").getall()\n",
        "# link = country.css(\"a::attr(href)\").get()\n",
        "# print(link)"
      ]
    },
    {
      "cell_type": "code",
      "execution_count": null,
      "id": "b58292cf-328b-4ac5-98b8-a6b78fa3cbfc",
      "metadata": {
        "scrolled": true,
        "id": "b58292cf-328b-4ac5-98b8-a6b78fa3cbfc"
      },
      "outputs": [],
      "source": [
        "import scrapy\n",
        "from scrapy.crawler import CrawlerProcess\n",
        "\n",
        "class HolidaysSpider(scrapy.Spider):\n",
        "    name = 'holidays'\n",
        "\n",
        "    def start_requests(self):\n",
        "        urls = [\n",
        "            'https://www.timeanddate.com/holidays'\n",
        "        ]\n",
        "        for url in urls:\n",
        "            yield scrapy.Request(url=url, callback=self.parse_front)\n",
        "\n",
        "    def parse_front(self, response):\n",
        "        blocks = response.css('ul.category-list__list > li')\n",
        "        countries = blocks.xpath('.//text()').getall()\n",
        "        links = blocks.xpath('./a/@href').getall()\n",
        "        for url in links:\n",
        "            url = url + '2023' + '?hol=1'\n",
        "            yield response.follow(url=url, callback=self.parse_pages)\n",
        "\n",
        "    def parse_pages(self, response):\n",
        "        tables = response.css('table#holidays-table')\n",
        "        dates = tables.xpath('.//th[@class=\"nw\"]/text()').getall()\n",
        "        print(dates)\n",
        "\n",
        "process = CrawlerProcess()\n",
        "process.crawl(HolidaysSpider)\n",
        "process.start()"
      ]
    },
    {
      "cell_type": "code",
      "execution_count": null,
      "id": "5969b5da-302f-4bcb-a4dd-60185141968d",
      "metadata": {
        "id": "5969b5da-302f-4bcb-a4dd-60185141968d",
        "outputId": "8f6d5487-8506-4b46-8405-37637a4be3c8"
      },
      "outputs": [
        {
          "data": {
            "text/plain": [
              "[]"
            ]
          },
          "execution_count": 3,
          "metadata": {},
          "output_type": "execute_result"
        }
      ],
      "source": [
        "import scrapy\n",
        "import requests\n",
        "\n",
        "url = 'https://www.timeanddate.com/holidays/afghanistan/2023?hol=1'\n",
        "html = requests.get(url).content\n",
        "\n",
        "sel = scrapy.Selector(text=html)\n",
        "tables = sel.css('table#holidays-table')\n",
        "tables\n",
        "# dates = sel.css('th.nw::text').extract()\n",
        "# holidays = sel.css('td > a::text').extract()\n"
      ]
    },
    {
      "cell_type": "code",
      "execution_count": null,
      "id": "ee57bab2-8cba-47b7-8c17-c39f9ce5c356",
      "metadata": {
        "id": "ee57bab2-8cba-47b7-8c17-c39f9ce5c356"
      },
      "outputs": [],
      "source": []
    }
  ],
  "metadata": {
    "kernelspec": {
      "display_name": "Python 3",
      "name": "python3"
    },
    "language_info": {
      "name": "python"
    },
    "colab": {
      "provenance": [],
      "name": "CountryHoliday.ipynb",
      "include_colab_link": true
    }
  },
  "nbformat": 4,
  "nbformat_minor": 5
}