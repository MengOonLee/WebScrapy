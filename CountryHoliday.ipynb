{
 "cells": [
  {
   "cell_type": "code",
   "execution_count": null,
   "id": "7a964949-00a5-474f-8c45-b19f3057ed67",
   "metadata": {},
   "outputs": [],
   "source": [
    "%%bash\n",
    "\n",
    "pip install --no-cache-dir -qU scrapy"
   ]
  },
  {
   "cell_type": "code",
   "execution_count": null,
   "id": "bde5984c-3a8e-4c04-839e-2d57d50d90c7",
   "metadata": {
    "scrolled": true,
    "tags": []
   },
   "outputs": [],
   "source": [
    "import scrapy\n",
    "import requests\n",
    "\n",
    "url = \"https://www.timeanddate.com/holidays\"\n",
    "html = requests.get(url).content\n",
    "\n",
    "sel = scrapy.Selector(text=html)\n",
    "blocks = sel.css(\"ul.category-list__list > li\")\n",
    "countries = blocks.xpath(\".//text()\").getall()\n",
    "links = blocks.xpath(\"./a/@href\").getall()\n",
    "links\n",
    "# for b in blocks:\n",
    "#     country = b.xpath(\"./text()\").get()\n",
    "#     print(country)\n",
    "# country = country_blocks.xpath(\".//text()\").getall()\n",
    "# link = country.css(\"a::attr(href)\").get()\n",
    "# print(link) "
   ]
  },
  {
   "cell_type": "code",
   "execution_count": null,
   "id": "b58292cf-328b-4ac5-98b8-a6b78fa3cbfc",
   "metadata": {
    "scrolled": true
   },
   "outputs": [],
   "source": [
    "import scrapy\n",
    "from scrapy.crawler import CrawlerProcess\n",
    "\n",
    "class HolidaysSpider(scrapy.Spider):\n",
    "    name = 'holidays'\n",
    "\n",
    "    def start_requests(self):\n",
    "        urls = [\n",
    "            'https://www.timeanddate.com/holidays'\n",
    "        ]\n",
    "        for url in urls:\n",
    "            yield scrapy.Request(url=url, callback=self.parse_front)\n",
    "\n",
    "    def parse_front(self, response):\n",
    "        blocks = response.css('ul.category-list__list > li')\n",
    "        countries = blocks.xpath('.//text()').getall()\n",
    "        links = blocks.xpath('./a/@href').getall()\n",
    "        for url in links:\n",
    "            url = url + '2023' + '?hol=1'\n",
    "            yield response.follow(url=url, callback=self.parse_pages)\n",
    "\n",
    "    def parse_pages(self, response):\n",
    "        tables = response.css('table#holidays-table')\n",
    "        dates = tables.xpath('.//th[@class=\"nw\"]/text()').getall()\n",
    "        print(dates)\n",
    "\n",
    "process = CrawlerProcess()\n",
    "process.crawl(HolidaysSpider)\n",
    "process.start()"
   ]
  },
  {
   "cell_type": "code",
   "execution_count": 3,
   "id": "5969b5da-302f-4bcb-a4dd-60185141968d",
   "metadata": {},
   "outputs": [
    {
     "data": {
      "text/plain": [
       "[]"
      ]
     },
     "execution_count": 3,
     "metadata": {},
     "output_type": "execute_result"
    }
   ],
   "source": [
    "import scrapy\n",
    "import requests\n",
    "\n",
    "url = 'https://www.timeanddate.com/holidays/afghanistan/2023?hol=1'\n",
    "html = requests.get(url).content\n",
    "\n",
    "sel = scrapy.Selector(text=html)\n",
    "tables = sel.css('table#holidays-table')\n",
    "tables\n",
    "# dates = sel.css('th.nw::text').extract()\n",
    "# holidays = sel.css('td > a::text').extract()\n"
   ]
  },
  {
   "cell_type": "code",
   "execution_count": null,
   "id": "ee57bab2-8cba-47b7-8c17-c39f9ce5c356",
   "metadata": {},
   "outputs": [],
   "source": []
  }
 ],
 "metadata": {
  "kernelspec": {
   "display_name": "venv",
   "language": "python",
   "name": "venv"
  },
  "language_info": {
   "codemirror_mode": {
    "name": "ipython",
    "version": 3
   },
   "file_extension": ".py",
   "mimetype": "text/x-python",
   "name": "python",
   "nbconvert_exporter": "python",
   "pygments_lexer": "ipython3",
   "version": "3.8.10"
  }
 },
 "nbformat": 4,
 "nbformat_minor": 5
}
