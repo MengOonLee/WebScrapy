{
 "cells": [
  {
   "cell_type": "code",
   "execution_count": 1,
   "id": "299a9656-cac9-45fd-8f62-4cd04dffce2e",
   "metadata": {},
   "outputs": [],
   "source": [
    "%%bash\n",
    "\n",
    "python3 -m pip install -qU pip setuptools wheel\n",
    "pip install -qU scrapy"
   ]
  },
  {
   "cell_type": "code",
   "execution_count": null,
   "id": "9b04ca93-9b61-481b-8fce-cb38707eeb6f",
   "metadata": {},
   "outputs": [],
   "source": [
    "%%bash\n",
    "scrapy startproject Lazada"
   ]
  },
  {
   "cell_type": "code",
   "execution_count": 12,
   "id": "c3d17ffc-324a-47a1-9bfa-3b0d3d7a36ab",
   "metadata": {
    "collapsed": true,
    "jupyter": {
     "outputs_hidden": true
    },
    "tags": []
   },
   "outputs": [
    {
     "name": "stdout",
     "output_type": "stream",
     "text": [
      "[s] Available Scrapy objects:\n",
      "[s]   scrapy     scrapy module (contains scrapy.Request, scrapy.Selector, etc)\n",
      "[s]   crawler    <scrapy.crawler.Crawler object at 0x7f8e1708d0a0>\n",
      "[s]   item       {}\n",
      "[s]   request    <GET https://www.adidas.com.my/en/superstar-shoes/>\n",
      "[s]   response   <200 https://www.adidas.com.my/en/superstar-shoes/>\n",
      "[s]   settings   <scrapy.settings.Settings object at 0x7f8e17089e20>\n",
      "[s]   spider     <DefaultSpider 'default' at 0x7f8e16d781f0>\n",
      "[s] Useful shortcuts:\n",
      "[s]   fetch(url[, redirect=True]) Fetch URL and update local objects (by default, redirects are followed)\n",
      "[s]   fetch(req)                  Fetch a scrapy.Request and update local objects \n",
      "[s]   shelp()           Shell help (print this help)\n",
      "[s]   view(response)    View response in a browser\n",
      "In [1]: Out[1]: []\n",
      "\n",
      "In [2]: Do you really want to exit ([y]/n)? \n",
      "\n"
     ]
    },
    {
     "name": "stderr",
     "output_type": "stream",
     "text": [
      "2021-12-19 04:28:53 [scrapy.utils.log] INFO: Scrapy 2.5.1 started (bot: scrapybot)\n",
      "2021-12-19 04:28:53 [scrapy.utils.log] INFO: Versions: lxml 4.7.1.0, libxml2 2.9.12, cssselect 1.1.0, parsel 1.6.0, w3lib 1.22.0, Twisted 21.7.0, Python 3.8.10 (default, Sep 28 2021, 16:10:42) - [GCC 9.3.0], pyOpenSSL 21.0.0 (OpenSSL 1.1.1m  14 Dec 2021), cryptography 36.0.1, Platform Linux-5.11.0-43-generic-x86_64-with-glibc2.29\n",
      "2021-12-19 04:28:53 [scrapy.utils.log] DEBUG: Using reactor: twisted.internet.epollreactor.EPollReactor\n",
      "2021-12-19 04:28:53 [scrapy.crawler] INFO: Overridden settings:\n",
      "{'DUPEFILTER_CLASS': 'scrapy.dupefilters.BaseDupeFilter',\n",
      " 'LOGSTATS_INTERVAL': 0}\n",
      "2021-12-19 04:28:53 [scrapy.extensions.telnet] INFO: Telnet Password: f7d5e2081e639633\n",
      "2021-12-19 04:28:53 [scrapy.middleware] INFO: Enabled extensions:\n",
      "['scrapy.extensions.corestats.CoreStats',\n",
      " 'scrapy.extensions.telnet.TelnetConsole',\n",
      " 'scrapy.extensions.memusage.MemoryUsage']\n",
      "2021-12-19 04:28:54 [scrapy.middleware] INFO: Enabled downloader middlewares:\n",
      "['scrapy.downloadermiddlewares.httpauth.HttpAuthMiddleware',\n",
      " 'scrapy.downloadermiddlewares.downloadtimeout.DownloadTimeoutMiddleware',\n",
      " 'scrapy.downloadermiddlewares.defaultheaders.DefaultHeadersMiddleware',\n",
      " 'scrapy.downloadermiddlewares.useragent.UserAgentMiddleware',\n",
      " 'scrapy.downloadermiddlewares.retry.RetryMiddleware',\n",
      " 'scrapy.downloadermiddlewares.redirect.MetaRefreshMiddleware',\n",
      " 'scrapy.downloadermiddlewares.httpcompression.HttpCompressionMiddleware',\n",
      " 'scrapy.downloadermiddlewares.redirect.RedirectMiddleware',\n",
      " 'scrapy.downloadermiddlewares.cookies.CookiesMiddleware',\n",
      " 'scrapy.downloadermiddlewares.httpproxy.HttpProxyMiddleware',\n",
      " 'scrapy.downloadermiddlewares.stats.DownloaderStats']\n",
      "2021-12-19 04:28:54 [scrapy.middleware] INFO: Enabled spider middlewares:\n",
      "['scrapy.spidermiddlewares.httperror.HttpErrorMiddleware',\n",
      " 'scrapy.spidermiddlewares.offsite.OffsiteMiddleware',\n",
      " 'scrapy.spidermiddlewares.referer.RefererMiddleware',\n",
      " 'scrapy.spidermiddlewares.urllength.UrlLengthMiddleware',\n",
      " 'scrapy.spidermiddlewares.depth.DepthMiddleware']\n",
      "2021-12-19 04:28:54 [scrapy.middleware] INFO: Enabled item pipelines:\n",
      "[]\n",
      "2021-12-19 04:28:54 [scrapy.extensions.telnet] INFO: Telnet console listening on 127.0.0.1:6023\n",
      "2021-12-19 04:28:54 [scrapy.core.engine] INFO: Spider opened\n",
      "2021-12-19 04:28:54 [scrapy.core.engine] DEBUG: Crawled (200) <GET https://www.adidas.com.my/en/superstar-shoes/> (referer: None)\n"
     ]
    }
   ],
   "source": [
    "%%bash\n",
    "scrapy shell 'https://www.adidas.com.my/en/superstar-shoes/'\n",
    "response.xpath('//*[@id=\"app\"]/div/div[1]/div/div/div/div[3]/div/div[2]/div/div/div/div[1]/div/div[1]/div/div/div/div/div/div/div[1]/a/text()').getall()"
   ]
  },
  {
   "cell_type": "code",
   "execution_count": 10,
   "id": "1031dfcb-d382-4bb6-98a0-cd72db2fa2b5",
   "metadata": {
    "collapsed": true,
    "jupyter": {
     "outputs_hidden": true
    },
    "tags": []
   },
   "outputs": [
    {
     "name": "stdout",
     "output_type": "stream",
     "text": [
      "[s] Available Scrapy objects:\n",
      "[s]   scrapy     scrapy module (contains scrapy.Request, scrapy.Selector, etc)\n",
      "[s]   crawler    <scrapy.crawler.Crawler object at 0x7f34718d80d0>\n",
      "[s]   item       {}\n",
      "[s]   request    <GET https://www.adidas.com.my/en/superstar-shoes/EG4960.html>\n",
      "[s]   response   <200 https://www.adidas.com.my/en/superstar-shoes/EG4960.html>\n",
      "[s]   settings   <scrapy.settings.Settings object at 0x7f34718d5d90>\n",
      "[s]   spider     <DefaultSpider 'default' at 0x7f34715b7f10>\n",
      "[s] Useful shortcuts:\n",
      "[s]   fetch(url[, redirect=True]) Fetch URL and update local objects (by default, redirects are followed)\n",
      "[s]   fetch(req)                  Fetch a scrapy.Request and update local objects \n",
      "[s]   shelp()           Shell help (print this help)\n",
      "[s]   view(response)    View response in a browser\n",
      "In [1]: Out[1]: ['<img src=\"https://assets.adidas.com/images/w_320,f_auto,q_auto:sensitive,fl_lossy,c_fill,g_auto/7ed0855435194229a525aad6009a0497_9366/Superstar_Shoes_White_EG4958_01_standard.jpg\" alt=\"\">']\n",
      "\n",
      "In [2]: Do you really want to exit ([y]/n)? \n",
      "\n"
     ]
    },
    {
     "name": "stderr",
     "output_type": "stream",
     "text": [
      "2021-12-19 04:22:05 [scrapy.utils.log] INFO: Scrapy 2.5.1 started (bot: scrapybot)\n",
      "2021-12-19 04:22:05 [scrapy.utils.log] INFO: Versions: lxml 4.7.1.0, libxml2 2.9.12, cssselect 1.1.0, parsel 1.6.0, w3lib 1.22.0, Twisted 21.7.0, Python 3.8.10 (default, Sep 28 2021, 16:10:42) - [GCC 9.3.0], pyOpenSSL 21.0.0 (OpenSSL 1.1.1m  14 Dec 2021), cryptography 36.0.1, Platform Linux-5.11.0-43-generic-x86_64-with-glibc2.29\n",
      "2021-12-19 04:22:05 [scrapy.utils.log] DEBUG: Using reactor: twisted.internet.epollreactor.EPollReactor\n",
      "2021-12-19 04:22:05 [scrapy.crawler] INFO: Overridden settings:\n",
      "{'DUPEFILTER_CLASS': 'scrapy.dupefilters.BaseDupeFilter',\n",
      " 'LOGSTATS_INTERVAL': 0}\n",
      "2021-12-19 04:22:05 [scrapy.extensions.telnet] INFO: Telnet Password: a2f21879eca2013c\n",
      "2021-12-19 04:22:05 [scrapy.middleware] INFO: Enabled extensions:\n",
      "['scrapy.extensions.corestats.CoreStats',\n",
      " 'scrapy.extensions.telnet.TelnetConsole',\n",
      " 'scrapy.extensions.memusage.MemoryUsage']\n",
      "2021-12-19 04:22:05 [scrapy.middleware] INFO: Enabled downloader middlewares:\n",
      "['scrapy.downloadermiddlewares.httpauth.HttpAuthMiddleware',\n",
      " 'scrapy.downloadermiddlewares.downloadtimeout.DownloadTimeoutMiddleware',\n",
      " 'scrapy.downloadermiddlewares.defaultheaders.DefaultHeadersMiddleware',\n",
      " 'scrapy.downloadermiddlewares.useragent.UserAgentMiddleware',\n",
      " 'scrapy.downloadermiddlewares.retry.RetryMiddleware',\n",
      " 'scrapy.downloadermiddlewares.redirect.MetaRefreshMiddleware',\n",
      " 'scrapy.downloadermiddlewares.httpcompression.HttpCompressionMiddleware',\n",
      " 'scrapy.downloadermiddlewares.redirect.RedirectMiddleware',\n",
      " 'scrapy.downloadermiddlewares.cookies.CookiesMiddleware',\n",
      " 'scrapy.downloadermiddlewares.httpproxy.HttpProxyMiddleware',\n",
      " 'scrapy.downloadermiddlewares.stats.DownloaderStats']\n",
      "2021-12-19 04:22:05 [scrapy.middleware] INFO: Enabled spider middlewares:\n",
      "['scrapy.spidermiddlewares.httperror.HttpErrorMiddleware',\n",
      " 'scrapy.spidermiddlewares.offsite.OffsiteMiddleware',\n",
      " 'scrapy.spidermiddlewares.referer.RefererMiddleware',\n",
      " 'scrapy.spidermiddlewares.urllength.UrlLengthMiddleware',\n",
      " 'scrapy.spidermiddlewares.depth.DepthMiddleware']\n",
      "2021-12-19 04:22:05 [scrapy.middleware] INFO: Enabled item pipelines:\n",
      "[]\n",
      "2021-12-19 04:22:05 [scrapy.extensions.telnet] INFO: Telnet console listening on 127.0.0.1:6023\n",
      "2021-12-19 04:22:05 [scrapy.core.engine] INFO: Spider opened\n",
      "2021-12-19 04:22:06 [scrapy.core.engine] DEBUG: Crawled (200) <GET https://www.adidas.com.my/en/superstar-shoes/EG4960.html> (referer: None)\n"
     ]
    }
   ],
   "source": [
    "%%bash\n",
    "scrapy shell 'https://www.adidas.com.my/en/superstar-shoes/EG4960.html'\n",
    "response.xpath('//*[@id=\"app\"]/div/div[1]/div/div/div/div[2]/div/div[3]/div[1]/div[2]/div[3]/a[1]/img').getall()"
   ]
  },
  {
   "cell_type": "code",
   "execution_count": 8,
   "id": "066e9a40-0499-485d-a712-a5ada35b0f8b",
   "metadata": {},
   "outputs": [
    {
     "name": "stdout",
     "output_type": "stream",
     "text": [
      "[s] Available Scrapy objects:\n",
      "[s]   scrapy     scrapy module (contains scrapy.Request, scrapy.Selector, etc)\n",
      "[s]   crawler    <scrapy.crawler.Crawler object at 0x7f07ee8f10a0>\n",
      "[s]   item       {}\n",
      "[s]   request    <GET https://www.lazada.com.my/shop-electronics-accessories/>\n",
      "[s]   response   <200 https://www.lazada.com.my/shop-electronics-accessories/>\n",
      "[s]   settings   <scrapy.settings.Settings object at 0x7f07ee8edd90>\n",
      "[s]   spider     <DefaultSpider 'default' at 0x7f07ee5d09d0>\n",
      "[s] Useful shortcuts:\n",
      "[s]   fetch(url[, redirect=True]) Fetch URL and update local objects (by default, redirects are followed)\n",
      "[s]   fetch(req)                  Fetch a scrapy.Request and update local objects \n",
      "[s]   shelp()           Shell help (print this help)\n",
      "[s]   view(response)    View response in a browser\n",
      "In [1]: \n",
      "In [2]: Out[2]: []\n",
      "\n",
      "In [3]: \n",
      "In [4]: \n",
      "In [5]: \n",
      "In [6]: Do you really want to exit ([y]/n)? \n",
      "\n"
     ]
    },
    {
     "name": "stderr",
     "output_type": "stream",
     "text": [
      "2021-12-19 03:48:31 [scrapy.utils.log] INFO: Scrapy 2.5.1 started (bot: scrapybot)\n",
      "2021-12-19 03:48:31 [scrapy.utils.log] INFO: Versions: lxml 4.7.1.0, libxml2 2.9.12, cssselect 1.1.0, parsel 1.6.0, w3lib 1.22.0, Twisted 21.7.0, Python 3.8.10 (default, Sep 28 2021, 16:10:42) - [GCC 9.3.0], pyOpenSSL 21.0.0 (OpenSSL 1.1.1m  14 Dec 2021), cryptography 36.0.1, Platform Linux-5.11.0-43-generic-x86_64-with-glibc2.29\n",
      "2021-12-19 03:48:31 [scrapy.utils.log] DEBUG: Using reactor: twisted.internet.epollreactor.EPollReactor\n",
      "2021-12-19 03:48:31 [scrapy.crawler] INFO: Overridden settings:\n",
      "{'DUPEFILTER_CLASS': 'scrapy.dupefilters.BaseDupeFilter',\n",
      " 'LOGSTATS_INTERVAL': 0}\n",
      "2021-12-19 03:48:31 [scrapy.extensions.telnet] INFO: Telnet Password: 1f1d385bb426b92e\n",
      "2021-12-19 03:48:31 [scrapy.middleware] INFO: Enabled extensions:\n",
      "['scrapy.extensions.corestats.CoreStats',\n",
      " 'scrapy.extensions.telnet.TelnetConsole',\n",
      " 'scrapy.extensions.memusage.MemoryUsage']\n",
      "2021-12-19 03:48:31 [scrapy.middleware] INFO: Enabled downloader middlewares:\n",
      "['scrapy.downloadermiddlewares.httpauth.HttpAuthMiddleware',\n",
      " 'scrapy.downloadermiddlewares.downloadtimeout.DownloadTimeoutMiddleware',\n",
      " 'scrapy.downloadermiddlewares.defaultheaders.DefaultHeadersMiddleware',\n",
      " 'scrapy.downloadermiddlewares.useragent.UserAgentMiddleware',\n",
      " 'scrapy.downloadermiddlewares.retry.RetryMiddleware',\n",
      " 'scrapy.downloadermiddlewares.redirect.MetaRefreshMiddleware',\n",
      " 'scrapy.downloadermiddlewares.httpcompression.HttpCompressionMiddleware',\n",
      " 'scrapy.downloadermiddlewares.redirect.RedirectMiddleware',\n",
      " 'scrapy.downloadermiddlewares.cookies.CookiesMiddleware',\n",
      " 'scrapy.downloadermiddlewares.httpproxy.HttpProxyMiddleware',\n",
      " 'scrapy.downloadermiddlewares.stats.DownloaderStats']\n",
      "2021-12-19 03:48:31 [scrapy.middleware] INFO: Enabled spider middlewares:\n",
      "['scrapy.spidermiddlewares.httperror.HttpErrorMiddleware',\n",
      " 'scrapy.spidermiddlewares.offsite.OffsiteMiddleware',\n",
      " 'scrapy.spidermiddlewares.referer.RefererMiddleware',\n",
      " 'scrapy.spidermiddlewares.urllength.UrlLengthMiddleware',\n",
      " 'scrapy.spidermiddlewares.depth.DepthMiddleware']\n",
      "2021-12-19 03:48:31 [scrapy.middleware] INFO: Enabled item pipelines:\n",
      "[]\n",
      "2021-12-19 03:48:31 [scrapy.extensions.telnet] INFO: Telnet console listening on 127.0.0.1:6023\n",
      "2021-12-19 03:48:31 [scrapy.core.engine] INFO: Spider opened\n",
      "2021-12-19 03:48:31 [scrapy.core.engine] DEBUG: Crawled (200) <GET https://www.lazada.com.my/shop-electronics-accessories/> (referer: None)\n"
     ]
    }
   ],
   "source": [
    "%%bash\n",
    "scrapy shell 'https://www.lazada.com.my/shop-electronics-accessories/'\n",
    "# response.css(' div.RfADt > a').getall()\n",
    "response.xpath('//*[@id=\"root\"]/div/div[3]/div[1]/div/div[1]/div[2]/div[2]/div/div/div[2]/div[2]/a/text()').getall()\n",
    "# //*[@id=\"root\"]/div/div[3]/div[1]/div/div[1]/div[2]/div[2]/div/div/div[2]/div[2]/a\n",
    "# response.css('h1.pdp-mod-product-badge-title::text').getall()\n",
    "# response.xpath('//span[contains(@class,\"beans-link__text\")]/text()')"
   ]
  },
  {
   "cell_type": "code",
   "execution_count": 20,
   "id": "5c1abef7-3355-4909-a0c5-cfb90d129599",
   "metadata": {
    "tags": []
   },
   "outputs": [
    {
     "name": "stdout",
     "output_type": "stream",
     "text": [
      "[s] Available Scrapy objects:\n",
      "[s]   scrapy     scrapy module (contains scrapy.Request, scrapy.Selector, etc)\n",
      "[s]   crawler    <scrapy.crawler.Crawler object at 0x7f8bbeb0e1f0>\n",
      "[s]   item       {}\n",
      "[s]   request    <GET https://www.lazada.com.my/products/drypers-drypantz-xl42s-x-31packs-168pcs-pinkfong-limited-edition-box-free-pinkfong-toy-storage-bag-i2532262646-s11218607641.html?spm=a2o4k.searchlistcategory.list.3.221f35fcwsQyry&search=1>\n",
      "[s]   response   <200 https://www.lazada.com.my/products/drypers-drypantz-xl42s-x-31packs-168pcs-pinkfong-limited-edition-box-free-pinkfong-toy-storage-bag-i2532262646-s11218607641.html?spm=a2o4k.searchlistcategory.list.3.221f35fcwsQyry&search=1>\n",
      "[s]   settings   <scrapy.settings.Settings object at 0x7f8bbeb0cb80>\n",
      "[s]   spider     <DefaultSpider 'default' at 0x7f8bbe7ede80>\n",
      "[s] Useful shortcuts:\n",
      "[s]   fetch(url[, redirect=True]) Fetch URL and update local objects (by default, redirects are followed)\n",
      "[s]   fetch(req)                  Fetch a scrapy.Request and update local objects \n",
      "[s]   shelp()           Shell help (print this help)\n",
      "[s]   view(response)    View response in a browser\n",
      "In [1]: Out[1]: ['Drypers Drypantz XL42s x 3+1packs (168pcs) Pinkfong Limited Edition Box Free Pinkfong Toy Storage Bag']\n",
      "\n",
      "In [2]: Out[2]: ['RM116.90', 'RM163.20', '-28%']\n",
      "\n",
      "In [3]: \n",
      "In [4]: Do you really want to exit ([y]/n)? \n",
      "\n"
     ]
    },
    {
     "name": "stderr",
     "output_type": "stream",
     "text": [
      "2021-12-11 15:57:08 [scrapy.utils.log] INFO: Scrapy 2.5.1 started (bot: scrapybot)\n",
      "2021-12-11 15:57:08 [scrapy.utils.log] INFO: Versions: lxml 4.6.4.0, libxml2 2.9.10, cssselect 1.1.0, parsel 1.6.0, w3lib 1.22.0, Twisted 21.7.0, Python 3.8.10 (default, Sep 28 2021, 16:10:42) - [GCC 9.3.0], pyOpenSSL 21.0.0 (OpenSSL 1.1.1l  24 Aug 2021), cryptography 36.0.0, Platform Linux-5.11.0-41-generic-x86_64-with-glibc2.29\n",
      "2021-12-11 15:57:08 [scrapy.utils.log] DEBUG: Using reactor: twisted.internet.epollreactor.EPollReactor\n",
      "2021-12-11 15:57:08 [scrapy.crawler] INFO: Overridden settings:\n",
      "{'DUPEFILTER_CLASS': 'scrapy.dupefilters.BaseDupeFilter',\n",
      " 'LOGSTATS_INTERVAL': 0}\n",
      "2021-12-11 15:57:08 [scrapy.extensions.telnet] INFO: Telnet Password: ac0f884a3409f8b1\n",
      "2021-12-11 15:57:08 [scrapy.middleware] INFO: Enabled extensions:\n",
      "['scrapy.extensions.corestats.CoreStats',\n",
      " 'scrapy.extensions.telnet.TelnetConsole',\n",
      " 'scrapy.extensions.memusage.MemoryUsage']\n",
      "2021-12-11 15:57:08 [scrapy.middleware] INFO: Enabled downloader middlewares:\n",
      "['scrapy.downloadermiddlewares.httpauth.HttpAuthMiddleware',\n",
      " 'scrapy.downloadermiddlewares.downloadtimeout.DownloadTimeoutMiddleware',\n",
      " 'scrapy.downloadermiddlewares.defaultheaders.DefaultHeadersMiddleware',\n",
      " 'scrapy.downloadermiddlewares.useragent.UserAgentMiddleware',\n",
      " 'scrapy.downloadermiddlewares.retry.RetryMiddleware',\n",
      " 'scrapy.downloadermiddlewares.redirect.MetaRefreshMiddleware',\n",
      " 'scrapy.downloadermiddlewares.httpcompression.HttpCompressionMiddleware',\n",
      " 'scrapy.downloadermiddlewares.redirect.RedirectMiddleware',\n",
      " 'scrapy.downloadermiddlewares.cookies.CookiesMiddleware',\n",
      " 'scrapy.downloadermiddlewares.httpproxy.HttpProxyMiddleware',\n",
      " 'scrapy.downloadermiddlewares.stats.DownloaderStats']\n",
      "2021-12-11 15:57:08 [scrapy.middleware] INFO: Enabled spider middlewares:\n",
      "['scrapy.spidermiddlewares.httperror.HttpErrorMiddleware',\n",
      " 'scrapy.spidermiddlewares.offsite.OffsiteMiddleware',\n",
      " 'scrapy.spidermiddlewares.referer.RefererMiddleware',\n",
      " 'scrapy.spidermiddlewares.urllength.UrlLengthMiddleware',\n",
      " 'scrapy.spidermiddlewares.depth.DepthMiddleware']\n",
      "2021-12-11 15:57:08 [scrapy.middleware] INFO: Enabled item pipelines:\n",
      "[]\n",
      "2021-12-11 15:57:08 [scrapy.extensions.telnet] INFO: Telnet console listening on 127.0.0.1:6023\n",
      "2021-12-11 15:57:08 [scrapy.core.engine] INFO: Spider opened\n",
      "2021-12-11 15:57:08 [scrapy.core.engine] DEBUG: Crawled (200) <GET https://www.lazada.com.my/products/drypers-drypantz-xl42s-x-31packs-168pcs-pinkfong-limited-edition-box-free-pinkfong-toy-storage-bag-i2532262646-s11218607641.html?spm=a2o4k.searchlistcategory.list.3.221f35fcwsQyry&search=1> (referer: None)\n"
     ]
    }
   ],
   "source": [
    "%%bash\n",
    "scrapy shell 'https://www.lazada.com.my/products/drypers-drypantz-xl42s-x-31packs-168pcs-pinkfong-limited-edition-box-free-pinkfong-toy-storage-bag-i2532262646-s11218607641.html?spm=a2o4k.searchlistcategory.list.3.221f35fcwsQyry&search=1'\n",
    "response.css('h1.pdp-mod-product-badge-title::text').getall()\n",
    "response.css('div.pdp-product-price span::text').getall()\n",
    "# response.xpath(\"//li[contains(@class, 'lzd-site-menu-root-item')]//span/text()\").get()"
   ]
  },
  {
   "cell_type": "code",
   "execution_count": null,
   "id": "2da0f3d0-e052-4996-9542-30432eae1365",
   "metadata": {},
   "outputs": [],
   "source": [
    "%%writefile ./Lazada/test_spider.py\n",
    "import scrapy\n",
    "\n",
    "class LazadaSpider(scrapy.Spider):\n",
    "    name = \"Lazada\"\n",
    "    start_urls = ['https://www.lazada.com.my/']\n",
    "\n",
    "    def parse(self, response):\n",
    "        for title in response.css('a.oxy-post-title'):\n",
    "            yield {'title': title.css('::text').get()}\n",
    "            \n",
    "        for next_page in response.css('a.next'):\n",
    "            yield response.follow(next_page, self.parse)"
   ]
  },
  {
   "cell_type": "code",
   "execution_count": null,
   "id": "62b4484e-47c2-4880-a082-3f68a044a304",
   "metadata": {
    "tags": []
   },
   "outputs": [],
   "source": [
    "%%bash\n",
    "cd Lazada\n",
    "scrapy runspider test_spider.py"
   ]
  },
  {
   "cell_type": "code",
   "execution_count": null,
   "id": "9e814699-086c-45b4-99e0-0c041142925a",
   "metadata": {
    "tags": []
   },
   "outputs": [],
   "source": [
    "%%writefile ./Lazada/Lazada/spiders/Lazada_spider.py\n",
    "import scrapy\n",
    "\n",
    "class LazadaSpider(scrapy.Spider):\n",
    "    name = \"Lazada\"\n",
    "    start_urls = ['https://www.zyte.com/blog/']\n",
    "\n",
    "    def parse(self, response):\n",
    "        for parse in response.css('div.quote'):\n",
    "            yield {\n",
    "                'text': quote.css('span.text::text').get(),\n",
    "                'author': quote.css('small.author::text').get(),\n",
    "                'tags': quote.css('div.tags a.tag::text').getall()\n",
    "            }"
   ]
  },
  {
   "cell_type": "code",
   "execution_count": null,
   "id": "767ef97f-620c-4d13-80ca-9d1011335278",
   "metadata": {
    "tags": []
   },
   "outputs": [],
   "source": [
    "%%bash\n",
    "cd Lazada\n",
    "scrapy crawl Lazada -o Lazada.jl"
   ]
  },
  {
   "cell_type": "code",
   "execution_count": null,
   "id": "9d6380f4-899a-496c-aa91-526f2ddf4319",
   "metadata": {},
   "outputs": [],
   "source": [
    "%%writefile lazada.py\n",
    "import scrapy\n",
    "\n",
    "class LazadaSpider(scrapy.Spider):\n",
    "    name = 'lazada'\n",
    "    start_urls = ['https://www.lazada.com.my/']\n",
    "\n",
    "    def parse(self, response):\n",
    "        for title in response.css('div.quote'):\n",
    "            yield {\n",
    "                'author': quote.xpath('span/small/text()').get(),\n",
    "                'text': quote.css('span.text::text').get(),\n",
    "            }\n",
    "\n",
    "        next_page = response.css('li.next a::attr(\"href\")').get()\n",
    "        if next_page is not None:\n",
    "            yield response.follow(next_page, self.parse)"
   ]
  },
  {
   "cell_type": "code",
   "execution_count": null,
   "id": "0cc89ca8-9a47-449e-86b0-ae7f71c425ec",
   "metadata": {
    "tags": []
   },
   "outputs": [],
   "source": [
    "%%bash\n",
    "\n",
    "scrapy runspider quotes_spider.py -o quotes.jl"
   ]
  }
 ],
 "metadata": {
  "kernelspec": {
   "display_name": "Python 3 (ipykernel)",
   "language": "python",
   "name": "python3"
  },
  "language_info": {
   "codemirror_mode": {
    "name": "ipython",
    "version": 3
   },
   "file_extension": ".py",
   "mimetype": "text/x-python",
   "name": "python",
   "nbconvert_exporter": "python",
   "pygments_lexer": "ipython3",
   "version": "3.8.10"
  }
 },
 "nbformat": 4,
 "nbformat_minor": 5
}
