{
  "nbformat": 4,
  "nbformat_minor": 0,
  "metadata": {
    "colab": {
      "name": "Mydin.ipynb",
      "provenance": [],
      "authorship_tag": "ABX9TyM+LqusCp+XXWjHfinforSu",
      "include_colab_link": true
    },
    "kernelspec": {
      "name": "python3",
      "display_name": "Python 3"
    },
    "language_info": {
      "name": "python"
    }
  },
  "cells": [
    {
      "cell_type": "markdown",
      "metadata": {
        "id": "view-in-github",
        "colab_type": "text"
      },
      "source": [
        "<a href=\"https://colab.research.google.com/github/MengOonLee/Web_scraping/blob/master/Mydin.ipynb\" target=\"_parent\"><img src=\"https://colab.research.google.com/assets/colab-badge.svg\" alt=\"Open In Colab\"/></a>"
      ]
    },
    {
      "cell_type": "code",
      "execution_count": 1,
      "metadata": {
        "id": "GQbLvL8pGfBk"
      },
      "outputs": [],
      "source": [
        "%%bash\n",
        "pip install -qU scrapy"
      ]
    },
    {
      "cell_type": "code",
      "source": [
        "%%bash\n",
        "scrapy startproject Mydin"
      ],
      "metadata": {
        "id": "HR5DNVJcHBFq",
        "outputId": "d70127e6-7de2-457e-c228-d3a0ca16e2cf",
        "colab": {
          "base_uri": "https://localhost:8080/"
        }
      },
      "execution_count": 2,
      "outputs": [
        {
          "output_type": "stream",
          "name": "stdout",
          "text": [
            "New Scrapy project 'Mydin', using template directory '/usr/local/lib/python3.7/dist-packages/scrapy/templates/project', created in:\n",
            "    /content/Mydin\n",
            "\n",
            "You can start your first spider with:\n",
            "    cd Mydin\n",
            "    scrapy genspider example example.com\n"
          ]
        }
      ]
    },
    {
      "cell_type": "code",
      "source": [
        "%%bash\n",
        "cd Mydin\n",
        "scrapy genspider example example.com"
      ],
      "metadata": {
        "id": "g1qGQA48HITR",
        "outputId": "06143a3f-ecc3-484e-ccfd-530bda985887",
        "colab": {
          "base_uri": "https://localhost:8080/"
        }
      },
      "execution_count": 3,
      "outputs": [
        {
          "output_type": "stream",
          "name": "stdout",
          "text": [
            "Created spider 'example' using template 'basic' in module:\n",
            "  Mydin.spiders.example\n"
          ]
        }
      ]
    },
    {
      "cell_type": "code",
      "source": [
        "%%bash\n",
        "cd Mydin\n",
        "scrapy crawl example"
      ],
      "metadata": {
        "id": "-GVMjBGaHgMT",
        "outputId": "bd89830b-1d35-4f80-a509-9ac1389f37f0",
        "colab": {
          "base_uri": "https://localhost:8080/"
        }
      },
      "execution_count": 5,
      "outputs": [
        {
          "output_type": "stream",
          "name": "stderr",
          "text": [
            "2022-06-04 09:50:44 [scrapy.utils.log] INFO: Scrapy 2.6.1 started (bot: Mydin)\n",
            "2022-06-04 09:50:44 [scrapy.utils.log] INFO: Versions: lxml 4.2.6.0, libxml2 2.9.8, cssselect 1.1.0, parsel 1.6.0, w3lib 1.22.0, Twisted 22.4.0, Python 3.7.13 (default, Apr 24 2022, 01:04:09) - [GCC 7.5.0], pyOpenSSL 22.0.0 (OpenSSL 3.0.3 3 May 2022), cryptography 37.0.2, Platform Linux-5.4.188+-x86_64-with-Ubuntu-18.04-bionic\n",
            "2022-06-04 09:50:44 [scrapy.crawler] INFO: Overridden settings:\n",
            "{'BOT_NAME': 'Mydin',\n",
            " 'NEWSPIDER_MODULE': 'Mydin.spiders',\n",
            " 'ROBOTSTXT_OBEY': True,\n",
            " 'SPIDER_MODULES': ['Mydin.spiders']}\n",
            "2022-06-04 09:50:44 [scrapy.utils.log] DEBUG: Using reactor: twisted.internet.epollreactor.EPollReactor\n",
            "2022-06-04 09:50:44 [scrapy.extensions.telnet] INFO: Telnet Password: 310aff3ba6e28819\n",
            "2022-06-04 09:50:44 [scrapy.middleware] INFO: Enabled extensions:\n",
            "['scrapy.extensions.corestats.CoreStats',\n",
            " 'scrapy.extensions.telnet.TelnetConsole',\n",
            " 'scrapy.extensions.memusage.MemoryUsage',\n",
            " 'scrapy.extensions.logstats.LogStats']\n",
            "2022-06-04 09:50:44 [scrapy.middleware] INFO: Enabled downloader middlewares:\n",
            "['scrapy.downloadermiddlewares.robotstxt.RobotsTxtMiddleware',\n",
            " 'scrapy.downloadermiddlewares.httpauth.HttpAuthMiddleware',\n",
            " 'scrapy.downloadermiddlewares.downloadtimeout.DownloadTimeoutMiddleware',\n",
            " 'scrapy.downloadermiddlewares.defaultheaders.DefaultHeadersMiddleware',\n",
            " 'scrapy.downloadermiddlewares.useragent.UserAgentMiddleware',\n",
            " 'scrapy.downloadermiddlewares.retry.RetryMiddleware',\n",
            " 'scrapy.downloadermiddlewares.redirect.MetaRefreshMiddleware',\n",
            " 'scrapy.downloadermiddlewares.httpcompression.HttpCompressionMiddleware',\n",
            " 'scrapy.downloadermiddlewares.redirect.RedirectMiddleware',\n",
            " 'scrapy.downloadermiddlewares.cookies.CookiesMiddleware',\n",
            " 'scrapy.downloadermiddlewares.httpproxy.HttpProxyMiddleware',\n",
            " 'scrapy.downloadermiddlewares.stats.DownloaderStats']\n",
            "2022-06-04 09:50:44 [scrapy.middleware] INFO: Enabled spider middlewares:\n",
            "['scrapy.spidermiddlewares.httperror.HttpErrorMiddleware',\n",
            " 'scrapy.spidermiddlewares.offsite.OffsiteMiddleware',\n",
            " 'scrapy.spidermiddlewares.referer.RefererMiddleware',\n",
            " 'scrapy.spidermiddlewares.urllength.UrlLengthMiddleware',\n",
            " 'scrapy.spidermiddlewares.depth.DepthMiddleware']\n",
            "2022-06-04 09:50:44 [scrapy.middleware] INFO: Enabled item pipelines:\n",
            "[]\n",
            "2022-06-04 09:50:44 [scrapy.core.engine] INFO: Spider opened\n",
            "2022-06-04 09:50:44 [scrapy.extensions.logstats] INFO: Crawled 0 pages (at 0 pages/min), scraped 0 items (at 0 items/min)\n",
            "2022-06-04 09:50:44 [scrapy.extensions.telnet] INFO: Telnet console listening on 127.0.0.1:6023\n",
            "2022-06-04 09:50:44 [scrapy.core.engine] DEBUG: Crawled (404) <GET http://example.com/robots.txt> (referer: None)\n",
            "2022-06-04 09:50:44 [protego] DEBUG: Rule at line 12 without any user agent to enforce it on.\n",
            "2022-06-04 09:50:44 [protego] DEBUG: Rule at line 13 without any user agent to enforce it on.\n",
            "2022-06-04 09:50:44 [protego] DEBUG: Rule at line 14 without any user agent to enforce it on.\n",
            "2022-06-04 09:50:44 [protego] DEBUG: Rule at line 18 without any user agent to enforce it on.\n",
            "2022-06-04 09:50:44 [protego] DEBUG: Rule at line 19 without any user agent to enforce it on.\n",
            "2022-06-04 09:50:44 [protego] DEBUG: Rule at line 20 without any user agent to enforce it on.\n",
            "2022-06-04 09:50:44 [protego] DEBUG: Rule at line 22 without any user agent to enforce it on.\n",
            "2022-06-04 09:50:44 [protego] DEBUG: Rule at line 23 without any user agent to enforce it on.\n",
            "2022-06-04 09:50:44 [protego] DEBUG: Rule at line 25 without any user agent to enforce it on.\n",
            "2022-06-04 09:50:44 [protego] DEBUG: Rule at line 27 without any user agent to enforce it on.\n",
            "2022-06-04 09:50:44 [protego] DEBUG: Rule at line 29 without any user agent to enforce it on.\n",
            "2022-06-04 09:50:44 [protego] DEBUG: Rule at line 31 without any user agent to enforce it on.\n",
            "2022-06-04 09:50:44 [protego] DEBUG: Rule at line 32 without any user agent to enforce it on.\n",
            "2022-06-04 09:50:44 [protego] DEBUG: Rule at line 43 without any user agent to enforce it on.\n",
            "2022-06-04 09:50:44 [scrapy.core.engine] DEBUG: Crawled (200) <GET http://example.com/> (referer: None)\n",
            "2022-06-04 09:50:44 [scrapy.core.engine] INFO: Closing spider (finished)\n",
            "2022-06-04 09:50:44 [scrapy.statscollectors] INFO: Dumping Scrapy stats:\n",
            "{'downloader/request_bytes': 432,\n",
            " 'downloader/request_count': 2,\n",
            " 'downloader/request_method_count/GET': 2,\n",
            " 'downloader/response_bytes': 2040,\n",
            " 'downloader/response_count': 2,\n",
            " 'downloader/response_status_count/200': 1,\n",
            " 'downloader/response_status_count/404': 1,\n",
            " 'elapsed_time_seconds': 0.157927,\n",
            " 'finish_reason': 'finished',\n",
            " 'finish_time': datetime.datetime(2022, 6, 4, 9, 50, 44, 907030),\n",
            " 'httpcompression/response_bytes': 2512,\n",
            " 'httpcompression/response_count': 2,\n",
            " 'log_count/DEBUG': 17,\n",
            " 'log_count/INFO': 10,\n",
            " 'memusage/max': 68263936,\n",
            " 'memusage/startup': 68263936,\n",
            " 'response_received_count': 2,\n",
            " 'robotstxt/request_count': 1,\n",
            " 'robotstxt/response_count': 1,\n",
            " 'robotstxt/response_status_count/404': 1,\n",
            " 'scheduler/dequeued': 1,\n",
            " 'scheduler/dequeued/memory': 1,\n",
            " 'scheduler/enqueued': 1,\n",
            " 'scheduler/enqueued/memory': 1,\n",
            " 'start_time': datetime.datetime(2022, 6, 4, 9, 50, 44, 749103)}\n",
            "2022-06-04 09:50:44 [scrapy.core.engine] INFO: Spider closed (finished)\n"
          ]
        }
      ]
    },
    {
      "cell_type": "code",
      "source": [
        ""
      ],
      "metadata": {
        "id": "1jlSge4VH4D4"
      },
      "execution_count": null,
      "outputs": []
    }
  ]
}