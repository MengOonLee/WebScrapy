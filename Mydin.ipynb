{
 "cells": [
  {
   "cell_type": "markdown",
   "metadata": {
    "colab_type": "text",
    "id": "view-in-github"
   },
   "source": [
    "<a href=\"https://colab.research.google.com/github/MengOonLee/Web_scraping/blob/master/Mydin.ipynb\" target=\"_parent\"><img src=\"https://colab.research.google.com/assets/colab-badge.svg\" alt=\"Open In Colab\"/></a>"
   ]
  },
  {
   "cell_type": "markdown",
   "metadata": {},
   "source": [
    "# Mydin"
   ]
  },
  {
   "cell_type": "code",
   "execution_count": 1,
   "metadata": {
    "id": "GQbLvL8pGfBk"
   },
   "outputs": [
    {
     "name": "stdout",
     "output_type": "stream",
     "text": [
      "No broken requirements found.\n"
     ]
    }
   ],
   "source": [
    "%%bash\n",
    "\n",
    "pip install --no-cache-dir -qU pip wheel\n",
    "pip install --no-cache-dir -qU scrapy\n",
    "pip check"
   ]
  },
  {
   "cell_type": "code",
   "execution_count": null,
   "metadata": {
    "scrolled": true,
    "tags": []
   },
   "outputs": [],
   "source": [
    "from scrapy import Selector\n",
    "import requests\n",
    "\n",
    "url = \"https://mydinexpress.my/hypermart/product-category/grocery/\"\n",
    "html = requests.get(url).content\n",
    "\n",
    "sel = Selector(text=html)\n",
    "products = sel.xpath('//div[contains(@class, \"product-grid-item\")]')\n",
    "for p in products:\n",
    "    title = p.css('h3.product-title::text').extract_first()\n",
    "    price = ''.join(p.css('span.price ::text').extract())\n",
    "    print(title, ',', price)\n",
    "    \n",
    "next_page = sel.xpath('//div[@class=\"products-footer\"]/a/@href').extract()\n",
    "print(next_page)"
   ]
  },
  {
   "cell_type": "code",
   "execution_count": 3,
   "metadata": {
    "colab": {
     "base_uri": "https://localhost:8080/"
    },
    "id": "HR5DNVJcHBFq",
    "outputId": "d70127e6-7de2-457e-c228-d3a0ca16e2cf"
   },
   "outputs": [
    {
     "name": "stdout",
     "output_type": "stream",
     "text": [
      "New Scrapy project 'Mydin', using template directory '/home/meng/venv/lib/python3.8/site-packages/scrapy/templates/project', created in:\n",
      "    /home/meng/work/Airflow/dags/Scrapy/Mydin\n",
      "\n",
      "You can start your first spider with:\n",
      "    cd Mydin\n",
      "    scrapy genspider example example.com\n"
     ]
    }
   ],
   "source": [
    "%%bash\n",
    "cd /home/meng/work/Airflow/dags/Scrapy\n",
    "scrapy startproject Mydin"
   ]
  },
  {
   "cell_type": "code",
   "execution_count": 4,
   "metadata": {
    "colab": {
     "base_uri": "https://localhost:8080/"
    },
    "id": "-GVMjBGaHgMT",
    "outputId": "bd89830b-1d35-4f80-a509-9ac1389f37f0"
   },
   "outputs": [
    {
     "name": "stdout",
     "output_type": "stream",
     "text": [
      "Writing /home/meng/work/Airflow/dags/Scrapy/Mydin/Mydin/spiders/grocery_spider.py\n"
     ]
    }
   ],
   "source": [
    "%%writefile /home/meng/work/Airflow/dags/Scrapy/Mydin/Mydin/spiders/grocery_spider.py\n",
    "import scrapy\n",
    "import datetime\n",
    "\n",
    "class GrocerySpider(scrapy.Spider):\n",
    "    name = 'grocery'\n",
    "    start_urls = [\"https://mydinexpress.my/hypermart/product-category/grocery/\"]\n",
    "    \n",
    "    def parse(self, response):\n",
    "        for product in response.xpath('//div[contains(@class, \"product-grid-item\")]'):\n",
    "            yield {\n",
    "                'name': product.css('h3.product-title::text').get(),\n",
    "                'price': ''.join(product.css('span.price ::text').getall()),\n",
    "                'datetime': datetime.datetime.now()\n",
    "            }\n",
    "            \n",
    "        for next_page in response.xpath('//div[@class=\"products-footer\"]/a/@href'):\n",
    "            yield response.follow(next_page, self.parse)"
   ]
  },
  {
   "cell_type": "code",
   "execution_count": 13,
   "metadata": {},
   "outputs": [],
   "source": [
    "import os\n",
    "os.umask(0)\n",
    "os.makedirs(\"/home/meng/work/Airflow/dags/Scrapy/Mydin/data\", \n",
    "    exist_ok=True, mode=0o777)"
   ]
  },
  {
   "cell_type": "code",
   "execution_count": 55,
   "metadata": {},
   "outputs": [
    {
     "name": "stdout",
     "output_type": "stream",
     "text": [
      "Overwriting /home/meng/work/Airflow/dags/Scrapy/Mydin/dag.py\n"
     ]
    }
   ],
   "source": [
    "%%writefile /home/meng/work/Airflow/dags/Scrapy/Mydin/dag.py\n",
    "import os\n",
    "import datetime\n",
    "from textwrap import dedent\n",
    "from airflow import DAG\n",
    "from airflow.operators.bash import BashOperator\n",
    "\n",
    "yesterday = datetime.datetime.combine(\n",
    "    datetime.datetime.today() - datetime.timedelta(1),\n",
    "    datetime.datetime.min.time())\n",
    "\n",
    "with DAG(\n",
    "    dag_id=\"Mydin_scrapy\",\n",
    "    default_args={\n",
    "        \"email\": [\"darklemonlee@yahoo.co.uk\"],\n",
    "        \"email_on_failure\": True\n",
    "    },\n",
    "    start_date=yesterday,\n",
    "    schedule_interval=\"@daily\",\n",
    "    tags=[\"Test\"]\n",
    ") as dag:\n",
    "    \n",
    "    grocery = BashOperator(\n",
    "        task_id=\"grocery\",\n",
    "        bash_command=dedent(\"\"\"\n",
    "            cd ${AIRFLOW_HOME}/dags/Scrapy/Mydin\n",
    "            scrapy crawl grocery -O {{ params.filename }}_{{ ds_nodash }}.jl\n",
    "        \"\"\"),\n",
    "        params={\n",
    "            \"filename\": \"./data/grocery\"\n",
    "        }\n",
    "    )"
   ]
  }
 ],
 "metadata": {
  "colab": {
   "authorship_tag": "ABX9TyNJHEvIgZhhzQZIr7CVEfq9",
   "include_colab_link": true,
   "name": "Mydin.ipynb",
   "provenance": []
  },
  "kernelspec": {
   "display_name": "Python 3 (ipykernel)",
   "language": "python",
   "name": "python3"
  },
  "language_info": {
   "codemirror_mode": {
    "name": "ipython",
    "version": 3
   },
   "file_extension": ".py",
   "mimetype": "text/x-python",
   "name": "python",
   "nbconvert_exporter": "python",
   "pygments_lexer": "ipython3",
   "version": "3.8.10"
  }
 },
 "nbformat": 4,
 "nbformat_minor": 4
}
