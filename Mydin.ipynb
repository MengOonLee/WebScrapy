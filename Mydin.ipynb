{
 "cells": [
  {
   "cell_type": "markdown",
   "metadata": {
    "colab_type": "text",
    "id": "view-in-github"
   },
   "source": [
    "<a href=\"https://colab.research.google.com/github/MengOonLee/Web_scraping/blob/master/Mydin.ipynb\" target=\"_parent\"><img src=\"https://colab.research.google.com/assets/colab-badge.svg\" alt=\"Open In Colab\"/></a>"
   ]
  },
  {
   "cell_type": "markdown",
   "metadata": {},
   "source": [
    "# Mydin"
   ]
  },
  {
   "cell_type": "code",
   "execution_count": 1,
   "metadata": {
    "id": "GQbLvL8pGfBk"
   },
   "outputs": [
    {
     "name": "stdout",
     "output_type": "stream",
     "text": [
      "No broken requirements found.\n"
     ]
    }
   ],
   "source": [
    "%%bash\n",
    "\n",
    "pip install --no-cache-dir -qU pip wheel\n",
    "pip install --no-cache-dir -qU numpy pandas matplotlib seaborn\n",
    "pip install --no-cache-dir -qU scrapy\n",
    "pip check"
   ]
  },
  {
   "cell_type": "code",
   "execution_count": 2,
   "metadata": {
    "colab": {
     "base_uri": "https://localhost:8080/"
    },
    "id": "HR5DNVJcHBFq",
    "outputId": "d70127e6-7de2-457e-c228-d3a0ca16e2cf"
   },
   "outputs": [
    {
     "name": "stdout",
     "output_type": "stream",
     "text": [
      "New Scrapy project 'Mydin', using template directory '/home/meng/venv/lib/python3.8/site-packages/scrapy/templates/project', created in:\n",
      "    /home/meng/work/Web_scraping/Mydin\n",
      "\n",
      "You can start your first spider with:\n",
      "    cd Mydin\n",
      "    scrapy genspider example example.com\n"
     ]
    }
   ],
   "source": [
    "%%bash\n",
    "\n",
    "scrapy startproject Mydin"
   ]
  },
  {
   "cell_type": "code",
   "execution_count": 4,
   "metadata": {},
   "outputs": [
    {
     "name": "stdout",
     "output_type": "stream",
     "text": [
      "Writing ./Mydin/venv.sh\n"
     ]
    }
   ],
   "source": [
    "%%writefile ./Mydin/venv.sh\n",
    "pip install --no-cache-dir -U pip wheel\n",
    "pip install --no-cache-dir -U scrapy\n",
    "pip check"
   ]
  },
  {
   "cell_type": "code",
   "execution_count": 102,
   "metadata": {
    "scrolled": true,
    "tags": []
   },
   "outputs": [
    {
     "name": "stdout",
     "output_type": "stream",
     "text": [
      "Kismis Golden Raisins (±350g) , RM5.60\n",
      "Munchy’s Lexus Sandwich Biscuits (456g) – Chocolate Cream ~ , RM8.90\n",
      "Lay’s Stax Chips (135g) – Sour Cream & Onion ~ , RM5.20\n",
      "Lay’s Stax Chips (135g) – Barbecue BBQ ~ , RM5.20\n",
      "Lay’s Stax Chips (135g) – Extra Cheese ~ , RM5.20\n",
      "Lay’s Stax Chips (135g) – Original ~ , RM5.20\n",
      "Prego Quick Cook Dried Pasta (71g) – Mac & Cheese , RM4.30\n",
      "Prego Quick Cook Dried Pasta (71g) – Mushroom Carbonara Mac , RM4.30\n",
      "Adabi Rempah Gulai Ikan / Fish Savoury Curry Powder (250g) , RM5.30\n",
      "Lay’s Potato Chips (50g) – Extra BBQ Barbecue ~ , RM3.20\n",
      "Lay’s Potato Chips (50g) – Hot Chilli Squid ~ , RM3.20\n",
      "Lay’s Potato Chips (50g) – Original ~ , RM3.20\n",
      "Lay’s Potato Chips (50g) – Nori Seaweed ~ , RM3.20\n",
      "Lay’s Potato Chips (46g) – Salted Egg ~ , RM3.20\n",
      "Maggi Fried Instant Noodle (5 x 75g) – Sambal Tumis Bilis ~ , RM6.40\n",
      "Kak Sal Sardine in Tomato Sauce (425g) ~ , RM8.80\n",
      "Kak Sal Sardine in Tomato Sauce with Chilli (425g) ~ , RM8.80\n",
      "Nureys Laksa Noodle (400g) , RM3.95\n",
      "ABH Keropok Amplang (150g) – Udang , RM9.40\n",
      "ABH Keropok Amplang (150g) – Sotong , RM9.40\n",
      "ABH Keropok Amplang (150g) – Ikan , RM9.40\n",
      "Che Din Beef Kurma with Potato (285g) , RM7.50\n",
      "Che Din Beef Curry with Potato (285g) , RM7.25\n",
      "Che Din Sardine in Tomato Sauce (425g) , RM6.35\n",
      "Prego Pasta Sauce (290g) – Mac & Cheese , RM6.90\n",
      "Kimball BBQ Sauce (240ml) , RM5.20\n",
      "Enaq Kicap Pedas (410ml) , RM5.25\n",
      "Jati Signature Beras Pusa Finest Basmathi 1121 Rice (5kg) , RM52.85\n",
      "Prego Buddies Dry Pasta (200g) – Animal , RM2.65\n",
      "Prego Buddies Dry Pasta (200g) – Ocean , RM2.65\n",
      "['https://mydinexpress.my/hypermart/product-category/grocery/page/2/']\n"
     ]
    }
   ],
   "source": [
    "from scrapy import Selector\n",
    "import requests\n",
    "\n",
    "url = \"https://mydinexpress.my/hypermart/product-category/grocery/\"\n",
    "html = requests.get(url).content\n",
    "\n",
    "sel = Selector(text=html)\n",
    "products = sel.xpath('//div[contains(@class, \"product-grid-item\")]')\n",
    "for p in products:\n",
    "    title = p.css('h3.product-title::text').extract_first()\n",
    "    price = ''.join(p.css('span.price ::text').extract())\n",
    "    print(title, ',', price)\n",
    "    \n",
    "next_page = sel.xpath('//div[@class=\"products-footer\"]/a/@href').extract()\n",
    "print(next_page)"
   ]
  },
  {
   "cell_type": "code",
   "execution_count": 103,
   "metadata": {
    "colab": {
     "base_uri": "https://localhost:8080/"
    },
    "id": "-GVMjBGaHgMT",
    "outputId": "bd89830b-1d35-4f80-a509-9ac1389f37f0"
   },
   "outputs": [
    {
     "name": "stdout",
     "output_type": "stream",
     "text": [
      "Overwriting ./Mydin/Mydin/spiders/grocey_spider.py\n"
     ]
    }
   ],
   "source": [
    "%%writefile ./Mydin/Mydin/spiders/grocey_spider.py\n",
    "import scrapy\n",
    "import datetime\n",
    "\n",
    "class GrocerySpider(scrapy.Spider):\n",
    "    name = 'grocery'\n",
    "    start_urls = [\"https://mydinexpress.my/hypermart/product-category/grocery/\"]\n",
    "    \n",
    "    def parse(self, response):\n",
    "        for product in response.xpath('//div[contains(@class, \"product-grid-item\")]'):\n",
    "            yield {\n",
    "                'name': product.css('h3.product-title::text').get(),\n",
    "                'price': ''.join(product.css('span.price ::text').getall()),\n",
    "                'datetime': datetime.datetime.now()\n",
    "            }\n",
    "            \n",
    "        for next_page in response.xpath('//div[@class=\"products-footer\"]/a/@href'):\n",
    "            yield response.follow(next_page, self.parse)"
   ]
  },
  {
   "cell_type": "code",
   "execution_count": 104,
   "metadata": {
    "id": "1jlSge4VH4D4"
   },
   "outputs": [
    {
     "name": "stdout",
     "output_type": "stream",
     "text": [
      "Overwriting ./Mydin/run.sh\n"
     ]
    }
   ],
   "source": [
    "%%writefile ./Mydin/run.sh\n",
    "#!/bin/bash\n",
    "\n",
    "scrapy crawl grocery -O ./data/grocey.jl"
   ]
  }
 ],
 "metadata": {
  "colab": {
   "authorship_tag": "ABX9TyNJHEvIgZhhzQZIr7CVEfq9",
   "include_colab_link": true,
   "name": "Mydin.ipynb",
   "provenance": []
  },
  "kernelspec": {
   "display_name": "Python 3 (ipykernel)",
   "language": "python",
   "name": "python3"
  },
  "language_info": {
   "codemirror_mode": {
    "name": "ipython",
    "version": 3
   },
   "file_extension": ".py",
   "mimetype": "text/x-python",
   "name": "python",
   "nbconvert_exporter": "python",
   "pygments_lexer": "ipython3",
   "version": "3.8.10"
  }
 },
 "nbformat": 4,
 "nbformat_minor": 4
}
